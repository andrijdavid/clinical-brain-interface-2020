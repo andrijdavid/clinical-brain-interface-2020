{
 "cells": [
  {
   "cell_type": "markdown",
   "metadata": {},
   "source": [
    "created by Ignacio Oguiza - email: oguiza@gmail.com"
   ]
  },
  {
   "cell_type": "code",
   "execution_count": 1,
   "metadata": {
    "ExecuteTime": {
     "end_time": "2019-10-19T17:32:05.269499Z",
     "start_time": "2019-10-19T17:32:05.256953Z"
    },
    "hide_input": true
   },
   "outputs": [
    {
     "data": {
      "application/javascript": [
       "utils.load_extension('collapsible_headings/main')\n",
       "utils.load_extension('hide_input/main')\n",
       "utils.load_extension('autosavetime/main')\n",
       "utils.load_extension('execute_time/ExecuteTime')\n",
       "utils.load_extension('code_prettify/code_prettify')\n",
       "utils.load_extension('scroll_down/main')\n",
       "utils.load_extension('jupyter-js-widgets/extension')\n"
      ],
      "text/plain": [
       "<IPython.core.display.Javascript object>"
      ]
     },
     "metadata": {},
     "output_type": "display_data"
    }
   ],
   "source": [
    "%%javascript\n",
    "utils.load_extension('collapsible_headings/main')\n",
    "utils.load_extension('hide_input/main')\n",
    "utils.load_extension('autosavetime/main')\n",
    "utils.load_extension('execute_time/ExecuteTime')\n",
    "utils.load_extension('code_prettify/code_prettify')\n",
    "utils.load_extension('scroll_down/main')\n",
    "utils.load_extension('jupyter-js-widgets/extension')"
   ]
  },
  {
   "cell_type": "markdown",
   "metadata": {
    "heading_collapsed": true
   },
   "source": [
    "## 00. Purpose 😇"
   ]
  },
  {
   "cell_type": "markdown",
   "metadata": {
    "hidden": true
   },
   "source": [
    "The purpose of this notebook is to show you how you can create a simple, state-of-the-art time series classification model using the great **fastai-v1** library in 4 steps:\n",
    "1. Import libraries\n",
    "2. Prepare data\n",
    "3. Build learner\n",
    "4. Train model\n",
    "\n",
    "In general, there are 3 main ways to classify time series, based on the input to the neural network:\n",
    "\n",
    "- raw data\n",
    "\n",
    "- image data (encoded from raw data)\n",
    "\n",
    "- feature data (extracted from raw data)\n",
    "\n",
    "In this notebook, we will use the first approach. We will cover other approaches in future notebooks.\n",
    "\n",
    "Throughout the notebook you will see this ✳️. It means there's some value you need to select."
   ]
  },
  {
   "cell_type": "markdown",
   "metadata": {
    "heading_collapsed": true
   },
   "source": [
    "## 01. Import libraries 📚"
   ]
  },
  {
   "cell_type": "markdown",
   "metadata": {
    "hidden": true
   },
   "source": [
    "There are some dependencies you need to have installed to be able to run this repo. If you don't have these packages you will need to install them: \n",
    "- pip install Cython\n",
    "- pip install pyunpack\n",
    "- pip install PyWavelets\n",
    "- pip install pyts\n",
    "- pip install fire\n",
    "- pip install nvidia-ml-py3"
   ]
  },
  {
   "cell_type": "code",
   "execution_count": 1,
   "metadata": {
    "ExecuteTime": {
     "end_time": "2019-11-04T13:05:47.665911Z",
     "start_time": "2019-11-04T13:05:47.400889Z"
    },
    "hidden": true
   },
   "outputs": [],
   "source": [
    "%reload_ext autoreload\n",
    "%autoreload 2\n",
    "%matplotlib inline"
   ]
  },
  {
   "cell_type": "code",
   "execution_count": 2,
   "metadata": {
    "ExecuteTime": {
     "end_time": "2019-11-04T13:05:50.319433Z",
     "start_time": "2019-11-04T13:05:48.263285Z"
    },
    "hidden": true,
    "scrolled": false
   },
   "outputs": [
    {
     "data": {
      "text/html": [
       "<style>.container { width:100% !important; }</style>"
      ],
      "text/plain": [
       "<IPython.core.display.HTML object>"
      ]
     },
     "metadata": {},
     "output_type": "display_data"
    },
    {
     "name": "stdout",
     "output_type": "stream",
     "text": [
      "/home/oguizadl/timeseriesAI\n",
      "fastai : 1.0.58\n",
      "torch  : 1.3.0\n",
      "device : cuda\n"
     ]
    }
   ],
   "source": [
    "import fastai, os\n",
    "from fastai_timeseries import *\n",
    "from torchtimeseries.models import *\n",
    "path = Path(os.getcwd())\n",
    "print(path)\n",
    "print('fastai :', fastai.__version__)\n",
    "print('torch  :', torch.__version__)\n",
    "print('device :', device)"
   ]
  },
  {
   "cell_type": "markdown",
   "metadata": {
    "heading_collapsed": true
   },
   "source": [
    "## 02. Prepare data 🔢"
   ]
  },
  {
   "cell_type": "markdown",
   "metadata": {
    "heading_collapsed": true,
    "hidden": true
   },
   "source": [
    "### Download data ⬇️"
   ]
  },
  {
   "cell_type": "markdown",
   "metadata": {
    "hidden": true
   },
   "source": [
    "In this notebook, we'll use one of the most widely used time series classification databases: UEA & UCR Time Series Classification Repository. As of Sep 2019 it contains 128 univariate datasets and 30 multivariate datasets.\n"
   ]
  },
  {
   "cell_type": "code",
   "execution_count": 3,
   "metadata": {
    "ExecuteTime": {
     "end_time": "2019-11-04T13:05:55.751663Z",
     "start_time": "2019-11-04T13:05:55.710129Z"
    },
    "hidden": true
   },
   "outputs": [
    {
     "name": "stdout",
     "output_type": "stream",
     "text": [
      "['ACSF1',\n",
      " 'Adiac',\n",
      " 'AllGestureWiimoteX',\n",
      " 'AllGestureWiimoteY',\n",
      " 'AllGestureWiimoteZ',\n",
      " 'ArrowHead',\n",
      " 'AsphaltObstacles',\n",
      " 'BME',\n",
      " 'Beef',\n",
      " 'BeetleFly',\n",
      " 'BirdChicken',\n",
      " 'CBF',\n",
      " 'Car',\n",
      " 'Chinatown',\n",
      " 'ChlorineConcentration',\n",
      " 'CinCECGTorso',\n",
      " 'Coffee',\n",
      " 'Computers',\n",
      " 'CricketX',\n",
      " 'CricketY',\n",
      " 'CricketZ',\n",
      " 'Crop',\n",
      " 'DiatomSizeReduction',\n",
      " 'DistalPhalanxOutlineAgeGroup',\n",
      " 'DistalPhalanxOutlineCorrect',\n",
      " 'DistalPhalanxTW',\n",
      " 'DodgerLoopDay',\n",
      " 'DodgerLoopGame',\n",
      " 'DodgerLoopWeekend',\n",
      " 'ECG200',\n",
      " 'ECG5000',\n",
      " 'ECGFiveDays',\n",
      " 'EOGHorizontalSignal',\n",
      " 'EOGVerticalSignal',\n",
      " 'Earthquakes',\n",
      " 'ElectricDevices',\n",
      " 'EthanolLevel',\n",
      " 'FaceAll',\n",
      " 'FaceFour',\n",
      " 'FacesUCR',\n",
      " 'FiftyWords',\n",
      " 'Fish',\n",
      " 'FordA',\n",
      " 'FordB',\n",
      " 'FreezerRegularTrain',\n",
      " 'FreezerSmallTrain',\n",
      " 'Fungi',\n",
      " 'GestureMidAirD1',\n",
      " 'GestureMidAirD2',\n",
      " 'GestureMidAirD3',\n",
      " 'GesturePebbleZ1',\n",
      " 'GesturePebbleZ2',\n",
      " 'GunPoint',\n",
      " 'GunPointAgeSpan',\n",
      " 'GunPointMaleVersusFemale',\n",
      " 'GunPointOldVersusYoung',\n",
      " 'Ham',\n",
      " 'HandOutlines',\n",
      " 'Haptics',\n",
      " 'Herring',\n",
      " 'HouseTwenty',\n",
      " 'InlineSkate',\n",
      " 'InsectEPGRegularTrain',\n",
      " 'InsectEPGSmallTrain',\n",
      " 'InsectWingbeatSound',\n",
      " 'ItalyPowerDemand',\n",
      " 'LargeKitchenAppliances',\n",
      " 'Lightning2',\n",
      " 'Lightning7',\n",
      " 'Mallat',\n",
      " 'Meat',\n",
      " 'MedicalImages',\n",
      " 'MelbournePedestrian',\n",
      " 'MiddlePhalanxOutlineAgeGroup',\n",
      " 'MiddlePhalanxOutlineCorrect',\n",
      " 'MiddlePhalanxTW',\n",
      " 'MixedShapesRegularTrain',\n",
      " 'MixedShapesSmallTrain',\n",
      " 'MoteStrain',\n",
      " 'NonInvasiveFetalECGThorax1',\n",
      " 'NonInvasiveFetalECGThorax2',\n",
      " 'OSULeaf',\n",
      " 'OliveOil',\n",
      " 'PLAID',\n",
      " 'PhalangesOutlinesCorrect',\n",
      " 'Phoneme',\n",
      " 'PickupGestureWiimoteZ',\n",
      " 'PigAirwayPressure',\n",
      " 'PigArtPressure',\n",
      " 'PigCVP',\n",
      " 'Plane',\n",
      " 'PowerCons',\n",
      " 'ProximalPhalanxOutlineAgeGroup',\n",
      " 'ProximalPhalanxOutlineCorrect',\n",
      " 'ProximalPhalanxTW',\n",
      " 'RefrigerationDevices',\n",
      " 'Rock',\n",
      " 'ScreenType',\n",
      " 'SemgHandGenderCh2',\n",
      " 'SemgHandMovementCh2',\n",
      " 'SemgHandSubjectCh2',\n",
      " 'ShakeGestureWiimoteZ',\n",
      " 'ShapeletSim',\n",
      " 'ShapesAll',\n",
      " 'SmallKitchenAppliances',\n",
      " 'SmoothSubspace',\n",
      " 'SonyAIBORobotSurface1',\n",
      " 'SonyAIBORobotSurface2',\n",
      " 'StarLightCurves',\n",
      " 'Strawberry',\n",
      " 'SwedishLeaf',\n",
      " 'Symbols',\n",
      " 'SyntheticControl',\n",
      " 'ToeSegmentation1',\n",
      " 'ToeSegmentation2',\n",
      " 'Trace',\n",
      " 'TwoLeadECG',\n",
      " 'TwoPatterns',\n",
      " 'UMD',\n",
      " 'UWaveGestureLibraryAll',\n",
      " 'UWaveGestureLibraryX',\n",
      " 'UWaveGestureLibraryY',\n",
      " 'UWaveGestureLibraryZ',\n",
      " 'Wafer',\n",
      " 'Wine',\n",
      " 'WordSynonyms',\n",
      " 'Worms',\n",
      " 'WormsTwoClass',\n",
      " 'Yoga']\n"
     ]
    }
   ],
   "source": [
    "pprint.pprint(get_UCR_univariate_list())"
   ]
  },
  {
   "cell_type": "code",
   "execution_count": 4,
   "metadata": {
    "ExecuteTime": {
     "end_time": "2019-11-04T13:05:56.695040Z",
     "start_time": "2019-11-04T13:05:56.670255Z"
    },
    "hidden": true,
    "scrolled": true
   },
   "outputs": [],
   "source": [
    "#pprint.pprint(get_UCR_multivariate_list())"
   ]
  },
  {
   "cell_type": "markdown",
   "metadata": {
    "hidden": true
   },
   "source": [
    "In the case of UCR data it's very easy to get data loaded. Let's select a dataset. You can modify this and select any one from the previous lists (univariate of multivariate)."
   ]
  },
  {
   "cell_type": "code",
   "execution_count": 5,
   "metadata": {
    "ExecuteTime": {
     "end_time": "2019-11-04T13:05:59.101730Z",
     "start_time": "2019-11-04T13:05:59.076305Z"
    },
    "hidden": true
   },
   "outputs": [],
   "source": [
    "# dataset id\n",
    "dsid = 'ChlorineConcentration'   # ✳️"
   ]
  },
  {
   "cell_type": "code",
   "execution_count": 6,
   "metadata": {
    "ExecuteTime": {
     "end_time": "2019-11-04T13:06:01.630739Z",
     "start_time": "2019-11-04T13:06:00.749850Z"
    },
    "hidden": true
   },
   "outputs": [
    {
     "name": "stdout",
     "output_type": "stream",
     "text": [
      "Dataset: ChlorineConcentration\n",
      "Download and decompressing data...\n",
      "...data downloaded and decompressed\n",
      "Successfully extracted dataset\n",
      "X_train: (467, 1, 166)\n",
      "y_train: (467,)\n",
      "X_valid: (3840, 1, 166)\n",
      "y_valid: (3840,) \n",
      "\n"
     ]
    }
   ],
   "source": [
    "X_train, y_train, X_valid, y_valid = get_UCR_data(dsid, verbose=True)"
   ]
  },
  {
   "cell_type": "markdown",
   "metadata": {
    "hidden": true
   },
   "source": [
    "☣️ **Something very important when you prepare your own data is that data needs to be in a 3-d array with the following format:**\n",
    "\n",
    "1. Samples\n",
    "2. Features\n",
    "3. Sequence length (aka time steps)"
   ]
  },
  {
   "cell_type": "markdown",
   "metadata": {
    "hidden": true
   },
   "source": [
    "All UEA & UCR Time Series Classification data have already been split between train and valid. When you use your own data, you'll have to split it yourself. We'll see examples of this in future notebooks."
   ]
  },
  {
   "cell_type": "markdown",
   "metadata": {
    "heading_collapsed": true,
    "hidden": true
   },
   "source": [
    "### Prepare databunch 💿"
   ]
  },
  {
   "cell_type": "markdown",
   "metadata": {
    "hidden": true
   },
   "source": [
    "You always need to define the bs at the time of creating the databunch, the object that contains all data required.\n",
    "\n",
    "It's also best practice to scale the data using the train stats. There are several options available: \n",
    "\n",
    "1. standardization or normalization.\n",
    "\n",
    "2. calculate them based on all samples, per channel or per sample. \n",
    "\n",
    "3. scale range (for normalization only).\n",
    "\n",
    "The most common practice is to standardize data per channel."
   ]
  },
  {
   "cell_type": "code",
   "execution_count": 10,
   "metadata": {
    "ExecuteTime": {
     "end_time": "2019-11-04T13:07:43.384730Z",
     "start_time": "2019-11-04T13:07:43.356559Z"
    },
    "hidden": true
   },
   "outputs": [],
   "source": [
    "bs = 64                            # ✳️\n",
    "seed = 1234                        # ✳️\n",
    "scale_type = 'standardize'         # ✳️ 'standardize', 'normalize'\n",
    "scale_by_channel = True            # ✳️ \n",
    "scale_by_sample  = False           # ✳️ \n",
    "scale_range = (-1, 1)              # ✳️ for normalization only: usually left to (-1, 1)"
   ]
  },
  {
   "cell_type": "markdown",
   "metadata": {
    "ExecuteTime": {
     "end_time": "2019-09-21T20:44:40.751428Z",
     "start_time": "2019-09-21T20:44:40.716504Z"
    },
    "hidden": true
   },
   "source": [
    "Now, the last step in data preparation is to prepare a databunch.\n",
    "Time series data may come as numpy arrays, pandas dataframes, etc.\n",
    "The 2 most common ways to load data into a databunch will be from a numpy array/ torch tensors or a pandas dataframe. Let's see how we'd work in either case. "
   ]
  },
  {
   "cell_type": "markdown",
   "metadata": {
    "hidden": true
   },
   "source": [
    "#### From 3D numpy arrays/ torch tensors"
   ]
  },
  {
   "cell_type": "markdown",
   "metadata": {
    "ExecuteTime": {
     "end_time": "2019-09-30T11:18:35.341802Z",
     "start_time": "2019-09-30T11:18:35.304859Z"
    },
    "hidden": true
   },
   "source": [
    "1) You need to first create ItemLists from TimeSeriesList (custom type of ItemList built for Time Series)\n",
    "\n",
    "2) You need to label the ItemLists. You'll find a lot of information [here](https://docs.fast.ai/data_block.html)\n",
    "\n",
    "3) You enter the train bs and val_bs and crate the databunch object. \n",
    "\n",
    "4) You add features and seq_len."
   ]
  },
  {
   "cell_type": "code",
   "execution_count": 11,
   "metadata": {
    "ExecuteTime": {
     "end_time": "2019-11-04T13:08:02.913725Z",
     "start_time": "2019-11-04T13:08:02.710674Z"
    },
    "hidden": true,
    "hide_input": false
   },
   "outputs": [
    {
     "data": {
      "text/plain": [
       "TSDataBunch;\n",
       "\n",
       "Train: LabelList (467 items)\n",
       "x: TimeSeriesList\n",
       "TimeSeries(ch=1, seq_len=166),TimeSeries(ch=1, seq_len=166),TimeSeries(ch=1, seq_len=166),TimeSeries(ch=1, seq_len=166),TimeSeries(ch=1, seq_len=166)\n",
       "y: CategoryList\n",
       "0,1,0,1,2\n",
       "Path: .;\n",
       "\n",
       "Valid: LabelList (3840 items)\n",
       "x: TimeSeriesList\n",
       "TimeSeries(ch=1, seq_len=166),TimeSeries(ch=1, seq_len=166),TimeSeries(ch=1, seq_len=166),TimeSeries(ch=1, seq_len=166),TimeSeries(ch=1, seq_len=166)\n",
       "y: CategoryList\n",
       "2,2,0,1,2\n",
       "Path: .;\n",
       "\n",
       "Test: None"
      ]
     },
     "execution_count": 11,
     "metadata": {},
     "output_type": "execute_result"
    }
   ],
   "source": [
    "db = (ItemLists('.', TimeSeriesList(X_train), TimeSeriesList(X_valid))\n",
    "      .label_from_lists(y_train, y_valid)\n",
    "      .databunch(bs=min(bs, len(X_train)), val_bs=min(len(X_valid), bs * 2), num_workers=cpus, device=device)\n",
    "      .scale(scale_type=scale_type, scale_by_channel=scale_by_channel, \n",
    "             scale_by_sample=scale_by_sample,scale_range=scale_range)\n",
    "     )\n",
    "db"
   ]
  },
  {
   "cell_type": "markdown",
   "metadata": {
    "hidden": true
   },
   "source": [
    "#### From pandas dataframe"
   ]
  },
  {
   "cell_type": "markdown",
   "metadata": {
    "hidden": true
   },
   "source": [
    "Let's now extract data from a pandas dataframe. Since we don't have the UCR data available as a dataframe, we'll first need to create and save it. You won't need to do this when you have a time series dataframe."
   ]
  },
  {
   "cell_type": "code",
   "execution_count": 12,
   "metadata": {
    "ExecuteTime": {
     "end_time": "2019-11-04T13:08:14.024585Z",
     "start_time": "2019-11-04T13:08:12.196857Z"
    },
    "hidden": true,
    "hide_input": false
   },
   "outputs": [
    {
     "name": "stdout",
     "output_type": "stream",
     "text": [
      "(8640, 53)\n"
     ]
    },
    {
     "data": {
      "text/html": [
       "<div>\n",
       "<style scoped>\n",
       "    .dataframe tbody tr th:only-of-type {\n",
       "        vertical-align: middle;\n",
       "    }\n",
       "\n",
       "    .dataframe tbody tr th {\n",
       "        vertical-align: top;\n",
       "    }\n",
       "\n",
       "    .dataframe thead th {\n",
       "        text-align: right;\n",
       "    }\n",
       "</style>\n",
       "<table border=\"1\" class=\"dataframe\">\n",
       "  <thead>\n",
       "    <tr style=\"text-align: right;\">\n",
       "      <th></th>\n",
       "      <th>feat</th>\n",
       "      <th>0</th>\n",
       "      <th>1</th>\n",
       "      <th>2</th>\n",
       "      <th>3</th>\n",
       "      <th>4</th>\n",
       "      <th>5</th>\n",
       "      <th>6</th>\n",
       "      <th>7</th>\n",
       "      <th>8</th>\n",
       "      <th>...</th>\n",
       "      <th>42</th>\n",
       "      <th>43</th>\n",
       "      <th>44</th>\n",
       "      <th>45</th>\n",
       "      <th>46</th>\n",
       "      <th>47</th>\n",
       "      <th>48</th>\n",
       "      <th>49</th>\n",
       "      <th>50</th>\n",
       "      <th>target</th>\n",
       "    </tr>\n",
       "  </thead>\n",
       "  <tbody>\n",
       "    <tr>\n",
       "      <td>0</td>\n",
       "      <td>0.0</td>\n",
       "      <td>-0.372758</td>\n",
       "      <td>-0.367844</td>\n",
       "      <td>-0.378445</td>\n",
       "      <td>-0.386751</td>\n",
       "      <td>-0.417101</td>\n",
       "      <td>-0.447204</td>\n",
       "      <td>-0.423585</td>\n",
       "      <td>-0.318506</td>\n",
       "      <td>-0.144364</td>\n",
       "      <td>...</td>\n",
       "      <td>-0.477529</td>\n",
       "      <td>-0.487402</td>\n",
       "      <td>-0.485995</td>\n",
       "      <td>-0.480247</td>\n",
       "      <td>-0.496073</td>\n",
       "      <td>-0.491603</td>\n",
       "      <td>-0.537007</td>\n",
       "      <td>-0.475939</td>\n",
       "      <td>-0.479505</td>\n",
       "      <td>0.0</td>\n",
       "    </tr>\n",
       "    <tr>\n",
       "      <td>1</td>\n",
       "      <td>0.0</td>\n",
       "      <td>-0.547370</td>\n",
       "      <td>-0.546334</td>\n",
       "      <td>-0.549748</td>\n",
       "      <td>-0.546891</td>\n",
       "      <td>-0.550253</td>\n",
       "      <td>-0.548429</td>\n",
       "      <td>-0.549099</td>\n",
       "      <td>-0.556074</td>\n",
       "      <td>-0.555707</td>\n",
       "      <td>...</td>\n",
       "      <td>-0.530492</td>\n",
       "      <td>-0.537032</td>\n",
       "      <td>-0.528957</td>\n",
       "      <td>-0.520373</td>\n",
       "      <td>-0.530154</td>\n",
       "      <td>-0.528187</td>\n",
       "      <td>-0.533726</td>\n",
       "      <td>-0.528338</td>\n",
       "      <td>-0.518618</td>\n",
       "      <td>1.0</td>\n",
       "    </tr>\n",
       "    <tr>\n",
       "      <td>2</td>\n",
       "      <td>0.0</td>\n",
       "      <td>-0.587062</td>\n",
       "      <td>-0.587322</td>\n",
       "      <td>-0.586417</td>\n",
       "      <td>-0.584654</td>\n",
       "      <td>-0.585361</td>\n",
       "      <td>-0.583648</td>\n",
       "      <td>-0.582933</td>\n",
       "      <td>-0.583448</td>\n",
       "      <td>-0.585703</td>\n",
       "      <td>...</td>\n",
       "      <td>-0.598846</td>\n",
       "      <td>-0.596118</td>\n",
       "      <td>-0.594087</td>\n",
       "      <td>-0.598232</td>\n",
       "      <td>-0.604513</td>\n",
       "      <td>-0.607462</td>\n",
       "      <td>-0.606236</td>\n",
       "      <td>-0.602293</td>\n",
       "      <td>-0.600885</td>\n",
       "      <td>1.0</td>\n",
       "    </tr>\n",
       "    <tr>\n",
       "      <td>3</td>\n",
       "      <td>0.0</td>\n",
       "      <td>-0.514671</td>\n",
       "      <td>-0.518640</td>\n",
       "      <td>-0.521285</td>\n",
       "      <td>-0.522843</td>\n",
       "      <td>-0.529080</td>\n",
       "      <td>-0.589589</td>\n",
       "      <td>-0.735513</td>\n",
       "      <td>-0.963720</td>\n",
       "      <td>-1.168972</td>\n",
       "      <td>...</td>\n",
       "      <td>-1.566254</td>\n",
       "      <td>-1.210887</td>\n",
       "      <td>-0.879528</td>\n",
       "      <td>-0.638007</td>\n",
       "      <td>-0.532520</td>\n",
       "      <td>-0.577928</td>\n",
       "      <td>-0.628697</td>\n",
       "      <td>-0.632625</td>\n",
       "      <td>-0.606548</td>\n",
       "      <td>0.0</td>\n",
       "    </tr>\n",
       "    <tr>\n",
       "      <td>4</td>\n",
       "      <td>0.0</td>\n",
       "      <td>-0.718601</td>\n",
       "      <td>-0.721093</td>\n",
       "      <td>-0.717955</td>\n",
       "      <td>-0.722386</td>\n",
       "      <td>-0.728969</td>\n",
       "      <td>-0.722774</td>\n",
       "      <td>-0.730497</td>\n",
       "      <td>-0.737313</td>\n",
       "      <td>-0.739868</td>\n",
       "      <td>...</td>\n",
       "      <td>-0.680790</td>\n",
       "      <td>-0.686406</td>\n",
       "      <td>-0.704122</td>\n",
       "      <td>-0.722950</td>\n",
       "      <td>-0.708337</td>\n",
       "      <td>-0.690788</td>\n",
       "      <td>-0.692195</td>\n",
       "      <td>-0.702812</td>\n",
       "      <td>-0.701643</td>\n",
       "      <td>1.0</td>\n",
       "    </tr>\n",
       "  </tbody>\n",
       "</table>\n",
       "<p>5 rows × 53 columns</p>\n",
       "</div>"
      ],
      "text/plain": [
       "   feat         0         1         2         3         4         5         6  \\\n",
       "0   0.0 -0.372758 -0.367844 -0.378445 -0.386751 -0.417101 -0.447204 -0.423585   \n",
       "1   0.0 -0.547370 -0.546334 -0.549748 -0.546891 -0.550253 -0.548429 -0.549099   \n",
       "2   0.0 -0.587062 -0.587322 -0.586417 -0.584654 -0.585361 -0.583648 -0.582933   \n",
       "3   0.0 -0.514671 -0.518640 -0.521285 -0.522843 -0.529080 -0.589589 -0.735513   \n",
       "4   0.0 -0.718601 -0.721093 -0.717955 -0.722386 -0.728969 -0.722774 -0.730497   \n",
       "\n",
       "          7         8  ...        42        43        44        45        46  \\\n",
       "0 -0.318506 -0.144364  ... -0.477529 -0.487402 -0.485995 -0.480247 -0.496073   \n",
       "1 -0.556074 -0.555707  ... -0.530492 -0.537032 -0.528957 -0.520373 -0.530154   \n",
       "2 -0.583448 -0.585703  ... -0.598846 -0.596118 -0.594087 -0.598232 -0.604513   \n",
       "3 -0.963720 -1.168972  ... -1.566254 -1.210887 -0.879528 -0.638007 -0.532520   \n",
       "4 -0.737313 -0.739868  ... -0.680790 -0.686406 -0.704122 -0.722950 -0.708337   \n",
       "\n",
       "         47        48        49        50  target  \n",
       "0 -0.491603 -0.537007 -0.475939 -0.479505     0.0  \n",
       "1 -0.528187 -0.533726 -0.528338 -0.518618     1.0  \n",
       "2 -0.607462 -0.606236 -0.602293 -0.600885     1.0  \n",
       "3 -0.577928 -0.628697 -0.632625 -0.606548     0.0  \n",
       "4 -0.690788 -0.692195 -0.702812 -0.701643     1.0  \n",
       "\n",
       "[5 rows x 53 columns]"
      ]
     },
     "execution_count": 12,
     "metadata": {},
     "output_type": "execute_result"
    }
   ],
   "source": [
    "dsid = 'NATOPS' \n",
    "X_train, y_train, X_valid, y_valid = get_UCR_data(dsid)\n",
    "for ch in range(X_train.shape[-2]):\n",
    "    data_ch = np.concatenate((np.full((len(np.concatenate((X_train, X_valid))), 1), ch),\n",
    "                              np.concatenate((X_train, X_valid))[:, ch], \n",
    "                              np.concatenate((y_train, y_valid))[:, None]), axis=-1)\n",
    "    if ch == 0: data = data_ch\n",
    "    else: data = np.concatenate((data, data_ch))\n",
    "df = pd.DataFrame(data, columns=['feat'] + list(np.arange(X_train.shape[-1]).astype('str')) + ['target'])\n",
    "df.to_csv(path/f'data/UCR/{dsid}/{dsid}.csv', index=False)\n",
    "pd.read_csv(path/f'data/UCR/{dsid}/{dsid}.csv')\n",
    "print(df.shape)\n",
    "df.head()"
   ]
  },
  {
   "cell_type": "markdown",
   "metadata": {
    "hidden": true
   },
   "source": [
    "You would actually start here, loading an existing dataframe."
   ]
  },
  {
   "cell_type": "code",
   "execution_count": 13,
   "metadata": {
    "ExecuteTime": {
     "end_time": "2019-11-04T13:08:17.289349Z",
     "start_time": "2019-11-04T13:08:17.174120Z"
    },
    "hidden": true
   },
   "outputs": [
    {
     "name": "stdout",
     "output_type": "stream",
     "text": [
      "(8640, 53)\n"
     ]
    },
    {
     "data": {
      "text/html": [
       "<div>\n",
       "<style scoped>\n",
       "    .dataframe tbody tr th:only-of-type {\n",
       "        vertical-align: middle;\n",
       "    }\n",
       "\n",
       "    .dataframe tbody tr th {\n",
       "        vertical-align: top;\n",
       "    }\n",
       "\n",
       "    .dataframe thead th {\n",
       "        text-align: right;\n",
       "    }\n",
       "</style>\n",
       "<table border=\"1\" class=\"dataframe\">\n",
       "  <thead>\n",
       "    <tr style=\"text-align: right;\">\n",
       "      <th></th>\n",
       "      <th>feat</th>\n",
       "      <th>0</th>\n",
       "      <th>1</th>\n",
       "      <th>2</th>\n",
       "      <th>3</th>\n",
       "      <th>4</th>\n",
       "      <th>5</th>\n",
       "      <th>6</th>\n",
       "      <th>7</th>\n",
       "      <th>8</th>\n",
       "      <th>...</th>\n",
       "      <th>42</th>\n",
       "      <th>43</th>\n",
       "      <th>44</th>\n",
       "      <th>45</th>\n",
       "      <th>46</th>\n",
       "      <th>47</th>\n",
       "      <th>48</th>\n",
       "      <th>49</th>\n",
       "      <th>50</th>\n",
       "      <th>target</th>\n",
       "    </tr>\n",
       "  </thead>\n",
       "  <tbody>\n",
       "    <tr>\n",
       "      <td>0</td>\n",
       "      <td>0.0</td>\n",
       "      <td>-0.372758</td>\n",
       "      <td>-0.367844</td>\n",
       "      <td>-0.378445</td>\n",
       "      <td>-0.386751</td>\n",
       "      <td>-0.417101</td>\n",
       "      <td>-0.447204</td>\n",
       "      <td>-0.423585</td>\n",
       "      <td>-0.318506</td>\n",
       "      <td>-0.144364</td>\n",
       "      <td>...</td>\n",
       "      <td>-0.477529</td>\n",
       "      <td>-0.487402</td>\n",
       "      <td>-0.485995</td>\n",
       "      <td>-0.480247</td>\n",
       "      <td>-0.496073</td>\n",
       "      <td>-0.491603</td>\n",
       "      <td>-0.537007</td>\n",
       "      <td>-0.475939</td>\n",
       "      <td>-0.479505</td>\n",
       "      <td>0.0</td>\n",
       "    </tr>\n",
       "    <tr>\n",
       "      <td>1</td>\n",
       "      <td>0.0</td>\n",
       "      <td>-0.547370</td>\n",
       "      <td>-0.546334</td>\n",
       "      <td>-0.549748</td>\n",
       "      <td>-0.546891</td>\n",
       "      <td>-0.550253</td>\n",
       "      <td>-0.548429</td>\n",
       "      <td>-0.549099</td>\n",
       "      <td>-0.556074</td>\n",
       "      <td>-0.555707</td>\n",
       "      <td>...</td>\n",
       "      <td>-0.530492</td>\n",
       "      <td>-0.537032</td>\n",
       "      <td>-0.528957</td>\n",
       "      <td>-0.520373</td>\n",
       "      <td>-0.530154</td>\n",
       "      <td>-0.528187</td>\n",
       "      <td>-0.533726</td>\n",
       "      <td>-0.528338</td>\n",
       "      <td>-0.518618</td>\n",
       "      <td>1.0</td>\n",
       "    </tr>\n",
       "    <tr>\n",
       "      <td>2</td>\n",
       "      <td>0.0</td>\n",
       "      <td>-0.587062</td>\n",
       "      <td>-0.587322</td>\n",
       "      <td>-0.586417</td>\n",
       "      <td>-0.584654</td>\n",
       "      <td>-0.585361</td>\n",
       "      <td>-0.583648</td>\n",
       "      <td>-0.582933</td>\n",
       "      <td>-0.583448</td>\n",
       "      <td>-0.585703</td>\n",
       "      <td>...</td>\n",
       "      <td>-0.598846</td>\n",
       "      <td>-0.596118</td>\n",
       "      <td>-0.594087</td>\n",
       "      <td>-0.598232</td>\n",
       "      <td>-0.604513</td>\n",
       "      <td>-0.607462</td>\n",
       "      <td>-0.606236</td>\n",
       "      <td>-0.602293</td>\n",
       "      <td>-0.600885</td>\n",
       "      <td>1.0</td>\n",
       "    </tr>\n",
       "    <tr>\n",
       "      <td>3</td>\n",
       "      <td>0.0</td>\n",
       "      <td>-0.514671</td>\n",
       "      <td>-0.518640</td>\n",
       "      <td>-0.521285</td>\n",
       "      <td>-0.522843</td>\n",
       "      <td>-0.529080</td>\n",
       "      <td>-0.589589</td>\n",
       "      <td>-0.735513</td>\n",
       "      <td>-0.963720</td>\n",
       "      <td>-1.168972</td>\n",
       "      <td>...</td>\n",
       "      <td>-1.566254</td>\n",
       "      <td>-1.210887</td>\n",
       "      <td>-0.879528</td>\n",
       "      <td>-0.638007</td>\n",
       "      <td>-0.532520</td>\n",
       "      <td>-0.577928</td>\n",
       "      <td>-0.628697</td>\n",
       "      <td>-0.632625</td>\n",
       "      <td>-0.606548</td>\n",
       "      <td>0.0</td>\n",
       "    </tr>\n",
       "    <tr>\n",
       "      <td>4</td>\n",
       "      <td>0.0</td>\n",
       "      <td>-0.718601</td>\n",
       "      <td>-0.721093</td>\n",
       "      <td>-0.717955</td>\n",
       "      <td>-0.722386</td>\n",
       "      <td>-0.728969</td>\n",
       "      <td>-0.722774</td>\n",
       "      <td>-0.730497</td>\n",
       "      <td>-0.737313</td>\n",
       "      <td>-0.739868</td>\n",
       "      <td>...</td>\n",
       "      <td>-0.680790</td>\n",
       "      <td>-0.686406</td>\n",
       "      <td>-0.704122</td>\n",
       "      <td>-0.722950</td>\n",
       "      <td>-0.708337</td>\n",
       "      <td>-0.690788</td>\n",
       "      <td>-0.692195</td>\n",
       "      <td>-0.702812</td>\n",
       "      <td>-0.701643</td>\n",
       "      <td>1.0</td>\n",
       "    </tr>\n",
       "  </tbody>\n",
       "</table>\n",
       "<p>5 rows × 53 columns</p>\n",
       "</div>"
      ],
      "text/plain": [
       "   feat         0         1         2         3         4         5         6  \\\n",
       "0   0.0 -0.372758 -0.367844 -0.378445 -0.386751 -0.417101 -0.447204 -0.423585   \n",
       "1   0.0 -0.547370 -0.546334 -0.549748 -0.546891 -0.550253 -0.548429 -0.549099   \n",
       "2   0.0 -0.587062 -0.587322 -0.586417 -0.584654 -0.585361 -0.583648 -0.582933   \n",
       "3   0.0 -0.514671 -0.518640 -0.521285 -0.522843 -0.529080 -0.589589 -0.735513   \n",
       "4   0.0 -0.718601 -0.721093 -0.717955 -0.722386 -0.728969 -0.722774 -0.730497   \n",
       "\n",
       "          7         8  ...        42        43        44        45        46  \\\n",
       "0 -0.318506 -0.144364  ... -0.477529 -0.487402 -0.485995 -0.480247 -0.496073   \n",
       "1 -0.556074 -0.555707  ... -0.530492 -0.537032 -0.528957 -0.520373 -0.530154   \n",
       "2 -0.583448 -0.585703  ... -0.598846 -0.596118 -0.594087 -0.598232 -0.604513   \n",
       "3 -0.963720 -1.168972  ... -1.566254 -1.210887 -0.879528 -0.638007 -0.532520   \n",
       "4 -0.737313 -0.739868  ... -0.680790 -0.686406 -0.704122 -0.722950 -0.708337   \n",
       "\n",
       "         47        48        49        50  target  \n",
       "0 -0.491603 -0.537007 -0.475939 -0.479505     0.0  \n",
       "1 -0.528187 -0.533726 -0.528338 -0.518618     1.0  \n",
       "2 -0.607462 -0.606236 -0.602293 -0.600885     1.0  \n",
       "3 -0.577928 -0.628697 -0.632625 -0.606548     0.0  \n",
       "4 -0.690788 -0.692195 -0.702812 -0.701643     1.0  \n",
       "\n",
       "[5 rows x 53 columns]"
      ]
     },
     "metadata": {},
     "output_type": "display_data"
    }
   ],
   "source": [
    "dsid = 'NATOPS'   # ✳️\n",
    "df = pd.read_csv(path/f'data/UCR/{dsid}/{dsid}.csv')\n",
    "print(df.shape)\n",
    "display(df.head())"
   ]
  },
  {
   "cell_type": "markdown",
   "metadata": {
    "hidden": true
   },
   "source": [
    "🔎 To create the TimeSeriesList, you need to select the columns that contain the time series only, neither the target, not the feature (for multivariate TS).\n",
    "\n",
    "🔎 You should use **label_cls=CategoryList** when labels are floats but it is a classification problem. Otherwise, the fastai library would take it as a regression problem."
   ]
  },
  {
   "cell_type": "markdown",
   "metadata": {
    "hidden": true
   },
   "source": [
    "1) You need to first TimeSeriesList (custom type of ItemList built for Time Series) from the dataframe. As cols you should only enter the data from the time series (X values, not y).\n",
    "\n",
    "2) Then you split the TimeSeriesList into 2 lists (traina and valid). There are multiple ways to do that. More info [here](https://docs.fast.ai/data_block.html)\n",
    "\n",
    "3) You need to label the ItemLists. You'll find a lot of information [here](https://docs.fast.ai/data_block.html)\n",
    "\n",
    "4) You enter the train bs and val_bs and crate the databunch object. \n",
    "\n",
    "5) You add features and seq_len."
   ]
  },
  {
   "cell_type": "code",
   "execution_count": 15,
   "metadata": {
    "ExecuteTime": {
     "end_time": "2019-11-04T13:13:13.458996Z",
     "start_time": "2019-11-04T13:13:12.848796Z"
    },
    "hidden": true
   },
   "outputs": [
    {
     "data": {
      "text/html": [
       "<style>.container { width:100% !important; }</style>"
      ],
      "text/plain": [
       "<IPython.core.display.HTML object>"
      ]
     },
     "metadata": {},
     "output_type": "display_data"
    },
    {
     "data": {
      "text/plain": [
       "TSDataBunch;\n",
       "\n",
       "Train: LabelList (288 items)\n",
       "x: TimeSeriesList\n",
       "TimeSeries(ch=24, seq_len=52),TimeSeries(ch=24, seq_len=52),TimeSeries(ch=24, seq_len=52),TimeSeries(ch=24, seq_len=52),TimeSeries(ch=24, seq_len=52)\n",
       "y: CategoryList\n",
       "1.0,1.0,0.0,1.0,2.0\n",
       "Path: .;\n",
       "\n",
       "Valid: LabelList (72 items)\n",
       "x: TimeSeriesList\n",
       "TimeSeries(ch=24, seq_len=52),TimeSeries(ch=24, seq_len=52),TimeSeries(ch=24, seq_len=52),TimeSeries(ch=24, seq_len=52),TimeSeries(ch=24, seq_len=52)\n",
       "y: CategoryList\n",
       "3.0,5.0,2.0,0.0,4.0\n",
       "Path: .;\n",
       "\n",
       "Test: None"
      ]
     },
     "execution_count": 15,
     "metadata": {},
     "output_type": "execute_result"
    }
   ],
   "source": [
    "db = (TimeSeriesList.from_df(df, '.', cols=df.columns.values[1:-1], feat='feat')\n",
    "      .split_by_rand_pct(valid_pct=0.2, seed=seed)\n",
    "      .label_from_df(cols='target', label_cls=CategoryList)\n",
    "      .databunch(bs=bs,  val_bs=bs * 2,  num_workers=cpus,  device=device)\n",
    "      .scale(scale_type=scale_type, scale_by_channel=scale_by_channel, \n",
    "             scale_by_sample=scale_by_sample,scale_range=scale_range)\n",
    "     )\n",
    "db"
   ]
  },
  {
   "cell_type": "markdown",
   "metadata": {
    "heading_collapsed": true,
    "hidden": true
   },
   "source": [
    "### Visualize data"
   ]
  },
  {
   "cell_type": "code",
   "execution_count": 16,
   "metadata": {
    "ExecuteTime": {
     "end_time": "2019-09-30T18:55:30.936900Z",
     "start_time": "2019-09-30T18:55:08.124442Z"
    },
    "hidden": true
   },
   "outputs": [
    {
     "data": {
      "image/png": "[encoded data removed]",
      "text/plain": [
       "<Figure size 720x720 with 25 Axes>"
      ]
     },
     "metadata": {
      "needs_background": "light"
     },
     "output_type": "display_data"
    }
   ],
   "source": [
    "db.show_batch()"
   ]
  },
  {
   "cell_type": "markdown",
   "metadata": {
    "heading_collapsed": true
   },
   "source": [
    "## 03. Build learner 🏗"
   ]
  },
  {
   "cell_type": "code",
   "execution_count": 17,
   "metadata": {
    "ExecuteTime": {
     "end_time": "2019-09-30T18:55:37.074722Z",
     "start_time": "2019-09-30T18:55:37.046315Z"
    },
    "hidden": true
   },
   "outputs": [],
   "source": [
    "from torchtimeseries.models import *\n",
    "# Select one arch from these state-of-the-art time series/ 1D models:\n",
    "# ResCNN, FCN, InceptionTime, ResNet\n",
    "arch = InceptionTime                     # ✳️   \n",
    "arch_kwargs = dict()                     # ✳️ \n",
    "opt_func=Ranger                          # ✳️ a state-of-the-art optimizer\n",
    "loss_func = LabelSmoothingCrossEntropy() # ✳️"
   ]
  },
  {
   "cell_type": "code",
   "execution_count": 18,
   "metadata": {
    "ExecuteTime": {
     "end_time": "2019-09-30T18:55:59.377716Z",
     "start_time": "2019-09-30T18:55:40.763772Z"
    },
    "hidden": true,
    "hide_input": false,
    "scrolled": true
   },
   "outputs": [
    {
     "name": "stdout",
     "output_type": "stream",
     "text": [
      "InceptionTime(\n",
      "  (block): InceptionBlock(\n",
      "    (inc_mods): ModuleList(\n",
      "      (0): Inception(\n",
      "        (conv_layers): ModuleList(\n",
      "          (0): Conv1d(1, 32, kernel_size=(39,), stride=(1,), padding=(19,))\n",
      "          (1): Conv1d(1, 32, kernel_size=(19,), stride=(1,), padding=(9,))\n",
      "          (2): Conv1d(1, 32, kernel_size=(9,), stride=(1,), padding=(4,))\n",
      "        )\n",
      "        (maxpool): MaxPool1d(kernel_size=3, stride=1, padding=1, dilation=1, ceil_mode=False)\n",
      "        (conv): Conv1d(1, 32, kernel_size=(1,), stride=(1,))\n",
      "        (bn): BatchNorm1d(128, eps=1e-05, momentum=0.1, affine=True, track_running_stats=True)\n",
      "        (act): ReLU()\n",
      "      )\n",
      "      (1): Inception(\n",
      "        (bottleneck): Conv1d(128, 32, kernel_size=(1,), stride=(1,))\n",
      "        (conv_layers): ModuleList(\n",
      "          (0): Conv1d(32, 32, kernel_size=(39,), stride=(1,), padding=(19,))\n",
      "          (1): Conv1d(32, 32, kernel_size=(19,), stride=(1,), padding=(9,))\n",
      "          (2): Conv1d(32, 32, kernel_size=(9,), stride=(1,), padding=(4,))\n",
      "        )\n",
      "        (maxpool): MaxPool1d(kernel_size=3, stride=1, padding=1, dilation=1, ceil_mode=False)\n",
      "        (conv): Conv1d(128, 32, kernel_size=(1,), stride=(1,))\n",
      "        (bn): BatchNorm1d(128, eps=1e-05, momentum=0.1, affine=True, track_running_stats=True)\n",
      "        (act): ReLU()\n",
      "      )\n",
      "      (2): Inception(\n",
      "        (bottleneck): Conv1d(128, 32, kernel_size=(1,), stride=(1,))\n",
      "        (conv_layers): ModuleList(\n",
      "          (0): Conv1d(32, 32, kernel_size=(39,), stride=(1,), padding=(19,))\n",
      "          (1): Conv1d(32, 32, kernel_size=(19,), stride=(1,), padding=(9,))\n",
      "          (2): Conv1d(32, 32, kernel_size=(9,), stride=(1,), padding=(4,))\n",
      "        )\n",
      "        (maxpool): MaxPool1d(kernel_size=3, stride=1, padding=1, dilation=1, ceil_mode=False)\n",
      "        (conv): Conv1d(128, 32, kernel_size=(1,), stride=(1,))\n",
      "        (bn): BatchNorm1d(128, eps=1e-05, momentum=0.1, affine=True, track_running_stats=True)\n",
      "        (act): ReLU()\n",
      "      )\n",
      "      (3): Inception(\n",
      "        (bottleneck): Conv1d(128, 32, kernel_size=(1,), stride=(1,))\n",
      "        (conv_layers): ModuleList(\n",
      "          (0): Conv1d(32, 32, kernel_size=(39,), stride=(1,), padding=(19,))\n",
      "          (1): Conv1d(32, 32, kernel_size=(19,), stride=(1,), padding=(9,))\n",
      "          (2): Conv1d(32, 32, kernel_size=(9,), stride=(1,), padding=(4,))\n",
      "        )\n",
      "        (maxpool): MaxPool1d(kernel_size=3, stride=1, padding=1, dilation=1, ceil_mode=False)\n",
      "        (conv): Conv1d(128, 32, kernel_size=(1,), stride=(1,))\n",
      "        (bn): BatchNorm1d(128, eps=1e-05, momentum=0.1, affine=True, track_running_stats=True)\n",
      "        (act): ReLU()\n",
      "      )\n",
      "      (4): Inception(\n",
      "        (bottleneck): Conv1d(128, 32, kernel_size=(1,), stride=(1,))\n",
      "        (conv_layers): ModuleList(\n",
      "          (0): Conv1d(32, 32, kernel_size=(39,), stride=(1,), padding=(19,))\n",
      "          (1): Conv1d(32, 32, kernel_size=(19,), stride=(1,), padding=(9,))\n",
      "          (2): Conv1d(32, 32, kernel_size=(9,), stride=(1,), padding=(4,))\n",
      "        )\n",
      "        (maxpool): MaxPool1d(kernel_size=3, stride=1, padding=1, dilation=1, ceil_mode=False)\n",
      "        (conv): Conv1d(128, 32, kernel_size=(1,), stride=(1,))\n",
      "        (bn): BatchNorm1d(128, eps=1e-05, momentum=0.1, affine=True, track_running_stats=True)\n",
      "        (act): ReLU()\n",
      "      )\n",
      "      (5): Inception(\n",
      "        (bottleneck): Conv1d(128, 32, kernel_size=(1,), stride=(1,))\n",
      "        (conv_layers): ModuleList(\n",
      "          (0): Conv1d(32, 32, kernel_size=(39,), stride=(1,), padding=(19,))\n",
      "          (1): Conv1d(32, 32, kernel_size=(19,), stride=(1,), padding=(9,))\n",
      "          (2): Conv1d(32, 32, kernel_size=(9,), stride=(1,), padding=(4,))\n",
      "        )\n",
      "        (maxpool): MaxPool1d(kernel_size=3, stride=1, padding=1, dilation=1, ceil_mode=False)\n",
      "        (conv): Conv1d(128, 32, kernel_size=(1,), stride=(1,))\n",
      "        (bn): BatchNorm1d(128, eps=1e-05, momentum=0.1, affine=True, track_running_stats=True)\n",
      "        (act): ReLU()\n",
      "      )\n",
      "    )\n",
      "    (res_layers): ModuleList(\n",
      "      (0): None\n",
      "      (1): None\n",
      "      (2): Sequential(\n",
      "        (0): Conv1d(1, 128, kernel_size=(1,), stride=(1,))\n",
      "        (1): BatchNorm1d(128, eps=1e-05, momentum=0.1, affine=True, track_running_stats=True)\n",
      "      )\n",
      "      (3): None\n",
      "      (4): None\n",
      "      (5): Sequential(\n",
      "        (0): Conv1d(128, 128, kernel_size=(1,), stride=(1,))\n",
      "        (1): BatchNorm1d(128, eps=1e-05, momentum=0.1, affine=True, track_running_stats=True)\n",
      "      )\n",
      "    )\n",
      "    (act): ReLU()\n",
      "  )\n",
      "  (gap): AdaptiveAvgPool1d(output_size=1)\n",
      "  (fc): Linear(in_features=128, out_features=3, bias=True)\n",
      ")\n",
      "InceptionTime\n",
      "======================================================================\n",
      "Layer (type)         Output Shape         Param #    Trainable \n",
      "======================================================================\n",
      "Conv1d               [32, 166]            1,280      True      \n",
      "______________________________________________________________________\n",
      "Conv1d               [32, 166]            640        True      \n",
      "______________________________________________________________________\n",
      "Conv1d               [32, 166]            320        True      \n",
      "______________________________________________________________________\n",
      "MaxPool1d            [1, 166]             0          False     \n",
      "______________________________________________________________________\n",
      "Conv1d               [32, 166]            64         True      \n",
      "______________________________________________________________________\n",
      "BatchNorm1d          [128, 166]           256        True      \n",
      "______________________________________________________________________\n",
      "ReLU                 [128, 166]           0          False     \n",
      "______________________________________________________________________\n",
      "Conv1d               [32, 166]            4,128      True      \n",
      "______________________________________________________________________\n",
      "Conv1d               [32, 166]            39,968     True      \n",
      "______________________________________________________________________\n",
      "Conv1d               [32, 166]            19,488     True      \n",
      "______________________________________________________________________\n",
      "Conv1d               [32, 166]            9,248      True      \n",
      "______________________________________________________________________\n",
      "MaxPool1d            [128, 166]           0          False     \n",
      "______________________________________________________________________\n",
      "Conv1d               [32, 166]            4,128      True      \n",
      "______________________________________________________________________\n",
      "BatchNorm1d          [128, 166]           256        True      \n",
      "______________________________________________________________________\n",
      "ReLU                 [128, 166]           0          False     \n",
      "______________________________________________________________________\n",
      "Conv1d               [32, 166]            4,128      True      \n",
      "______________________________________________________________________\n",
      "Conv1d               [32, 166]            39,968     True      \n",
      "______________________________________________________________________\n",
      "Conv1d               [32, 166]            19,488     True      \n",
      "______________________________________________________________________\n",
      "Conv1d               [32, 166]            9,248      True      \n",
      "______________________________________________________________________\n",
      "MaxPool1d            [128, 166]           0          False     \n",
      "______________________________________________________________________\n",
      "Conv1d               [32, 166]            4,128      True      \n",
      "______________________________________________________________________\n",
      "BatchNorm1d          [128, 166]           256        True      \n",
      "______________________________________________________________________\n",
      "ReLU                 [128, 166]           0          False     \n",
      "______________________________________________________________________\n",
      "Conv1d               [32, 166]            4,128      True      \n",
      "______________________________________________________________________\n",
      "Conv1d               [32, 166]            39,968     True      \n",
      "______________________________________________________________________\n",
      "Conv1d               [32, 166]            19,488     True      \n",
      "______________________________________________________________________\n",
      "Conv1d               [32, 166]            9,248      True      \n",
      "______________________________________________________________________\n",
      "MaxPool1d            [128, 166]           0          False     \n",
      "______________________________________________________________________\n",
      "Conv1d               [32, 166]            4,128      True      \n",
      "______________________________________________________________________\n",
      "BatchNorm1d          [128, 166]           256        True      \n",
      "______________________________________________________________________\n",
      "ReLU                 [128, 166]           0          False     \n",
      "______________________________________________________________________\n",
      "Conv1d               [32, 166]            4,128      True      \n",
      "______________________________________________________________________\n",
      "Conv1d               [32, 166]            39,968     True      \n",
      "______________________________________________________________________\n",
      "Conv1d               [32, 166]            19,488     True      \n",
      "______________________________________________________________________\n",
      "Conv1d               [32, 166]            9,248      True      \n",
      "______________________________________________________________________\n",
      "MaxPool1d            [128, 166]           0          False     \n",
      "______________________________________________________________________\n",
      "Conv1d               [32, 166]            4,128      True      \n",
      "______________________________________________________________________\n",
      "BatchNorm1d          [128, 166]           256        True      \n",
      "______________________________________________________________________\n",
      "ReLU                 [128, 166]           0          False     \n",
      "______________________________________________________________________\n",
      "Conv1d               [32, 166]            4,128      True      \n",
      "______________________________________________________________________\n",
      "Conv1d               [32, 166]            39,968     True      \n",
      "______________________________________________________________________\n",
      "Conv1d               [32, 166]            19,488     True      \n",
      "______________________________________________________________________\n",
      "Conv1d               [32, 166]            9,248      True      \n",
      "______________________________________________________________________\n",
      "MaxPool1d            [128, 166]           0          False     \n",
      "______________________________________________________________________\n",
      "Conv1d               [32, 166]            4,128      True      \n",
      "______________________________________________________________________\n",
      "BatchNorm1d          [128, 166]           256        True      \n",
      "______________________________________________________________________\n",
      "ReLU                 [128, 166]           0          False     \n",
      "______________________________________________________________________\n",
      "Conv1d               [128, 166]           256        True      \n",
      "______________________________________________________________________\n",
      "BatchNorm1d          [128, 166]           256        True      \n",
      "______________________________________________________________________\n",
      "Conv1d               [128, 166]           16,512     True      \n",
      "______________________________________________________________________\n",
      "BatchNorm1d          [128, 166]           256        True      \n",
      "______________________________________________________________________\n",
      "ReLU                 [128, 166]           0          False     \n",
      "______________________________________________________________________\n",
      "AdaptiveAvgPool1d    [128, 1]             0          False     \n",
      "______________________________________________________________________\n",
      "Linear               [3]                  387        True      \n",
      "______________________________________________________________________\n",
      "\n",
      "Total params: 406,307\n",
      "Total trainable params: 406,307\n",
      "Total non-trainable params: 0\n",
      "Optimized with 2ec68a320\n",
      "Using true weight decay as discussed in https://www.fast.ai/2018/07/02/adam-weight-decay/ \n",
      "Loss function : LabelSmoothingCrossEntropy\n",
      "======================================================================\n",
      "Callbacks functions applied \n",
      "\n"
     ]
    }
   ],
   "source": [
    "model = arch(db.features, db.c, **arch_kwargs).to(device)\n",
    "learn = Learner(db, model, opt_func=opt_func, loss_func=loss_func)\n",
    "learn.save('stage_0')\n",
    "print(learn.model)\n",
    "print(learn.summary())"
   ]
  },
  {
   "cell_type": "markdown",
   "metadata": {
    "heading_collapsed": true
   },
   "source": [
    "## 04. Train model 🚵🏼‍"
   ]
  },
  {
   "cell_type": "markdown",
   "metadata": {
    "heading_collapsed": true,
    "hidden": true
   },
   "source": [
    "### LR find 🔎"
   ]
  },
  {
   "cell_type": "code",
   "execution_count": 20,
   "metadata": {
    "ExecuteTime": {
     "end_time": "2019-09-30T18:56:57.568830Z",
     "start_time": "2019-09-30T18:56:41.459187Z"
    },
    "hidden": true,
    "scrolled": false
   },
   "outputs": [
    {
     "data": {
      "text/html": [],
      "text/plain": [
       "<IPython.core.display.HTML object>"
      ]
     },
     "metadata": {},
     "output_type": "display_data"
    },
    {
     "name": "stdout",
     "output_type": "stream",
     "text": [
      "LR Finder is complete, type {learner_name}.recorder.plot() to see the graph.\n",
      "Min numerical gradient: 1.91E-02\n",
      "Min loss divided by 10: 1.58E-01\n"
     ]
    },
    {
     "data": {
      "image/png": "[encoded data removed]",
      "text/plain": [
       "<Figure size 432x288 with 1 Axes>"
      ]
     },
     "metadata": {
      "needs_background": "light"
     },
     "output_type": "display_data"
    }
   ],
   "source": [
    "learn.load('stage_0')\n",
    "learn.lr_find()\n",
    "learn.recorder.plot(suggestion=True)"
   ]
  },
  {
   "cell_type": "markdown",
   "metadata": {
    "heading_collapsed": true,
    "hidden": true
   },
   "source": [
    "### Train 🏃🏽‍♀️"
   ]
  },
  {
   "cell_type": "code",
   "execution_count": 21,
   "metadata": {
    "ExecuteTime": {
     "end_time": "2019-09-30T18:57:15.641127Z",
     "start_time": "2019-09-30T18:57:15.613239Z"
    },
    "hidden": true
   },
   "outputs": [],
   "source": [
    "epochs = 100         # ✳️ \n",
    "max_lr = 1e-2        # ✳️ \n",
    "warmup = False       # ✳️\n",
    "pct_start = .7       # ✳️\n",
    "metrics = [accuracy] # ✳️\n",
    "wd = 1e-2"
   ]
  },
  {
   "cell_type": "code",
   "execution_count": 22,
   "metadata": {
    "ExecuteTime": {
     "end_time": "2019-09-30T19:00:11.264394Z",
     "start_time": "2019-09-30T18:57:19.189653Z"
    },
    "hidden": true,
    "scrolled": false
   },
   "outputs": [
    {
     "data": {
      "text/html": [
       "<table border=\"1\" class=\"dataframe\">\n",
       "  <thead>\n",
       "    <tr style=\"text-align: left;\">\n",
       "      <th>epoch</th>\n",
       "      <th>train_loss</th>\n",
       "      <th>valid_loss</th>\n",
       "      <th>accuracy</th>\n",
       "      <th>time</th>\n",
       "    </tr>\n",
       "  </thead>\n",
       "  <tbody>\n",
       "    <tr>\n",
       "      <td>0</td>\n",
       "      <td>1.077266</td>\n",
       "      <td>1.052416</td>\n",
       "      <td>0.532552</td>\n",
       "      <td>00:01</td>\n",
       "    </tr>\n",
       "    <tr>\n",
       "      <td>1</td>\n",
       "      <td>1.034488</td>\n",
       "      <td>1.039472</td>\n",
       "      <td>0.532552</td>\n",
       "      <td>00:01</td>\n",
       "    </tr>\n",
       "    <tr>\n",
       "      <td>2</td>\n",
       "      <td>1.018629</td>\n",
       "      <td>1.026785</td>\n",
       "      <td>0.532552</td>\n",
       "      <td>00:01</td>\n",
       "    </tr>\n",
       "    <tr>\n",
       "      <td>3</td>\n",
       "      <td>1.004773</td>\n",
       "      <td>1.014207</td>\n",
       "      <td>0.552083</td>\n",
       "      <td>00:01</td>\n",
       "    </tr>\n",
       "    <tr>\n",
       "      <td>4</td>\n",
       "      <td>0.994561</td>\n",
       "      <td>1.017995</td>\n",
       "      <td>0.554688</td>\n",
       "      <td>00:01</td>\n",
       "    </tr>\n",
       "    <tr>\n",
       "      <td>5</td>\n",
       "      <td>0.981999</td>\n",
       "      <td>0.997145</td>\n",
       "      <td>0.560938</td>\n",
       "      <td>00:01</td>\n",
       "    </tr>\n",
       "    <tr>\n",
       "      <td>6</td>\n",
       "      <td>0.974646</td>\n",
       "      <td>0.985318</td>\n",
       "      <td>0.566146</td>\n",
       "      <td>00:01</td>\n",
       "    </tr>\n",
       "    <tr>\n",
       "      <td>7</td>\n",
       "      <td>0.959153</td>\n",
       "      <td>1.318609</td>\n",
       "      <td>0.556250</td>\n",
       "      <td>00:01</td>\n",
       "    </tr>\n",
       "    <tr>\n",
       "      <td>8</td>\n",
       "      <td>0.946758</td>\n",
       "      <td>1.198705</td>\n",
       "      <td>0.572917</td>\n",
       "      <td>00:01</td>\n",
       "    </tr>\n",
       "    <tr>\n",
       "      <td>9</td>\n",
       "      <td>0.933954</td>\n",
       "      <td>1.467916</td>\n",
       "      <td>0.558594</td>\n",
       "      <td>00:01</td>\n",
       "    </tr>\n",
       "    <tr>\n",
       "      <td>10</td>\n",
       "      <td>0.919337</td>\n",
       "      <td>4.369798</td>\n",
       "      <td>0.230729</td>\n",
       "      <td>00:01</td>\n",
       "    </tr>\n",
       "    <tr>\n",
       "      <td>11</td>\n",
       "      <td>0.909586</td>\n",
       "      <td>1.512861</td>\n",
       "      <td>0.361198</td>\n",
       "      <td>00:01</td>\n",
       "    </tr>\n",
       "    <tr>\n",
       "      <td>12</td>\n",
       "      <td>0.893209</td>\n",
       "      <td>1.304682</td>\n",
       "      <td>0.449740</td>\n",
       "      <td>00:01</td>\n",
       "    </tr>\n",
       "    <tr>\n",
       "      <td>13</td>\n",
       "      <td>0.877746</td>\n",
       "      <td>1.016618</td>\n",
       "      <td>0.617708</td>\n",
       "      <td>00:01</td>\n",
       "    </tr>\n",
       "    <tr>\n",
       "      <td>14</td>\n",
       "      <td>0.862883</td>\n",
       "      <td>1.780329</td>\n",
       "      <td>0.286458</td>\n",
       "      <td>00:01</td>\n",
       "    </tr>\n",
       "    <tr>\n",
       "      <td>15</td>\n",
       "      <td>0.843123</td>\n",
       "      <td>1.710761</td>\n",
       "      <td>0.595052</td>\n",
       "      <td>00:01</td>\n",
       "    </tr>\n",
       "    <tr>\n",
       "      <td>16</td>\n",
       "      <td>0.833958</td>\n",
       "      <td>1.053252</td>\n",
       "      <td>0.564844</td>\n",
       "      <td>00:01</td>\n",
       "    </tr>\n",
       "    <tr>\n",
       "      <td>17</td>\n",
       "      <td>0.820292</td>\n",
       "      <td>1.153844</td>\n",
       "      <td>0.595833</td>\n",
       "      <td>00:01</td>\n",
       "    </tr>\n",
       "    <tr>\n",
       "      <td>18</td>\n",
       "      <td>0.803552</td>\n",
       "      <td>1.498464</td>\n",
       "      <td>0.303906</td>\n",
       "      <td>00:01</td>\n",
       "    </tr>\n",
       "    <tr>\n",
       "      <td>19</td>\n",
       "      <td>0.788703</td>\n",
       "      <td>2.573632</td>\n",
       "      <td>0.265365</td>\n",
       "      <td>00:01</td>\n",
       "    </tr>\n",
       "    <tr>\n",
       "      <td>20</td>\n",
       "      <td>0.767888</td>\n",
       "      <td>1.772255</td>\n",
       "      <td>0.566667</td>\n",
       "      <td>00:01</td>\n",
       "    </tr>\n",
       "    <tr>\n",
       "      <td>21</td>\n",
       "      <td>0.744519</td>\n",
       "      <td>2.625540</td>\n",
       "      <td>0.545833</td>\n",
       "      <td>00:01</td>\n",
       "    </tr>\n",
       "    <tr>\n",
       "      <td>22</td>\n",
       "      <td>0.728171</td>\n",
       "      <td>2.047049</td>\n",
       "      <td>0.343229</td>\n",
       "      <td>00:01</td>\n",
       "    </tr>\n",
       "    <tr>\n",
       "      <td>23</td>\n",
       "      <td>0.707364</td>\n",
       "      <td>0.969602</td>\n",
       "      <td>0.682031</td>\n",
       "      <td>00:01</td>\n",
       "    </tr>\n",
       "    <tr>\n",
       "      <td>24</td>\n",
       "      <td>0.688332</td>\n",
       "      <td>1.686048</td>\n",
       "      <td>0.400000</td>\n",
       "      <td>00:01</td>\n",
       "    </tr>\n",
       "    <tr>\n",
       "      <td>25</td>\n",
       "      <td>0.670569</td>\n",
       "      <td>1.192412</td>\n",
       "      <td>0.521615</td>\n",
       "      <td>00:01</td>\n",
       "    </tr>\n",
       "    <tr>\n",
       "      <td>26</td>\n",
       "      <td>0.651405</td>\n",
       "      <td>1.889236</td>\n",
       "      <td>0.576563</td>\n",
       "      <td>00:01</td>\n",
       "    </tr>\n",
       "    <tr>\n",
       "      <td>27</td>\n",
       "      <td>0.627137</td>\n",
       "      <td>0.989955</td>\n",
       "      <td>0.660677</td>\n",
       "      <td>00:01</td>\n",
       "    </tr>\n",
       "    <tr>\n",
       "      <td>28</td>\n",
       "      <td>0.614699</td>\n",
       "      <td>3.161904</td>\n",
       "      <td>0.382292</td>\n",
       "      <td>00:01</td>\n",
       "    </tr>\n",
       "    <tr>\n",
       "      <td>29</td>\n",
       "      <td>0.598821</td>\n",
       "      <td>0.779477</td>\n",
       "      <td>0.771354</td>\n",
       "      <td>00:01</td>\n",
       "    </tr>\n",
       "    <tr>\n",
       "      <td>30</td>\n",
       "      <td>0.578244</td>\n",
       "      <td>1.034928</td>\n",
       "      <td>0.673177</td>\n",
       "      <td>00:01</td>\n",
       "    </tr>\n",
       "    <tr>\n",
       "      <td>31</td>\n",
       "      <td>0.555947</td>\n",
       "      <td>0.770345</td>\n",
       "      <td>0.689323</td>\n",
       "      <td>00:01</td>\n",
       "    </tr>\n",
       "    <tr>\n",
       "      <td>32</td>\n",
       "      <td>0.535649</td>\n",
       "      <td>0.904052</td>\n",
       "      <td>0.675521</td>\n",
       "      <td>00:01</td>\n",
       "    </tr>\n",
       "    <tr>\n",
       "      <td>33</td>\n",
       "      <td>0.526675</td>\n",
       "      <td>3.569214</td>\n",
       "      <td>0.338802</td>\n",
       "      <td>00:01</td>\n",
       "    </tr>\n",
       "    <tr>\n",
       "      <td>34</td>\n",
       "      <td>0.522720</td>\n",
       "      <td>0.805266</td>\n",
       "      <td>0.792969</td>\n",
       "      <td>00:01</td>\n",
       "    </tr>\n",
       "    <tr>\n",
       "      <td>35</td>\n",
       "      <td>0.513833</td>\n",
       "      <td>0.902295</td>\n",
       "      <td>0.696875</td>\n",
       "      <td>00:01</td>\n",
       "    </tr>\n",
       "    <tr>\n",
       "      <td>36</td>\n",
       "      <td>0.510774</td>\n",
       "      <td>1.340125</td>\n",
       "      <td>0.598437</td>\n",
       "      <td>00:01</td>\n",
       "    </tr>\n",
       "    <tr>\n",
       "      <td>37</td>\n",
       "      <td>0.500918</td>\n",
       "      <td>1.242007</td>\n",
       "      <td>0.547656</td>\n",
       "      <td>00:01</td>\n",
       "    </tr>\n",
       "    <tr>\n",
       "      <td>38</td>\n",
       "      <td>0.490992</td>\n",
       "      <td>1.898185</td>\n",
       "      <td>0.423177</td>\n",
       "      <td>00:01</td>\n",
       "    </tr>\n",
       "    <tr>\n",
       "      <td>39</td>\n",
       "      <td>0.482364</td>\n",
       "      <td>0.857775</td>\n",
       "      <td>0.711458</td>\n",
       "      <td>00:01</td>\n",
       "    </tr>\n",
       "    <tr>\n",
       "      <td>40</td>\n",
       "      <td>0.482218</td>\n",
       "      <td>3.759111</td>\n",
       "      <td>0.548698</td>\n",
       "      <td>00:01</td>\n",
       "    </tr>\n",
       "    <tr>\n",
       "      <td>41</td>\n",
       "      <td>0.489302</td>\n",
       "      <td>7.239906</td>\n",
       "      <td>0.273698</td>\n",
       "      <td>00:01</td>\n",
       "    </tr>\n",
       "    <tr>\n",
       "      <td>42</td>\n",
       "      <td>0.480128</td>\n",
       "      <td>0.856619</td>\n",
       "      <td>0.763542</td>\n",
       "      <td>00:01</td>\n",
       "    </tr>\n",
       "    <tr>\n",
       "      <td>43</td>\n",
       "      <td>0.466459</td>\n",
       "      <td>0.779515</td>\n",
       "      <td>0.759375</td>\n",
       "      <td>00:01</td>\n",
       "    </tr>\n",
       "    <tr>\n",
       "      <td>44</td>\n",
       "      <td>0.455140</td>\n",
       "      <td>0.673326</td>\n",
       "      <td>0.815365</td>\n",
       "      <td>00:01</td>\n",
       "    </tr>\n",
       "    <tr>\n",
       "      <td>45</td>\n",
       "      <td>0.445449</td>\n",
       "      <td>0.965414</td>\n",
       "      <td>0.631250</td>\n",
       "      <td>00:01</td>\n",
       "    </tr>\n",
       "    <tr>\n",
       "      <td>46</td>\n",
       "      <td>0.435539</td>\n",
       "      <td>0.756833</td>\n",
       "      <td>0.764063</td>\n",
       "      <td>00:01</td>\n",
       "    </tr>\n",
       "    <tr>\n",
       "      <td>47</td>\n",
       "      <td>0.423000</td>\n",
       "      <td>0.803139</td>\n",
       "      <td>0.737500</td>\n",
       "      <td>00:01</td>\n",
       "    </tr>\n",
       "    <tr>\n",
       "      <td>48</td>\n",
       "      <td>0.413156</td>\n",
       "      <td>0.619504</td>\n",
       "      <td>0.828385</td>\n",
       "      <td>00:01</td>\n",
       "    </tr>\n",
       "    <tr>\n",
       "      <td>49</td>\n",
       "      <td>0.403097</td>\n",
       "      <td>0.600853</td>\n",
       "      <td>0.836458</td>\n",
       "      <td>00:01</td>\n",
       "    </tr>\n",
       "    <tr>\n",
       "      <td>50</td>\n",
       "      <td>0.391631</td>\n",
       "      <td>0.586309</td>\n",
       "      <td>0.869792</td>\n",
       "      <td>00:01</td>\n",
       "    </tr>\n",
       "    <tr>\n",
       "      <td>51</td>\n",
       "      <td>0.381295</td>\n",
       "      <td>0.647244</td>\n",
       "      <td>0.848698</td>\n",
       "      <td>00:01</td>\n",
       "    </tr>\n",
       "    <tr>\n",
       "      <td>52</td>\n",
       "      <td>0.373545</td>\n",
       "      <td>0.815364</td>\n",
       "      <td>0.770312</td>\n",
       "      <td>00:01</td>\n",
       "    </tr>\n",
       "    <tr>\n",
       "      <td>53</td>\n",
       "      <td>0.368023</td>\n",
       "      <td>0.649498</td>\n",
       "      <td>0.838021</td>\n",
       "      <td>00:01</td>\n",
       "    </tr>\n",
       "    <tr>\n",
       "      <td>54</td>\n",
       "      <td>0.362836</td>\n",
       "      <td>0.572853</td>\n",
       "      <td>0.873958</td>\n",
       "      <td>00:01</td>\n",
       "    </tr>\n",
       "    <tr>\n",
       "      <td>55</td>\n",
       "      <td>0.355986</td>\n",
       "      <td>0.810131</td>\n",
       "      <td>0.760417</td>\n",
       "      <td>00:01</td>\n",
       "    </tr>\n",
       "    <tr>\n",
       "      <td>56</td>\n",
       "      <td>0.349860</td>\n",
       "      <td>0.609632</td>\n",
       "      <td>0.832031</td>\n",
       "      <td>00:01</td>\n",
       "    </tr>\n",
       "    <tr>\n",
       "      <td>57</td>\n",
       "      <td>0.344475</td>\n",
       "      <td>0.585053</td>\n",
       "      <td>0.856510</td>\n",
       "      <td>00:01</td>\n",
       "    </tr>\n",
       "    <tr>\n",
       "      <td>58</td>\n",
       "      <td>0.339286</td>\n",
       "      <td>0.546061</td>\n",
       "      <td>0.879948</td>\n",
       "      <td>00:01</td>\n",
       "    </tr>\n",
       "    <tr>\n",
       "      <td>59</td>\n",
       "      <td>0.334547</td>\n",
       "      <td>0.555818</td>\n",
       "      <td>0.875000</td>\n",
       "      <td>00:01</td>\n",
       "    </tr>\n",
       "    <tr>\n",
       "      <td>60</td>\n",
       "      <td>0.330564</td>\n",
       "      <td>0.702703</td>\n",
       "      <td>0.793750</td>\n",
       "      <td>00:01</td>\n",
       "    </tr>\n",
       "    <tr>\n",
       "      <td>61</td>\n",
       "      <td>0.327196</td>\n",
       "      <td>0.553459</td>\n",
       "      <td>0.879167</td>\n",
       "      <td>00:01</td>\n",
       "    </tr>\n",
       "    <tr>\n",
       "      <td>62</td>\n",
       "      <td>0.325948</td>\n",
       "      <td>0.571062</td>\n",
       "      <td>0.862240</td>\n",
       "      <td>00:01</td>\n",
       "    </tr>\n",
       "    <tr>\n",
       "      <td>63</td>\n",
       "      <td>0.323905</td>\n",
       "      <td>0.624044</td>\n",
       "      <td>0.848437</td>\n",
       "      <td>00:01</td>\n",
       "    </tr>\n",
       "    <tr>\n",
       "      <td>64</td>\n",
       "      <td>0.322843</td>\n",
       "      <td>0.563070</td>\n",
       "      <td>0.864844</td>\n",
       "      <td>00:01</td>\n",
       "    </tr>\n",
       "    <tr>\n",
       "      <td>65</td>\n",
       "      <td>0.321039</td>\n",
       "      <td>0.569150</td>\n",
       "      <td>0.858854</td>\n",
       "      <td>00:01</td>\n",
       "    </tr>\n",
       "    <tr>\n",
       "      <td>66</td>\n",
       "      <td>0.318754</td>\n",
       "      <td>0.599720</td>\n",
       "      <td>0.838542</td>\n",
       "      <td>00:01</td>\n",
       "    </tr>\n",
       "    <tr>\n",
       "      <td>67</td>\n",
       "      <td>0.316752</td>\n",
       "      <td>0.544781</td>\n",
       "      <td>0.879687</td>\n",
       "      <td>00:01</td>\n",
       "    </tr>\n",
       "    <tr>\n",
       "      <td>68</td>\n",
       "      <td>0.314902</td>\n",
       "      <td>0.667440</td>\n",
       "      <td>0.828646</td>\n",
       "      <td>00:01</td>\n",
       "    </tr>\n",
       "    <tr>\n",
       "      <td>69</td>\n",
       "      <td>0.312960</td>\n",
       "      <td>0.608686</td>\n",
       "      <td>0.852344</td>\n",
       "      <td>00:01</td>\n",
       "    </tr>\n",
       "    <tr>\n",
       "      <td>70</td>\n",
       "      <td>0.310989</td>\n",
       "      <td>0.554680</td>\n",
       "      <td>0.872917</td>\n",
       "      <td>00:01</td>\n",
       "    </tr>\n",
       "    <tr>\n",
       "      <td>71</td>\n",
       "      <td>0.309441</td>\n",
       "      <td>0.576424</td>\n",
       "      <td>0.867969</td>\n",
       "      <td>00:01</td>\n",
       "    </tr>\n",
       "    <tr>\n",
       "      <td>72</td>\n",
       "      <td>0.308173</td>\n",
       "      <td>0.536844</td>\n",
       "      <td>0.886979</td>\n",
       "      <td>00:01</td>\n",
       "    </tr>\n",
       "    <tr>\n",
       "      <td>73</td>\n",
       "      <td>0.306985</td>\n",
       "      <td>0.603294</td>\n",
       "      <td>0.840104</td>\n",
       "      <td>00:01</td>\n",
       "    </tr>\n",
       "    <tr>\n",
       "      <td>74</td>\n",
       "      <td>0.305795</td>\n",
       "      <td>0.522197</td>\n",
       "      <td>0.890104</td>\n",
       "      <td>00:01</td>\n",
       "    </tr>\n",
       "    <tr>\n",
       "      <td>75</td>\n",
       "      <td>0.304489</td>\n",
       "      <td>0.558832</td>\n",
       "      <td>0.875521</td>\n",
       "      <td>00:01</td>\n",
       "    </tr>\n",
       "    <tr>\n",
       "      <td>76</td>\n",
       "      <td>0.303626</td>\n",
       "      <td>0.531456</td>\n",
       "      <td>0.880208</td>\n",
       "      <td>00:01</td>\n",
       "    </tr>\n",
       "    <tr>\n",
       "      <td>77</td>\n",
       "      <td>0.302658</td>\n",
       "      <td>0.520873</td>\n",
       "      <td>0.888802</td>\n",
       "      <td>00:01</td>\n",
       "    </tr>\n",
       "    <tr>\n",
       "      <td>78</td>\n",
       "      <td>0.302252</td>\n",
       "      <td>0.544483</td>\n",
       "      <td>0.875781</td>\n",
       "      <td>00:01</td>\n",
       "    </tr>\n",
       "    <tr>\n",
       "      <td>79</td>\n",
       "      <td>0.302131</td>\n",
       "      <td>0.535302</td>\n",
       "      <td>0.880990</td>\n",
       "      <td>00:01</td>\n",
       "    </tr>\n",
       "    <tr>\n",
       "      <td>80</td>\n",
       "      <td>0.301939</td>\n",
       "      <td>0.533701</td>\n",
       "      <td>0.885156</td>\n",
       "      <td>00:01</td>\n",
       "    </tr>\n",
       "    <tr>\n",
       "      <td>81</td>\n",
       "      <td>0.301331</td>\n",
       "      <td>0.552646</td>\n",
       "      <td>0.876823</td>\n",
       "      <td>00:01</td>\n",
       "    </tr>\n",
       "    <tr>\n",
       "      <td>82</td>\n",
       "      <td>0.300886</td>\n",
       "      <td>0.546013</td>\n",
       "      <td>0.878906</td>\n",
       "      <td>00:01</td>\n",
       "    </tr>\n",
       "    <tr>\n",
       "      <td>83</td>\n",
       "      <td>0.300437</td>\n",
       "      <td>0.528197</td>\n",
       "      <td>0.882552</td>\n",
       "      <td>00:01</td>\n",
       "    </tr>\n",
       "    <tr>\n",
       "      <td>84</td>\n",
       "      <td>0.300061</td>\n",
       "      <td>0.526811</td>\n",
       "      <td>0.883333</td>\n",
       "      <td>00:01</td>\n",
       "    </tr>\n",
       "    <tr>\n",
       "      <td>85</td>\n",
       "      <td>0.299241</td>\n",
       "      <td>0.530381</td>\n",
       "      <td>0.883333</td>\n",
       "      <td>00:01</td>\n",
       "    </tr>\n",
       "    <tr>\n",
       "      <td>86</td>\n",
       "      <td>0.298963</td>\n",
       "      <td>0.516044</td>\n",
       "      <td>0.891927</td>\n",
       "      <td>00:01</td>\n",
       "    </tr>\n",
       "    <tr>\n",
       "      <td>87</td>\n",
       "      <td>0.298455</td>\n",
       "      <td>0.514931</td>\n",
       "      <td>0.891667</td>\n",
       "      <td>00:01</td>\n",
       "    </tr>\n",
       "    <tr>\n",
       "      <td>88</td>\n",
       "      <td>0.298414</td>\n",
       "      <td>0.515347</td>\n",
       "      <td>0.890104</td>\n",
       "      <td>00:01</td>\n",
       "    </tr>\n",
       "    <tr>\n",
       "      <td>89</td>\n",
       "      <td>0.297749</td>\n",
       "      <td>0.517213</td>\n",
       "      <td>0.887500</td>\n",
       "      <td>00:01</td>\n",
       "    </tr>\n",
       "    <tr>\n",
       "      <td>90</td>\n",
       "      <td>0.297164</td>\n",
       "      <td>0.519581</td>\n",
       "      <td>0.883594</td>\n",
       "      <td>00:01</td>\n",
       "    </tr>\n",
       "    <tr>\n",
       "      <td>91</td>\n",
       "      <td>0.296880</td>\n",
       "      <td>0.522687</td>\n",
       "      <td>0.882812</td>\n",
       "      <td>00:01</td>\n",
       "    </tr>\n",
       "    <tr>\n",
       "      <td>92</td>\n",
       "      <td>0.296422</td>\n",
       "      <td>0.522712</td>\n",
       "      <td>0.883073</td>\n",
       "      <td>00:01</td>\n",
       "    </tr>\n",
       "    <tr>\n",
       "      <td>93</td>\n",
       "      <td>0.296069</td>\n",
       "      <td>0.521608</td>\n",
       "      <td>0.882031</td>\n",
       "      <td>00:01</td>\n",
       "    </tr>\n",
       "    <tr>\n",
       "      <td>94</td>\n",
       "      <td>0.295833</td>\n",
       "      <td>0.520996</td>\n",
       "      <td>0.882552</td>\n",
       "      <td>00:01</td>\n",
       "    </tr>\n",
       "    <tr>\n",
       "      <td>95</td>\n",
       "      <td>0.295439</td>\n",
       "      <td>0.518523</td>\n",
       "      <td>0.885156</td>\n",
       "      <td>00:01</td>\n",
       "    </tr>\n",
       "    <tr>\n",
       "      <td>96</td>\n",
       "      <td>0.295410</td>\n",
       "      <td>0.520304</td>\n",
       "      <td>0.884115</td>\n",
       "      <td>00:01</td>\n",
       "    </tr>\n",
       "    <tr>\n",
       "      <td>97</td>\n",
       "      <td>0.295622</td>\n",
       "      <td>0.520641</td>\n",
       "      <td>0.883854</td>\n",
       "      <td>00:01</td>\n",
       "    </tr>\n",
       "    <tr>\n",
       "      <td>98</td>\n",
       "      <td>0.295427</td>\n",
       "      <td>0.521142</td>\n",
       "      <td>0.883854</td>\n",
       "      <td>00:01</td>\n",
       "    </tr>\n",
       "    <tr>\n",
       "      <td>99</td>\n",
       "      <td>0.295301</td>\n",
       "      <td>0.519712</td>\n",
       "      <td>0.883594</td>\n",
       "      <td>00:01</td>\n",
       "    </tr>\n",
       "  </tbody>\n",
       "</table>"
      ],
      "text/plain": [
       "<IPython.core.display.HTML object>"
      ]
     },
     "metadata": {},
     "output_type": "display_data"
    },
    {
     "data": {
      "image/png": "[encoded data removed]",
      "text/plain": [
       "<Figure size 432x288 with 1 Axes>"
      ]
     },
     "metadata": {
      "needs_background": "light"
     },
     "output_type": "display_data"
    },
    {
     "data": {
      "image/png": "[encoded data removed]",
      "text/plain": [
       "<Figure size 432x288 with 1 Axes>"
      ]
     },
     "metadata": {
      "needs_background": "light"
     },
     "output_type": "display_data"
    },
    {
     "data": {
      "image/png": "[encoded data removed]",
      "text/plain": [
       "<Figure size 432x288 with 1 Axes>"
      ]
     },
     "metadata": {
      "needs_background": "light"
     },
     "output_type": "display_data"
    }
   ],
   "source": [
    "learn.metrics = metrics\n",
    "learn.load('stage_0')\n",
    "learn.fit_one_cycle(epochs, max_lr=max_lr, pct_start=pct_start, moms=(.95, .85) if warmup else (.95, .95),\n",
    "                    div_factor=25.0 if warmup else 1., wd=wd)\n",
    "learn.save('stage_1')\n",
    "learn.recorder.plot_lr()\n",
    "learn.recorder.plot_losses()\n",
    "learn.recorder.plot_metrics()"
   ]
  },
  {
   "cell_type": "code",
   "execution_count": 24,
   "metadata": {
    "ExecuteTime": {
     "end_time": "2019-09-30T19:01:33.678116Z",
     "start_time": "2019-09-30T19:01:33.623756Z"
    },
    "hidden": true
   },
   "outputs": [
    {
     "data": {
      "text/html": [
       "<div>\n",
       "<style scoped>\n",
       "    .dataframe tbody tr th:only-of-type {\n",
       "        vertical-align: middle;\n",
       "    }\n",
       "\n",
       "    .dataframe tbody tr th {\n",
       "        vertical-align: top;\n",
       "    }\n",
       "\n",
       "    .dataframe thead th {\n",
       "        text-align: right;\n",
       "    }\n",
       "</style>\n",
       "<table border=\"1\" class=\"dataframe\">\n",
       "  <thead>\n",
       "    <tr style=\"text-align: right;\">\n",
       "      <th></th>\n",
       "      <th>arch</th>\n",
       "      <th>accuracy</th>\n",
       "      <th>accuracy train loss</th>\n",
       "      <th>max_accuracy</th>\n",
       "      <th>n_params</th>\n",
       "    </tr>\n",
       "  </thead>\n",
       "  <tbody>\n",
       "    <tr>\n",
       "      <td>0</td>\n",
       "      <td>InceptionTime</td>\n",
       "      <td>0.88359</td>\n",
       "      <td>0.88385</td>\n",
       "      <td>0.89193</td>\n",
       "      <td>406307</td>\n",
       "    </tr>\n",
       "  </tbody>\n",
       "</table>\n",
       "</div>"
      ],
      "text/plain": [
       "            arch accuracy accuracy train loss max_accuracy n_params\n",
       "0  InceptionTime  0.88359             0.88385      0.89193   406307"
      ]
     },
     "metadata": {},
     "output_type": "display_data"
    }
   ],
   "source": [
    "archs_names, acc_, acces_, acc5_, n_params_,  = [], [], [], [], []\n",
    "archs_names.append(arch.__name__)\n",
    "early_stop = math.ceil(np.argmin(learn.recorder.losses) / len(learn.data.train_dl))\n",
    "acc_.append('{:.5}'.format(learn.recorder.metrics[-1][0].item()))\n",
    "acces_.append('{:.5}'.format(learn.recorder.metrics[early_stop - 1][0].item()))\n",
    "acc5_.append('{:.5}'.format(np.mean(np.max(learn.recorder.metrics))))\n",
    "n_params_.append(count_params(learn))\n",
    "clear_output()\n",
    "df = (pd.DataFrame(np.stack((archs_names, acc_, acces_, acc5_, n_params_)).T,\n",
    "                   columns=['arch', 'accuracy', 'accuracy train loss', 'max_accuracy','n_params'])\n",
    "      .sort_values('accuracy train loss', ascending=False).reset_index(drop=True))\n",
    "display(df)"
   ]
  },
  {
   "cell_type": "markdown",
   "metadata": {
    "heading_collapsed": true,
    "hidden": true
   },
   "source": [
    "### Results"
   ]
  },
  {
   "cell_type": "code",
   "execution_count": 26,
   "metadata": {
    "ExecuteTime": {
     "end_time": "2019-09-30T19:02:15.237723Z",
     "start_time": "2019-09-30T19:02:14.228684Z"
    },
    "hidden": true
   },
   "outputs": [
    {
     "data": {
      "image/png": "[encoded data removed]",
      "text/plain": [
       "<Figure size 432x288 with 1 Axes>"
      ]
     },
     "metadata": {
      "needs_background": "light"
     },
     "output_type": "display_data"
    }
   ],
   "source": [
    "interp = ClassificationInterpretation.from_learner(learn)\n",
    "interp.plot_confusion_matrix()"
   ]
  },
  {
   "cell_type": "code",
   "execution_count": null,
   "metadata": {
    "hidden": true
   },
   "outputs": [],
   "source": []
  },
  {
   "cell_type": "code",
   "execution_count": null,
   "metadata": {
    "hidden": true
   },
   "outputs": [],
   "source": []
  }
 ],
 "metadata": {
  "kernelspec": {
   "display_name": "fastai-v1",
   "language": "python",
   "name": "fastai-v1"
  },
  "language_info": {
   "codemirror_mode": {
    "name": "ipython",
    "version": 3
   },
   "file_extension": ".py",
   "mimetype": "text/x-python",
   "name": "python",
   "nbconvert_exporter": "python",
   "pygments_lexer": "ipython3",
   "version": "3.7.5"
  }
 },
 "nbformat": 4,
 "nbformat_minor": 2
}
