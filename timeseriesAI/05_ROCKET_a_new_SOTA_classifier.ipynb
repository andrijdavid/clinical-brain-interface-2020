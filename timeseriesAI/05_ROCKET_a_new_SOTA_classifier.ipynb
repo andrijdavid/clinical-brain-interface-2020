{
 "cells": [
  {
   "cell_type": "markdown",
   "metadata": {},
   "source": [
    "created by Ignacio Oguiza - email: oguiza@gmail.com"
   ]
  },
  {
   "cell_type": "code",
   "execution_count": 1,
   "metadata": {
    "ExecuteTime": {
     "end_time": "2019-11-04T05:23:44.486585Z",
     "start_time": "2019-11-04T05:23:44.474518Z"
    },
    "hide_input": true
   },
   "outputs": [
    {
     "data": {
      "application/javascript": [
       "utils.load_extension('collapsible_headings/main')\n",
       "utils.load_extension('hide_input/main')\n",
       "utils.load_extension('autosavetime/main')\n",
       "utils.load_extension('execute_time/ExecuteTime')\n",
       "utils.load_extension('code_prettify/code_prettify')\n",
       "utils.load_extension('scroll_down/main')\n",
       "utils.load_extension('jupyter-js-widgets/extension')\n"
      ],
      "text/plain": [
       "<IPython.core.display.Javascript object>"
      ]
     },
     "metadata": {},
     "output_type": "display_data"
    }
   ],
   "source": [
    "%%javascript\n",
    "utils.load_extension('collapsible_headings/main')\n",
    "utils.load_extension('hide_input/main')\n",
    "utils.load_extension('autosavetime/main')\n",
    "utils.load_extension('execute_time/ExecuteTime')\n",
    "utils.load_extension('code_prettify/code_prettify')\n",
    "utils.load_extension('scroll_down/main')\n",
    "utils.load_extension('jupyter-js-widgets/extension')"
   ]
  },
  {
   "cell_type": "code",
   "execution_count": 2,
   "metadata": {
    "ExecuteTime": {
     "end_time": "2019-11-06T17:18:54.679517Z",
     "start_time": "2019-11-06T17:18:54.675168Z"
    },
    "hide_input": true
   },
   "outputs": [
    {
     "data": {
      "text/html": [
       "<style>.container { width:100% !important; }</style>"
      ],
      "text/plain": [
       "<IPython.core.display.HTML object>"
      ]
     },
     "metadata": {},
     "output_type": "display_data"
    }
   ],
   "source": [
    "from IPython.display import display, HTML, clear_output\n",
    "display(HTML(\"<style>.container { width:100% !important; }</style>\"))"
   ]
  },
  {
   "cell_type": "markdown",
   "metadata": {},
   "source": [
    "<img src=\"./images/Rocket.svg\"  width=\"150\">"
   ]
  },
  {
   "cell_type": "markdown",
   "metadata": {},
   "source": [
    "ROCKET (RandOm Convolutional KErnel Transform) is a new Time Series Classification (TSC) method that has just been released (Oct 29th, 2019), and has achieved **state-of-the-art performance on the UCR univariate time series classification datasets, surpassing HIVE-COTE (the previous state of the art since 2017) in accuracy, with exceptional speed compared to other traditional DL methods.** \n",
    "\n",
    "To achieve these 2 things at once is **VERY IMPRESSIVE**. ROCKET is certainly a new TSC method you should try.\n",
    "\n",
    "Authors:\n",
    "Dempster, A., Petitjean, F., & Webb, G. I. (2019). ROCKET: Exceptionally fast and accurate time series classification using random convolutional kernels. arXiv preprint arXiv:1910.13051.\n",
    "\n",
    "[paper](https://arxiv.org/pdf/1910.13051)\n",
    "\n",
    "There are 2 main limitations to the original ROCKET method though:\n",
    "- The release code doesn't handle multivariate data\n",
    "- It doesn't run on a GPU, so it's slow when used with a large datasets\n",
    "\n",
    "In this notebook you will learn: \n",
    "- how you can use the original ROCKET method\n",
    "- you will also learn about a new ROCKET version I have developed in Pytorch, that handles both univariate and multivariate data, and uses GPU\n",
    "- you will see how you can integrate the ROCKET features with fastai or other classifiers"
   ]
  },
  {
   "cell_type": "markdown",
   "metadata": {
    "heading_collapsed": true
   },
   "source": [
    "## Import libraries 📚"
   ]
  },
  {
   "cell_type": "code",
   "execution_count": 1,
   "metadata": {
    "ExecuteTime": {
     "end_time": "2019-11-07T20:05:10.511338Z",
     "start_time": "2019-11-07T20:05:09.985460Z"
    },
    "hidden": true,
    "hide_input": false
   },
   "outputs": [],
   "source": [
    "%reload_ext autoreload\n",
    "%autoreload 2\n",
    "%matplotlib inline"
   ]
  },
  {
   "cell_type": "code",
   "execution_count": 2,
   "metadata": {
    "ExecuteTime": {
     "end_time": "2019-11-07T20:09:24.357691Z",
     "start_time": "2019-11-07T20:09:22.842175Z"
    },
    "hidden": true
   },
   "outputs": [
    {
     "data": {
      "text/html": [
       "<style>.container { width:100% !important; }</style>"
      ],
      "text/plain": [
       "<IPython.core.display.HTML object>"
      ]
     },
     "metadata": {},
     "output_type": "display_data"
    },
    {
     "name": "stdout",
     "output_type": "stream",
     "text": [
      "pytorch: 1.3.0\n",
      "fastai : 1.0.59\n"
     ]
    }
   ],
   "source": [
    "from fastai_timeseries import *\n",
    "print('pytorch:', torch.__version__)\n",
    "print('fastai :', fastai.__version__)"
   ]
  },
  {
   "cell_type": "markdown",
   "metadata": {
    "heading_collapsed": true
   },
   "source": [
    "## How to use the original ROCKET method? 🚀"
   ]
  },
  {
   "cell_type": "markdown",
   "metadata": {
    "hidden": true
   },
   "source": [
    "ROCKET is applied in 2 phases:\n",
    "\n",
    "1. Generate features from each time series: ROCKET calculates 20k features from each time series, independently of the sequence length. \n",
    "2. Apply a classifier to those calculated features. Those features are then used by the classifier of your choice. In the original code they use 2 simple linear classifiers: RidgeClassifierCV and Logistic Regression, but you can use any classifier."
   ]
  },
  {
   "cell_type": "markdown",
   "metadata": {
    "heading_collapsed": true,
    "hidden": true
   },
   "source": [
    "### 1️⃣ Generate features\n",
    "\n",
    "Let's first generate the features. We'll import data from a UCR Time Series dataset.\n",
    "\n",
    "The original method requires the time series to be in a 2d array of dtype np.float64."
   ]
  },
  {
   "cell_type": "code",
   "execution_count": 6,
   "metadata": {
    "ExecuteTime": {
     "end_time": "2019-11-07T15:24:37.674356Z",
     "start_time": "2019-11-07T15:24:37.579886Z"
    },
    "hidden": true
   },
   "outputs": [
    {
     "data": {
      "text/plain": [
       "((30, 570), (30, 570))"
      ]
     },
     "execution_count": 6,
     "metadata": {},
     "output_type": "execute_result"
    }
   ],
   "source": [
    "X_train, y_train, X_valid, y_valid = get_UCR_data('OliveOil')\n",
    "seq_len = X_train.shape[-1]\n",
    "X_train = X_train[:, 0].astype(np.float64)\n",
    "X_valid = X_valid[:, 0].astype(np.float64)\n",
    "X_train.shape, X_valid.shape"
   ]
  },
  {
   "cell_type": "markdown",
   "metadata": {
    "hidden": true
   },
   "source": [
    "Now we normalize the data to mean 0 and std 1 **'per sample'** (recommended by the authors), that is they set each sample to mean 0 and std 1)."
   ]
  },
  {
   "cell_type": "code",
   "execution_count": 7,
   "metadata": {
    "ExecuteTime": {
     "end_time": "2019-11-07T15:24:39.274653Z",
     "start_time": "2019-11-07T15:24:39.074508Z"
    },
    "hidden": true
   },
   "outputs": [
    {
     "data": {
      "text/plain": [
       "(30, 1)"
      ]
     },
     "execution_count": 7,
     "metadata": {},
     "output_type": "execute_result"
    }
   ],
   "source": [
    "X_train = (X_train - X_train.mean(axis = 1, keepdims = True)) / (X_train.std(axis = 1, keepdims = True) + 1e-8)\n",
    "X_valid = (X_valid - X_valid.mean(axis = 1, keepdims = True)) / (X_valid.std(axis = 1, keepdims = True) + 1e-8)\n",
    "X_train.mean(axis = 1, keepdims = True).shape"
   ]
  },
  {
   "cell_type": "markdown",
   "metadata": {
    "ExecuteTime": {
     "end_time": "2019-11-04T09:50:07.532655Z",
     "start_time": "2019-11-04T09:50:07.468806Z"
    },
    "hidden": true
   },
   "source": [
    "To generate the features, we first need to create the 10k random kernels that will be used to process the data."
   ]
  },
  {
   "cell_type": "code",
   "execution_count": 13,
   "metadata": {
    "ExecuteTime": {
     "end_time": "2019-11-07T15:25:43.416789Z",
     "start_time": "2019-11-07T15:25:43.386871Z"
    },
    "hidden": true
   },
   "outputs": [],
   "source": [
    "kernels = generate_kernels(seq_len, 10000)"
   ]
  },
  {
   "cell_type": "markdown",
   "metadata": {
    "hidden": true
   },
   "source": [
    "Now we apply those ramdom kernels to the data"
   ]
  },
  {
   "cell_type": "code",
   "execution_count": 14,
   "metadata": {
    "ExecuteTime": {
     "end_time": "2019-11-07T15:25:45.986842Z",
     "start_time": "2019-11-07T15:25:44.631719Z"
    },
    "hidden": true
   },
   "outputs": [],
   "source": [
    "X_train_tfm = apply_kernels(X_train, kernels)\n",
    "X_valid_tfm = apply_kernels(X_valid, kernels)"
   ]
  },
  {
   "cell_type": "markdown",
   "metadata": {
    "heading_collapsed": true,
    "hidden": true
   },
   "source": [
    "### 2️⃣ Apply a classifier\n",
    "\n",
    "So now we have the features, and we are ready to apply a classifier. \n",
    "\n",
    "Let's use a simple, linear RidgeClassifierCV as they propose in the paper. We first instantiate it. \n",
    "\n",
    "Note:\n",
    "alphas: Array of alpha values to try. Regularization strength; must be a positive float. Regularization improves the conditioning of the problem and reduces the variance of the estimates. Larger values specify stronger regularization. Alpha corresponds to C^-1 in other linear models such as LogisticRegression or LinearSVC."
   ]
  },
  {
   "cell_type": "code",
   "execution_count": 15,
   "metadata": {
    "ExecuteTime": {
     "end_time": "2019-11-07T15:25:46.013586Z",
     "start_time": "2019-11-07T15:25:45.988939Z"
    },
    "hidden": true
   },
   "outputs": [],
   "source": [
    "from sklearn.linear_model import RidgeClassifierCV\n",
    "classifier = RidgeClassifierCV(alphas=np.logspace(-3, 3, 7), normalize=True)"
   ]
  },
  {
   "cell_type": "code",
   "execution_count": 16,
   "metadata": {
    "ExecuteTime": {
     "end_time": "2019-11-07T15:25:46.287476Z",
     "start_time": "2019-11-07T15:25:46.254880Z"
    },
    "hidden": true
   },
   "outputs": [
    {
     "data": {
      "text/plain": [
       "RidgeClassifierCV(alphas=array([1.e-03, 1.e-02, 1.e-01, 1.e+00, 1.e+01, 1.e+02, 1.e+03]),\n",
       "                  class_weight=None, cv=None, fit_intercept=True,\n",
       "                  normalize=True, scoring=None, store_cv_values=False)"
      ]
     },
     "execution_count": 16,
     "metadata": {},
     "output_type": "execute_result"
    }
   ],
   "source": [
    " classifier.fit(X_train_tfm, y_train)"
   ]
  },
  {
   "cell_type": "code",
   "execution_count": 17,
   "metadata": {
    "ExecuteTime": {
     "end_time": "2019-11-07T15:25:47.371518Z",
     "start_time": "2019-11-07T15:25:47.343240Z"
    },
    "hidden": true
   },
   "outputs": [
    {
     "data": {
      "text/plain": [
       "0.9333333333333333"
      ]
     },
     "execution_count": 17,
     "metadata": {},
     "output_type": "execute_result"
    }
   ],
   "source": [
    "classifier.score(X_valid_tfm, y_valid)"
   ]
  },
  {
   "cell_type": "markdown",
   "metadata": {
    "hidden": true
   },
   "source": [
    "☣️ **This is pretty impressive! It matches or exceeds the state-of-the-art performance without any fine tuning in <2 seconds!!!**"
   ]
  },
  {
   "cell_type": "code",
   "execution_count": 20,
   "metadata": {
    "ExecuteTime": {
     "end_time": "2019-11-07T15:26:24.615671Z",
     "start_time": "2019-11-07T15:26:23.256075Z"
    },
    "hidden": true
   },
   "outputs": [
    {
     "data": {
      "text/plain": [
       "0.9"
      ]
     },
     "execution_count": 20,
     "metadata": {},
     "output_type": "execute_result"
    }
   ],
   "source": [
    "kernels = generate_kernels(seq_len, 10000)\n",
    "X_train_tfm = apply_kernels(X_train, kernels)\n",
    "X_valid_tfm = apply_kernels(X_valid, kernels)\n",
    "from sklearn.linear_model import RidgeClassifierCV\n",
    "classifier = RidgeClassifierCV(alphas=np.logspace(-3, 3, 7), normalize=True)\n",
    "classifier.fit(X_train_tfm, y_train)\n",
    "classifier.score(X_valid_tfm, y_valid)"
   ]
  },
  {
   "cell_type": "markdown",
   "metadata": {
    "hidden": true
   },
   "source": [
    "⚠️ Bear in mind that this process is not deterministic since there is randomness involved in the kernels. In thiis case, performance may vay between .9 to .933"
   ]
  },
  {
   "cell_type": "markdown",
   "metadata": {
    "heading_collapsed": true
   },
   "source": [
    "## How to use ROCKET with large and/ or multivariate datasets on GPU? ❓"
   ]
  },
  {
   "cell_type": "markdown",
   "metadata": {
    "hidden": true
   },
   "source": [
    "As stated before, the current ROCKET method doesn't support multivariate time series or GPU. This may be a drawback in some cases. \n",
    "\n",
    "To overcome both limitations I've created a multivariate ROCKET on GPU in Pytorch. "
   ]
  },
  {
   "cell_type": "code",
   "execution_count": 4,
   "metadata": {
    "ExecuteTime": {
     "end_time": "2019-11-07T20:09:41.495050Z",
     "start_time": "2019-11-07T20:09:41.481979Z"
    },
    "hidden": true
   },
   "outputs": [],
   "source": [
    "import torch\n",
    "import torch.nn as nn\n",
    "\n",
    "class ROCKET(nn.Module):\n",
    "    def __init__(self, c_in, seq_len, n_kernels=10000, kss=[7, 9, 11]):\n",
    "        \n",
    "        '''\n",
    "        ROCKET is a GPU Pytorch implementation of the ROCKET methods generate_kernels \n",
    "        and apply_kernels that can be used  with univariate and multivariate time series.\n",
    "        Input: is a 3d torch tensor of type torch.float32. When used with univariate TS, \n",
    "        make sure you transform the 2d to 3d by adding unsqueeze(1).\n",
    "        c_in: number of channels or features. For univariate c_in is 1.\n",
    "        seq_len: sequence length\n",
    "        '''\n",
    "        super().__init__()\n",
    "        kss = [ks for ks in kss if ks < seq_len]\n",
    "        convs = nn.ModuleList()\n",
    "        for i in range(n_kernels):\n",
    "            ks = np.random.choice(kss)\n",
    "            dilation = 2**np.random.uniform(0, np.log2((seq_len - 1) // (ks - 1)))\n",
    "            padding = int((ks - 1) * dilation // 2) if np.random.randint(2) == 1 else 0\n",
    "            weight = torch.randn(1, c_in, ks)\n",
    "            weight -= weight.mean()\n",
    "            bias = 2 * (torch.rand(1) - .5)\n",
    "            layer = nn.Conv1d(c_in, 1, ks, padding=2 * padding, dilation=int(dilation), bias=True)\n",
    "            layer.weight = torch.nn.Parameter(weight, requires_grad=False)\n",
    "            layer.bias = torch.nn.Parameter(bias, requires_grad=False)\n",
    "            convs.append(layer)\n",
    "        self.convs = convs\n",
    "        self.n_kernels = n_kernels\n",
    "        self.kss = kss\n",
    "\n",
    "    def forward(self, x):\n",
    "        for i in range(self.n_kernels):\n",
    "            out = self.convs[i](x)\n",
    "            _max = out.max(dim=-1).values\n",
    "            _ppv = torch.gt(out, 0).sum(dim=-1).float() / out.shape[-1]\n",
    "            cat = torch.cat((_max, _ppv), dim=-1)\n",
    "            output = cat if i == 0 else torch.cat((output, cat), dim=-1)\n",
    "        return output"
   ]
  },
  {
   "cell_type": "markdown",
   "metadata": {
    "hidden": true
   },
   "source": [
    "The way to use ROCKET in Pytorch is the following:"
   ]
  },
  {
   "cell_type": "markdown",
   "metadata": {
    "heading_collapsed": true,
    "hidden": true
   },
   "source": [
    "### 1️⃣ Generate features\n",
    "\n",
    "First you prepare the input data and normalize it per sample. The input to ROCKET Pytorch is a 3d tensor (preferrable on gpu)"
   ]
  },
  {
   "cell_type": "code",
   "execution_count": 159,
   "metadata": {
    "ExecuteTime": {
     "end_time": "2019-11-07T17:28:50.586790Z",
     "start_time": "2019-11-07T17:28:48.564607Z"
    },
    "hidden": true
   },
   "outputs": [
    {
     "name": "stdout",
     "output_type": "stream",
     "text": [
      "torch.Size([160, 10, 400]) torch.Size([74, 10, 400]) (160,) (74,)\n"
     ]
    }
   ],
   "source": [
    "X_train, y_train, X_valid, y_valid = get_UCR_data('HandMovementDirection')\n",
    "_, features, seq_len = X_train.shape\n",
    "X_train = (X_train - X_train.mean(axis=(1, 2), keepdims=True)) / (\n",
    "    X_train.std(axis=(1, 2), keepdims=True) + 1e-8)\n",
    "X_valid = (X_valid - X_valid.mean(axis=(1, 2), keepdims=True)) / (\n",
    "    X_valid.std(axis=(1, 2), keepdims=True) + 1e-8)\n",
    "X_train = torch.tensor(X_train, dtype=torch.float32, device=device)\n",
    "X_valid = torch.tensor(X_valid, dtype=torch.float32, device=device)\n",
    "print(X_train.shape, X_valid.shape, y_train.shape, y_valid.shape)"
   ]
  },
  {
   "cell_type": "markdown",
   "metadata": {
    "ExecuteTime": {
     "end_time": "2019-11-04T10:17:29.870472Z",
     "start_time": "2019-11-04T10:17:29.807377Z"
    },
    "hidden": true
   },
   "source": [
    "Then you instantiate the Pytorch model."
   ]
  },
  {
   "cell_type": "code",
   "execution_count": 160,
   "metadata": {
    "ExecuteTime": {
     "end_time": "2019-11-07T17:28:56.268407Z",
     "start_time": "2019-11-07T17:28:51.780782Z"
    },
    "hidden": true
   },
   "outputs": [],
   "source": [
    "n_kernels=10_000\n",
    "kss=[7, 9, 11]\n",
    "model = ROCKET(features, seq_len, n_kernels=n_kernels, kss=kss).to(device)"
   ]
  },
  {
   "cell_type": "markdown",
   "metadata": {
    "hidden": true
   },
   "source": [
    "And we now transform the original data, creating 20k features per sample"
   ]
  },
  {
   "cell_type": "code",
   "execution_count": 161,
   "metadata": {
    "ExecuteTime": {
     "end_time": "2019-11-07T17:29:03.763013Z",
     "start_time": "2019-11-07T17:28:56.272091Z"
    },
    "hidden": true
   },
   "outputs": [],
   "source": [
    "X_train_tfm = model(X_train)\n",
    "X_valid_tfm = model(X_valid)"
   ]
  },
  {
   "cell_type": "markdown",
   "metadata": {
    "heading_collapsed": true,
    "hidden": true
   },
   "source": [
    "### 2️⃣ Apply a classifier"
   ]
  },
  {
   "cell_type": "markdown",
   "metadata": {
    "heading_collapsed": true,
    "hidden": true
   },
   "source": [
    "#### RidgeClassifierCV"
   ]
  },
  {
   "cell_type": "markdown",
   "metadata": {
    "hidden": true
   },
   "source": [
    "And now you apply a classifier of your choice. \n",
    "With RidgeClassifierCV in particular, there's no need to normalize the calculated features before passing them to the classifier, as it does it internally (if normalize is set to True as recommended by the authors)."
   ]
  },
  {
   "cell_type": "code",
   "execution_count": 162,
   "metadata": {
    "ExecuteTime": {
     "end_time": "2019-11-07T17:29:03.861759Z",
     "start_time": "2019-11-07T17:29:03.765675Z"
    },
    "hidden": true
   },
   "outputs": [
    {
     "name": "stdout",
     "output_type": "stream",
     "text": [
      "alpha: 1.00E+01  train: 1.00000  valid: 0.48649\n"
     ]
    }
   ],
   "source": [
    "from sklearn.linear_model import RidgeClassifierCV\n",
    "ridge = RidgeClassifierCV(alphas=np.logspace(-8, 8, 17), normalize=True)\n",
    "ridge.fit(X_train_tfm, y_train)\n",
    "print('alpha: {:.2E}  train: {:.5f}  valid: {:.5f}'.format(ridge.alpha_, \n",
    "                                                           ridge.score(X_train_tfm, y_train), \n",
    "                                                           ridge.score(X_valid_tfm, y_valid)))"
   ]
  },
  {
   "cell_type": "markdown",
   "metadata": {
    "heading_collapsed": true,
    "hidden": true
   },
   "source": [
    "#### Logistic Regression"
   ]
  },
  {
   "cell_type": "markdown",
   "metadata": {
    "hidden": true
   },
   "source": [
    "In the case of other classifiers (like Logistic Regression), the authors recommend a per-feature normalization."
   ]
  },
  {
   "cell_type": "code",
   "execution_count": 164,
   "metadata": {
    "ExecuteTime": {
     "end_time": "2019-11-07T17:30:28.091427Z",
     "start_time": "2019-11-07T17:29:29.374103Z"
    },
    "hidden": true
   },
   "outputs": [
    {
     "name": "stdout",
     "output_type": "stream",
     "text": [
      " 0 eps: 1.00E-06  C: 1.00E-05  loss: 1.36964  train_acc: 0.80625  valid_acc: 0.43243\n",
      " 1 eps: 1.00E-06  C: 1.00E-04  loss: 1.28455  train_acc: 1.00000  valid_acc: 0.45946\n",
      " 2 eps: 1.00E-06  C: 1.00E-03  loss: 1.09687  train_acc: 1.00000  valid_acc: 0.47297\n",
      " 3 eps: 1.00E-06  C: 1.00E-02  loss: 0.87247  train_acc: 1.00000  valid_acc: 0.45946\n",
      " 4 eps: 1.00E-06  C: 1.00E-01  loss: 0.76865  train_acc: 1.00000  valid_acc: 0.45946\n",
      " 5 eps: 1.00E-06  C: 1.00E+00  loss: 0.74737  train_acc: 1.00000  valid_acc: 0.45946\n",
      " 6 eps: 1.00E-06  C: 1.00E+01  loss: 0.74417  train_acc: 1.00000  valid_acc: 0.44595\n",
      " 7 eps: 1.00E-06  C: 1.00E+02  loss: 0.74374  train_acc: 1.00000  valid_acc: 0.44595\n",
      " 8 eps: 1.00E-06  C: 1.00E+03  loss: 0.74370  train_acc: 1.00000  valid_acc: 0.43243\n",
      " 9 eps: 1.00E-06  C: 1.00E+04  loss: 0.74370  train_acc: 1.00000  valid_acc: 0.50000\n",
      "10 eps: 1.00E-06  C: 1.00E+05  loss: 0.74369  train_acc: 1.00000  valid_acc: 0.51351\n",
      "\n",
      "Best result:\n",
      "eps: 1.00E-06  C: 1.00E+05  train_loss: 0.74369  train_acc: 1.00000  valid_acc: 0.51351\n"
     ]
    }
   ],
   "source": [
    "eps = 1e-6\n",
    "Cs = np.logspace(-5, 5, 11)\n",
    "from sklearn.linear_model import LogisticRegression\n",
    "best_loss = np.inf\n",
    "for i, C in enumerate(Cs):\n",
    "    f_mean = X_train_tfm.mean(axis=0, keepdims=True)\n",
    "    f_std = X_train_tfm.std(axis=0, keepdims=True) + eps  # epsilon to avoid dividing by 0\n",
    "    X_train_tfm2 = (X_train_tfm - f_mean) / f_std\n",
    "    X_valid_tfm2 = (X_valid_tfm - f_mean) / f_std\n",
    "    classifier = LogisticRegression(penalty='l2', C=C, n_jobs=-1)\n",
    "    classifier.fit(X_train_tfm2, y_train)\n",
    "    probas = classifier.predict_proba(X_train_tfm2)\n",
    "    loss = nn.CrossEntropyLoss()(torch.tensor(probas), torch.tensor(y_train)).item()\n",
    "    train_score = classifier.score(X_train_tfm2, y_train)\n",
    "    val_score = classifier.score(X_valid_tfm2, y_valid)\n",
    "    if loss < best_loss:\n",
    "        best_eps = eps\n",
    "        best_C = C\n",
    "        best_loss = loss\n",
    "        best_train_score = train_score\n",
    "        best_val_score = val_score\n",
    "    print('{:2} eps: {:.2E}  C: {:.2E}  loss: {:.5f}  train_acc: {:.5f}  valid_acc: {:.5f}'.format(\n",
    "        i, eps, C, loss, train_score, val_score))\n",
    "print('\\nBest result:')\n",
    "print('eps: {:.2E}  C: {:.2E}  train_loss: {:.5f}  train_acc: {:.5f}  valid_acc: {:.5f}'.format(\n",
    "        best_eps, best_C, best_loss, best_train_score, best_val_score))"
   ]
  },
  {
   "cell_type": "markdown",
   "metadata": {
    "hidden": true
   },
   "source": [
    "This result is amazing!! The previous state of the art (Inceptiontime) was .37837\n",
    "\n",
    "☣️ Note: Epsilon has a large impact on the result. You can actually test several values to find the one that best fits your problem, but bear in mind you can only select C and epsilon based on train data!!! "
   ]
  },
  {
   "cell_type": "markdown",
   "metadata": {
    "heading_collapsed": true,
    "hidden": true
   },
   "source": [
    "##### RandomSearch"
   ]
  },
  {
   "cell_type": "markdown",
   "metadata": {
    "hidden": true
   },
   "source": [
    "One way to do this would be to performa a random search using several epsilon and C values"
   ]
  },
  {
   "cell_type": "code",
   "execution_count": 166,
   "metadata": {
    "ExecuteTime": {
     "end_time": "2019-11-07T17:44:08.735669Z",
     "start_time": "2019-11-07T17:43:12.486363Z"
    },
    "hidden": true
   },
   "outputs": [
    {
     "name": "stdout",
     "output_type": "stream",
     "text": [
      " 0  eps: 1.00E+00  C: 1.00E-03  loss: 1.18504  train_acc: 1.00000  valid_acc: 0.36486\n",
      " 1  eps: 1.00E-06  C: 1.00E-01  loss: 0.76865  train_acc: 1.00000  valid_acc: 0.45946\n",
      " 2  eps: 1.00E+00  C: 1.00E+05  loss: 0.74368  train_acc: 1.00000  valid_acc: 0.47297\n",
      " 3  eps: 1.00E-07  C: 1.00E+01  loss: 0.74417  train_acc: 1.00000  valid_acc: 0.45946\n",
      " 4  eps: 1.00E-05  C: 1.00E+02  loss: 0.74374  train_acc: 1.00000  valid_acc: 0.45946\n",
      " 5  eps: 1.00E-06  C: 1.00E+01  loss: 0.74417  train_acc: 1.00000  valid_acc: 0.44595\n",
      " 6  eps: 1.00E-06  C: 1.00E-05  loss: 1.36964  train_acc: 0.80625  valid_acc: 0.43243\n",
      " 7  eps: 1.00E-03  C: 1.00E+04  loss: 0.74370  train_acc: 1.00000  valid_acc: 0.43243\n",
      " 8  eps: 1.00E-02  C: 1.00E-01  loss: 0.77127  train_acc: 1.00000  valid_acc: 0.43243\n",
      " 9  eps: 1.00E+00  C: 1.00E+01  loss: 0.74478  train_acc: 1.00000  valid_acc: 0.37838\n",
      "\n",
      "Best result:\n",
      "eps: 1.00E+00  C: 1.00E+05  train_loss: 0.74368  train_acc: 1.00000  valid_acc: 0.47297\n"
     ]
    }
   ],
   "source": [
    "n_tests = 10\n",
    "epss = np.logspace(-8, 0, 9)\n",
    "Cs = np.logspace(-5, 5, 11)\n",
    "\n",
    "from sklearn.linear_model import LogisticRegression\n",
    "best_loss = np.inf\n",
    "for i in range(n_tests):\n",
    "    eps = np.random.choice(epss)\n",
    "    C = np.random.choice(Cs)\n",
    "    f_mean = X_train_tfm.mean(axis=0, keepdims=True)\n",
    "    f_std = X_train_tfm.std(axis=0, keepdims=True) + eps  # epsilon\n",
    "    X_train_tfm2 = (X_train_tfm - f_mean) / f_std\n",
    "    X_valid_tfm2 = (X_valid_tfm - f_mean) / f_std\n",
    "    classifier = LogisticRegression(penalty='l2', C=C, n_jobs=-1)\n",
    "    classifier.fit(X_train_tfm2, y_train)\n",
    "    probas = classifier.predict_proba(X_train_tfm2)\n",
    "    loss = nn.CrossEntropyLoss()(torch.tensor(probas), torch.tensor(y_train)).item()\n",
    "    train_score = classifier.score(X_train_tfm2, y_train)\n",
    "    val_score = classifier.score(X_valid_tfm2, y_valid)\n",
    "    if loss < best_loss:\n",
    "        best_eps = eps\n",
    "        best_C = C\n",
    "        best_loss = loss\n",
    "        best_train_score = train_score\n",
    "        best_val_score = val_score\n",
    "    print('{:2}  eps: {:.2E}  C: {:.2E}  loss: {:.5f}  train_acc: {:.5f}  valid_acc: {:.5f}'.format(\n",
    "        i, eps, C, loss, train_score, val_score))\n",
    "print('\\nBest result:')\n",
    "print('eps: {:.2E}  C: {:.2E}  train_loss: {:.5f}  train_acc: {:.5f}  valid_acc: {:.5f}'.format(\n",
    "        best_eps, best_C, best_loss, best_train_score, best_val_score))"
   ]
  },
  {
   "cell_type": "markdown",
   "metadata": {
    "heading_collapsed": true,
    "hidden": true
   },
   "source": [
    "### Results: accuracy and time"
   ]
  },
  {
   "cell_type": "markdown",
   "metadata": {
    "hidden": true
   },
   "source": [
    "I've checked the performance for all 85 univariate datasets in the UCR archive, and performance is the same as the published one. \n",
    "\n",
    "**Average performance accross all datasets is 85.100% (original) vs\t85.085% (with the Pytorch version).**"
   ]
  },
  {
   "cell_type": "markdown",
   "metadata": {
    "hidden": true
   },
   "source": [
    "I've also run some tests to and compared performance (time) of ROCKET original code vs Pytorch. These are the results:"
   ]
  },
  {
   "cell_type": "markdown",
   "metadata": {
    "hidden": true
   },
   "source": [
    "<img src=\"./images/Time_ROCKET_comp.png\" width=800>"
   ]
  },
  {
   "cell_type": "markdown",
   "metadata": {
    "hidden": true
   },
   "source": [
    "So, as you can see, in small datasets, the original method may be a bit faster than the GPU method, but for larger datasets, there's a great benefit in using the GPU version."
   ]
  },
  {
   "cell_type": "markdown",
   "metadata": {
    "hidden": true
   },
   "source": [
    "In addition to this, I have also run the code on the TSC UCR multivariate datasets (all the ones that don't contain nan values), and the results are also very good, beating the previous state-of-the-art in this category as well by a large margin. For example, ROCKET reduces InceptionTime errors by 26% on average."
   ]
  },
  {
   "cell_type": "code",
   "execution_count": 7,
   "metadata": {
    "ExecuteTime": {
     "end_time": "2019-11-03T01:04:35.883690Z",
     "start_time": "2019-11-02T23:46:25.737723Z"
    },
    "hidden": true,
    "hide_input": false
   },
   "outputs": [
    {
     "data": {
      "text/html": [
       "<div>\n",
       "<style scoped>\n",
       "    .dataframe tbody tr th:only-of-type {\n",
       "        vertical-align: middle;\n",
       "    }\n",
       "\n",
       "    .dataframe tbody tr th {\n",
       "        vertical-align: top;\n",
       "    }\n",
       "\n",
       "    .dataframe thead th {\n",
       "        text-align: right;\n",
       "    }\n",
       "</style>\n",
       "<table border=\"1\" class=\"dataframe\">\n",
       "  <thead>\n",
       "    <tr style=\"text-align: right;\">\n",
       "      <th></th>\n",
       "      <th>dataset</th>\n",
       "      <th>type</th>\n",
       "      <th>iterations</th>\n",
       "      <th>mean_accuracy</th>\n",
       "      <th>std_accuracy</th>\n",
       "      <th>time(s)</th>\n",
       "    </tr>\n",
       "  </thead>\n",
       "  <tbody>\n",
       "    <tr>\n",
       "      <td>0</td>\n",
       "      <td>ArticularyWordRecognition</td>\n",
       "      <td>multivariate</td>\n",
       "      <td>5</td>\n",
       "      <td>0.992667</td>\n",
       "      <td>0.001333</td>\n",
       "      <td>14</td>\n",
       "    </tr>\n",
       "    <tr>\n",
       "      <td>1</td>\n",
       "      <td>AtrialFibrillation</td>\n",
       "      <td>multivariate</td>\n",
       "      <td>5</td>\n",
       "      <td>0.306667</td>\n",
       "      <td>0.053333</td>\n",
       "      <td>13</td>\n",
       "    </tr>\n",
       "    <tr>\n",
       "      <td>2</td>\n",
       "      <td>BasicMotions</td>\n",
       "      <td>multivariate</td>\n",
       "      <td>5</td>\n",
       "      <td>1.000000</td>\n",
       "      <td>0.000000</td>\n",
       "      <td>13</td>\n",
       "    </tr>\n",
       "    <tr>\n",
       "      <td>3</td>\n",
       "      <td>Cricket</td>\n",
       "      <td>multivariate</td>\n",
       "      <td>5</td>\n",
       "      <td>1.000000</td>\n",
       "      <td>0.000000</td>\n",
       "      <td>13</td>\n",
       "    </tr>\n",
       "    <tr>\n",
       "      <td>4</td>\n",
       "      <td>ERing</td>\n",
       "      <td>multivariate</td>\n",
       "      <td>5</td>\n",
       "      <td>0.954074</td>\n",
       "      <td>0.002963</td>\n",
       "      <td>13</td>\n",
       "    </tr>\n",
       "    <tr>\n",
       "      <td>5</td>\n",
       "      <td>EigenWorms</td>\n",
       "      <td>multivariate</td>\n",
       "      <td>5</td>\n",
       "      <td>0.819847</td>\n",
       "      <td>0.013310</td>\n",
       "      <td>78</td>\n",
       "    </tr>\n",
       "    <tr>\n",
       "      <td>6</td>\n",
       "      <td>Epilepsy</td>\n",
       "      <td>multivariate</td>\n",
       "      <td>5</td>\n",
       "      <td>0.963768</td>\n",
       "      <td>0.000000</td>\n",
       "      <td>13</td>\n",
       "    </tr>\n",
       "    <tr>\n",
       "      <td>7</td>\n",
       "      <td>EthanolConcentration</td>\n",
       "      <td>multivariate</td>\n",
       "      <td>5</td>\n",
       "      <td>0.292015</td>\n",
       "      <td>0.001521</td>\n",
       "      <td>15</td>\n",
       "    </tr>\n",
       "    <tr>\n",
       "      <td>8</td>\n",
       "      <td>FingerMovements</td>\n",
       "      <td>multivariate</td>\n",
       "      <td>5</td>\n",
       "      <td>0.534000</td>\n",
       "      <td>0.008000</td>\n",
       "      <td>14</td>\n",
       "    </tr>\n",
       "    <tr>\n",
       "      <td>9</td>\n",
       "      <td>HandMovementDirection</td>\n",
       "      <td>multivariate</td>\n",
       "      <td>5</td>\n",
       "      <td>0.475676</td>\n",
       "      <td>0.026204</td>\n",
       "      <td>13</td>\n",
       "    </tr>\n",
       "    <tr>\n",
       "      <td>10</td>\n",
       "      <td>Handwriting</td>\n",
       "      <td>multivariate</td>\n",
       "      <td>5</td>\n",
       "      <td>0.560706</td>\n",
       "      <td>0.003032</td>\n",
       "      <td>14</td>\n",
       "    </tr>\n",
       "    <tr>\n",
       "      <td>11</td>\n",
       "      <td>Heartbeat</td>\n",
       "      <td>multivariate</td>\n",
       "      <td>5</td>\n",
       "      <td>0.760976</td>\n",
       "      <td>0.003085</td>\n",
       "      <td>25</td>\n",
       "    </tr>\n",
       "    <tr>\n",
       "      <td>12</td>\n",
       "      <td>LSST</td>\n",
       "      <td>multivariate</td>\n",
       "      <td>5</td>\n",
       "      <td>0.640308</td>\n",
       "      <td>0.003544</td>\n",
       "      <td>33</td>\n",
       "    </tr>\n",
       "    <tr>\n",
       "      <td>13</td>\n",
       "      <td>Libras</td>\n",
       "      <td>multivariate</td>\n",
       "      <td>5</td>\n",
       "      <td>0.937778</td>\n",
       "      <td>0.002222</td>\n",
       "      <td>13</td>\n",
       "    </tr>\n",
       "    <tr>\n",
       "      <td>14</td>\n",
       "      <td>MotorImagery</td>\n",
       "      <td>multivariate</td>\n",
       "      <td>5</td>\n",
       "      <td>0.500000</td>\n",
       "      <td>0.000000</td>\n",
       "      <td>129</td>\n",
       "    </tr>\n",
       "    <tr>\n",
       "      <td>15</td>\n",
       "      <td>NATOPS</td>\n",
       "      <td>multivariate</td>\n",
       "      <td>5</td>\n",
       "      <td>0.950000</td>\n",
       "      <td>0.011111</td>\n",
       "      <td>14</td>\n",
       "    </tr>\n",
       "    <tr>\n",
       "      <td>16</td>\n",
       "      <td>PEMS-SF</td>\n",
       "      <td>multivariate</td>\n",
       "      <td>5</td>\n",
       "      <td>0.758382</td>\n",
       "      <td>0.005664</td>\n",
       "      <td>113</td>\n",
       "    </tr>\n",
       "    <tr>\n",
       "      <td>17</td>\n",
       "      <td>PenDigits</td>\n",
       "      <td>multivariate</td>\n",
       "      <td>5</td>\n",
       "      <td>0.987078</td>\n",
       "      <td>0.001191</td>\n",
       "      <td>198</td>\n",
       "    </tr>\n",
       "    <tr>\n",
       "      <td>18</td>\n",
       "      <td>PhonemeSpectra</td>\n",
       "      <td>multivariate</td>\n",
       "      <td>5</td>\n",
       "      <td>0.283627</td>\n",
       "      <td>0.001612</td>\n",
       "      <td>65</td>\n",
       "    </tr>\n",
       "    <tr>\n",
       "      <td>19</td>\n",
       "      <td>RacketSports</td>\n",
       "      <td>multivariate</td>\n",
       "      <td>5</td>\n",
       "      <td>0.901316</td>\n",
       "      <td>0.000000</td>\n",
       "      <td>14</td>\n",
       "    </tr>\n",
       "    <tr>\n",
       "      <td>20</td>\n",
       "      <td>SelfRegulationSCP1</td>\n",
       "      <td>multivariate</td>\n",
       "      <td>5</td>\n",
       "      <td>0.864846</td>\n",
       "      <td>0.006330</td>\n",
       "      <td>15</td>\n",
       "    </tr>\n",
       "    <tr>\n",
       "      <td>21</td>\n",
       "      <td>SelfRegulationSCP2</td>\n",
       "      <td>multivariate</td>\n",
       "      <td>5</td>\n",
       "      <td>0.551111</td>\n",
       "      <td>0.009558</td>\n",
       "      <td>14</td>\n",
       "    </tr>\n",
       "    <tr>\n",
       "      <td>22</td>\n",
       "      <td>StandWalkJump</td>\n",
       "      <td>multivariate</td>\n",
       "      <td>5</td>\n",
       "      <td>0.533333</td>\n",
       "      <td>0.000000</td>\n",
       "      <td>13</td>\n",
       "    </tr>\n",
       "    <tr>\n",
       "      <td>23</td>\n",
       "      <td>UWaveGestureLibrary</td>\n",
       "      <td>multivariate</td>\n",
       "      <td>5</td>\n",
       "      <td>0.922500</td>\n",
       "      <td>0.004146</td>\n",
       "      <td>14</td>\n",
       "    </tr>\n",
       "  </tbody>\n",
       "</table>\n",
       "</div>"
      ],
      "text/plain": [
       "                      dataset          type iterations mean_accuracy  \\\n",
       "0   ArticularyWordRecognition  multivariate          5      0.992667   \n",
       "1          AtrialFibrillation  multivariate          5      0.306667   \n",
       "2                BasicMotions  multivariate          5      1.000000   \n",
       "3                     Cricket  multivariate          5      1.000000   \n",
       "4                       ERing  multivariate          5      0.954074   \n",
       "5                  EigenWorms  multivariate          5      0.819847   \n",
       "6                    Epilepsy  multivariate          5      0.963768   \n",
       "7        EthanolConcentration  multivariate          5      0.292015   \n",
       "8             FingerMovements  multivariate          5      0.534000   \n",
       "9       HandMovementDirection  multivariate          5      0.475676   \n",
       "10                Handwriting  multivariate          5      0.560706   \n",
       "11                  Heartbeat  multivariate          5      0.760976   \n",
       "12                       LSST  multivariate          5      0.640308   \n",
       "13                     Libras  multivariate          5      0.937778   \n",
       "14               MotorImagery  multivariate          5      0.500000   \n",
       "15                     NATOPS  multivariate          5      0.950000   \n",
       "16                    PEMS-SF  multivariate          5      0.758382   \n",
       "17                  PenDigits  multivariate          5      0.987078   \n",
       "18             PhonemeSpectra  multivariate          5      0.283627   \n",
       "19               RacketSports  multivariate          5      0.901316   \n",
       "20         SelfRegulationSCP1  multivariate          5      0.864846   \n",
       "21         SelfRegulationSCP2  multivariate          5      0.551111   \n",
       "22              StandWalkJump  multivariate          5      0.533333   \n",
       "23        UWaveGestureLibrary  multivariate          5      0.922500   \n",
       "\n",
       "   std_accuracy time(s)  \n",
       "0      0.001333      14  \n",
       "1      0.053333      13  \n",
       "2      0.000000      13  \n",
       "3      0.000000      13  \n",
       "4      0.002963      13  \n",
       "5      0.013310      78  \n",
       "6      0.000000      13  \n",
       "7      0.001521      15  \n",
       "8      0.008000      14  \n",
       "9      0.026204      13  \n",
       "10     0.003032      14  \n",
       "11     0.003085      25  \n",
       "12     0.003544      33  \n",
       "13     0.002222      13  \n",
       "14     0.000000     129  \n",
       "15     0.011111      14  \n",
       "16     0.005664     113  \n",
       "17     0.001191     198  \n",
       "18     0.001612      65  \n",
       "19     0.000000      14  \n",
       "20     0.006330      15  \n",
       "21     0.009558      14  \n",
       "22     0.000000      13  \n",
       "23     0.004146      14  "
      ]
     },
     "metadata": {},
     "output_type": "display_data"
    },
    {
     "name": "stdout",
     "output_type": "stream",
     "text": [
      "\n",
      "(*) datasets not loaded      : ['DuckDuckGeese', 'FaceDetection', 'InsectWingbeat']\n",
      "(*) datasets with data issues: ['CharacterTrajectories', 'JapaneseVowels', 'SpokenArabicDigits']\n"
     ]
    }
   ],
   "source": [
    "iterations = 5\n",
    "datasets = sorted(get_UCR_multivariate_list())\n",
    "n_kernels=10_000\n",
    "kss=[7, 9, 11]\n",
    "\n",
    "ds_ = []\n",
    "ds_nl_ = []\n",
    "ds_di_ = []\n",
    "ds_type_ = []\n",
    "iters_ = []\n",
    "means_ = []\n",
    "stds_ = []\n",
    "times_ = []\n",
    "alphas_ = []\n",
    "\n",
    "datasets = listify(datasets)\n",
    "for dsid in datasets:\n",
    "    try: \n",
    "        print(f'\\nProcessing {dsid} dataset...\\n')\n",
    "        if dsid in get_UCR_univariate_list(): scale_type=None\n",
    "        else: scale_type='standardize'\n",
    "        data = create_UCR_databunch(dsid, bs=2048, scale_type=scale_type, verbose=True)\n",
    "        X_train = data.train_ds.x.items.astype(np.float32)\n",
    "        X_valid = data.valid_ds.x.items.astype(np.float32)\n",
    "        y_train = data.train_ds.y.items.astype(np.int64)\n",
    "        y_valid = data.valid_ds.y.items.astype(np.int64)\n",
    "    except: \n",
    "        ds_nl_.append(dsid)\n",
    "        print(f'\\n...{dsid} cannot be loaded\\n')\n",
    "        continue\n",
    "    if np.isinf(X_train).sum() + np.isnan(X_train).sum() > 0: \n",
    "        ds_di_.append(dsid)\n",
    "        print(f'...{dsid} contains inf or nan\\n')\n",
    "        continue\n",
    "        \n",
    "    if data.features == 1: ds_type_.append('univariate')\n",
    "    else: ds_type_.append('multivariate')\n",
    "    \n",
    "    score_ = []\n",
    "    elapsed_times_ = []\n",
    "    for i in range(iterations):\n",
    "        start_time = time.time()\n",
    "        model = ROCKET(data.features, data.seq_len, n_kernels=n_kernels,kss=kss).to(device)\n",
    "        for j, (xb,yb) in enumerate(data.train_dl.new(shuffle=False, drop_last=False)):\n",
    "            with torch.no_grad(): out = model(xb)\n",
    "            X_train_tfm = out if j == 0 else torch.cat((X_train_tfm, out))\n",
    "        for j, (xb,yb) in enumerate(data.valid_dl.new(shuffle=False, drop_last=False)):\n",
    "            with torch.no_grad(): out = model(xb)\n",
    "            X_valid_tfm = out if j == 0 else torch.cat((X_valid_tfm, out))\n",
    "        classifier = RidgeClassifierCV(alphas=np.logspace(-3, 3, 7), normalize=True)\n",
    "        classifier.fit(X_train_tfm, y_train)\n",
    "        score = classifier.score(X_valid_tfm, y_valid)\n",
    "        score_.append(score)\n",
    "        elapsed_time = time.time() - start_time\n",
    "        elapsed_times_.append(elapsed_time)\n",
    "        alphas_.append(classifier.alpha_)\n",
    "        print('   {:2} - score: {:.5f}  alpha: {:.2E}  time(s): {:4.0f}'.\\\n",
    "              format(i + 1, score, classifier.alpha_, elapsed_time))\n",
    "    ds_.append(dsid)\n",
    "    iters_.append(iterations)\n",
    "    means_.append('{:.6f}'.format(np.mean(score_)))\n",
    "    stds_.append('{:.6f}'.format(np.std(score_)))\n",
    "    times_.append('{:.0f}'.format(np.mean(elapsed_times_)))\n",
    "    if len(datasets) >1: clear_output()\n",
    "    df = pd.DataFrame(np.stack((ds_, ds_type_, iters_,  means_, stds_, times_)).T, \n",
    "             columns=['dataset', 'type', 'iterations',  'mean_accuracy', 'std_accuracy',  'time(s)'])\n",
    "    pd.set_option('display.max_columns', 999)\n",
    "    pd.set_option('display.max_rows', 999)\n",
    "    display(df)\n",
    "    pd.set_option('display.max_columns', 20)\n",
    "    pd.set_option('display.max_rows', 60)\n",
    "    if ds_nl_ != []: print('\\n(*) datasets not loaded      :', ds_nl_)\n",
    "    if ds_di_ != []:print('(*) datasets with data issues:', ds_di_)"
   ]
  },
  {
   "cell_type": "markdown",
   "metadata": {
    "hidden": true
   },
   "source": [
    "This is the comparison with InceptionTime:"
   ]
  },
  {
   "cell_type": "markdown",
   "metadata": {
    "ExecuteTime": {
     "end_time": "2019-11-06T15:14:51.216188Z",
     "start_time": "2019-11-06T15:14:51.164668Z"
    },
    "hidden": true
   },
   "source": [
    "<img src=\"./images/ROCKET_InceptionTime_multi.png\"  width=\"400\">"
   ]
  },
  {
   "cell_type": "markdown",
   "metadata": {
    "heading_collapsed": true
   },
   "source": [
    "## And how to use it with other classifiers? "
   ]
  },
  {
   "cell_type": "markdown",
   "metadata": {
    "hidden": true
   },
   "source": [
    "Once you build the 20k features per sample, you can use them to train any classifier of your choice."
   ]
  },
  {
   "cell_type": "markdown",
   "metadata": {
    "hidden": true
   },
   "source": [
    "If you want to use fastai, for example, with a logistic regression, you could should then build a databunch and a logistic regression model."
   ]
  },
  {
   "cell_type": "markdown",
   "metadata": {
    "heading_collapsed": true,
    "hidden": true
   },
   "source": [
    "### Integration with fastai"
   ]
  },
  {
   "cell_type": "markdown",
   "metadata": {
    "hidden": true
   },
   "source": [
    "These are the steps to use ROCKET with a classifier in fastai:\n",
    "\n",
    "1. Normalize the data 'per sample' (if not previously normalized)\n",
    "2. Calculate features\n",
    "3. Normalize calculated features 'per feature' (you'll get 20k means and stds)\n",
    "4. Create the databunch passing the normalized calculated features as 3d tensor/arrays to a TSList."
   ]
  },
  {
   "cell_type": "code",
   "execution_count": 250,
   "metadata": {
    "ExecuteTime": {
     "end_time": "2019-11-07T19:16:14.889795Z",
     "start_time": "2019-11-07T19:16:02.998210Z"
    },
    "hidden": true
   },
   "outputs": [],
   "source": [
    "dsid = 'OliveOil'\n",
    "bs = 30\n",
    "eps = 1e-6\n",
    "\n",
    "# extract data\n",
    "X_train, y_train, X_valid, y_valid = get_UCR_data(dsid)\n",
    "\n",
    "# normalize data 'per sample'\n",
    "X_train = (X_train - X_train.mean(axis=(1, 2), keepdims=True)) / (\n",
    "    X_train.std(axis=(1, 2), keepdims=True) + eps)\n",
    "X_valid = (X_valid - X_valid.mean(axis=(1, 2), keepdims=True)) / (\n",
    "    X_valid.std(axis=(1, 2), keepdims=True) + eps)\n",
    "\n",
    "# calculate 20k features\n",
    "_, features, seq_len = X_train.shape\n",
    "model = ROCKET(features, seq_len, n_kernels=10000, kss=[7, 9, 11]).to(device)\n",
    "X_train_tfm = model(torch.tensor(X_train, device=device)).unsqueeze(1)\n",
    "X_valid_tfm = model(torch.tensor(X_valid, device=device)).unsqueeze(1)\n",
    "\n",
    "# normalize 'per feature'\n",
    "f_mean = X_train_tfm.mean(dim=0, keepdims=True)\n",
    "f_std = X_train_tfm.std(dim=0, keepdims=True) + eps\n",
    "X_train_tfm_norm = (X_train_tfm - f_mean) / f_std\n",
    "X_valid_tfm_norm = (X_valid_tfm - f_mean) / f_std"
   ]
  },
  {
   "cell_type": "code",
   "execution_count": 251,
   "metadata": {
    "ExecuteTime": {
     "end_time": "2019-11-07T19:16:15.005385Z",
     "start_time": "2019-11-07T19:16:14.892198Z"
    },
    "hidden": true
   },
   "outputs": [
    {
     "data": {
      "text/plain": [
       "TSDataBunch;\n",
       "\n",
       "Train: LabelList (30 items)\n",
       "x: TSList\n",
       "TimeSeries(ch=1, seq_len=20000),TimeSeries(ch=1, seq_len=20000),TimeSeries(ch=1, seq_len=20000),TimeSeries(ch=1, seq_len=20000),TimeSeries(ch=1, seq_len=20000)\n",
       "y: CategoryList\n",
       "0,0,0,0,0\n",
       "Path: .;\n",
       "\n",
       "Valid: LabelList (30 items)\n",
       "x: TSList\n",
       "TimeSeries(ch=1, seq_len=20000),TimeSeries(ch=1, seq_len=20000),TimeSeries(ch=1, seq_len=20000),TimeSeries(ch=1, seq_len=20000),TimeSeries(ch=1, seq_len=20000)\n",
       "y: CategoryList\n",
       "0,0,0,0,0\n",
       "Path: .;\n",
       "\n",
       "Test: None"
      ]
     },
     "execution_count": 251,
     "metadata": {},
     "output_type": "execute_result"
    }
   ],
   "source": [
    "# create databunch\n",
    "data = (ItemLists('.', TSList(X_train_tfm_norm), TSList(X_valid_tfm_norm))\n",
    "        .label_from_lists(y_train, y_valid)\n",
    "        .databunch(bs=min(bs, len(X_train)), val_bs=min(bs * 2, len(X_valid)))\n",
    "       )\n",
    "data"
   ]
  },
  {
   "cell_type": "markdown",
   "metadata": {
    "hidden": true
   },
   "source": [
    "Let's take a look at the output of ROCKET."
   ]
  },
  {
   "cell_type": "code",
   "execution_count": 252,
   "metadata": {
    "ExecuteTime": {
     "end_time": "2019-11-07T19:16:18.574865Z",
     "start_time": "2019-11-07T19:16:15.007539Z"
    },
    "hidden": true
   },
   "outputs": [
    {
     "data": {
      "image/png": "[encoded data removed]",
      "text/plain": [
       "<Figure size 720x720 with 25 Axes>"
      ]
     },
     "metadata": {
      "needs_background": "light"
     },
     "output_type": "display_data"
    }
   ],
   "source": [
    "data.show_batch()"
   ]
  },
  {
   "cell_type": "markdown",
   "metadata": {
    "hidden": true
   },
   "source": [
    "In this case we'll use a very simple: a Logistic Regression with 20k input features and 2 classes in this case."
   ]
  },
  {
   "cell_type": "code",
   "execution_count": 303,
   "metadata": {
    "ExecuteTime": {
     "end_time": "2019-11-07T19:28:42.828589Z",
     "start_time": "2019-11-07T19:28:42.799068Z"
    },
    "hidden": true
   },
   "outputs": [],
   "source": [
    "def init(layer):\n",
    "    if isinstance(layer, nn.Linear):\n",
    "        nn.init.constant_(layer.weight.data, 0.)\n",
    "        nn.init.constant_(layer.bias.data, 0.)"
   ]
  },
  {
   "cell_type": "code",
   "execution_count": 304,
   "metadata": {
    "ExecuteTime": {
     "end_time": "2019-11-07T19:28:45.451576Z",
     "start_time": "2019-11-07T19:28:45.420302Z"
    },
    "hidden": true
   },
   "outputs": [],
   "source": [
    "model = nn.Sequential(nn.Linear(20_000, data.c))\n",
    "model.apply(init)\n",
    "learn = Learner(data, model, metrics=accuracy)\n",
    "learn.save('stage-0')"
   ]
  },
  {
   "cell_type": "code",
   "execution_count": 306,
   "metadata": {
    "ExecuteTime": {
     "end_time": "2019-11-07T19:30:25.036801Z",
     "start_time": "2019-11-07T19:29:42.736073Z"
    },
    "hidden": true
   },
   "outputs": [
    {
     "data": {
      "text/html": [],
      "text/plain": [
       "<IPython.core.display.HTML object>"
      ]
     },
     "metadata": {},
     "output_type": "display_data"
    },
    {
     "name": "stdout",
     "output_type": "stream",
     "text": [
      "LR Finder is complete, type {learner_name}.recorder.plot() to see the graph.\n"
     ]
    },
    {
     "data": {
      "image/png": "[encoded data removed]",
      "text/plain": [
       "<Figure size 432x288 with 1 Axes>"
      ]
     },
     "metadata": {
      "needs_background": "light"
     },
     "output_type": "display_data"
    }
   ],
   "source": [
    "learn.lr_find()\n",
    "learn.recorder.plot()"
   ]
  },
  {
   "cell_type": "code",
   "execution_count": 302,
   "metadata": {
    "ExecuteTime": {
     "end_time": "2019-11-07T19:27:56.651825Z",
     "start_time": "2019-11-07T19:27:47.734774Z"
    },
    "hidden": true
   },
   "outputs": [
    {
     "data": {
      "text/html": [
       "<table border=\"1\" class=\"dataframe\">\n",
       "  <thead>\n",
       "    <tr style=\"text-align: left;\">\n",
       "      <th>epoch</th>\n",
       "      <th>train_loss</th>\n",
       "      <th>valid_loss</th>\n",
       "      <th>accuracy</th>\n",
       "      <th>time</th>\n",
       "    </tr>\n",
       "  </thead>\n",
       "  <tbody>\n",
       "    <tr>\n",
       "      <td>0</td>\n",
       "      <td>1.386295</td>\n",
       "      <td>0.792708</td>\n",
       "      <td>0.733333</td>\n",
       "      <td>00:00</td>\n",
       "    </tr>\n",
       "    <tr>\n",
       "      <td>1</td>\n",
       "      <td>1.005563</td>\n",
       "      <td>0.859757</td>\n",
       "      <td>0.833333</td>\n",
       "      <td>00:00</td>\n",
       "    </tr>\n",
       "    <tr>\n",
       "      <td>2</td>\n",
       "      <td>0.712022</td>\n",
       "      <td>0.868866</td>\n",
       "      <td>0.933333</td>\n",
       "      <td>00:00</td>\n",
       "    </tr>\n",
       "    <tr>\n",
       "      <td>3</td>\n",
       "      <td>0.529538</td>\n",
       "      <td>1.075771</td>\n",
       "      <td>0.933333</td>\n",
       "      <td>00:00</td>\n",
       "    </tr>\n",
       "    <tr>\n",
       "      <td>4</td>\n",
       "      <td>0.419462</td>\n",
       "      <td>1.160817</td>\n",
       "      <td>0.933333</td>\n",
       "      <td>00:00</td>\n",
       "    </tr>\n",
       "    <tr>\n",
       "      <td>5</td>\n",
       "      <td>0.346049</td>\n",
       "      <td>1.186099</td>\n",
       "      <td>0.933333</td>\n",
       "      <td>00:00</td>\n",
       "    </tr>\n",
       "    <tr>\n",
       "      <td>6</td>\n",
       "      <td>0.293623</td>\n",
       "      <td>1.196733</td>\n",
       "      <td>0.933333</td>\n",
       "      <td>00:00</td>\n",
       "    </tr>\n",
       "    <tr>\n",
       "      <td>7</td>\n",
       "      <td>0.254319</td>\n",
       "      <td>1.209124</td>\n",
       "      <td>0.933333</td>\n",
       "      <td>00:00</td>\n",
       "    </tr>\n",
       "    <tr>\n",
       "      <td>8</td>\n",
       "      <td>0.223763</td>\n",
       "      <td>1.221544</td>\n",
       "      <td>0.933333</td>\n",
       "      <td>00:00</td>\n",
       "    </tr>\n",
       "    <tr>\n",
       "      <td>9</td>\n",
       "      <td>0.199329</td>\n",
       "      <td>1.226621</td>\n",
       "      <td>0.933333</td>\n",
       "      <td>00:00</td>\n",
       "    </tr>\n",
       "  </tbody>\n",
       "</table>"
      ],
      "text/plain": [
       "<IPython.core.display.HTML object>"
      ]
     },
     "metadata": {},
     "output_type": "display_data"
    },
    {
     "data": {
      "image/png": "[encoded data removed]",
      "text/plain": [
       "<Figure size 432x288 with 1 Axes>"
      ]
     },
     "metadata": {
      "needs_background": "light"
     },
     "output_type": "display_data"
    },
    {
     "data": {
      "image/png": "[encoded data removed]",
      "text/plain": [
       "<Figure size 432x288 with 1 Axes>"
      ]
     },
     "metadata": {
      "needs_background": "light"
     },
     "output_type": "display_data"
    }
   ],
   "source": [
    "learn.load('stage-0')\n",
    "learn.fit_one_cycle(10, max_lr=3e-3, wd=1e2)\n",
    "learn.recorder.plot_losses()\n",
    "learn.recorder.plot_metrics()"
   ]
  },
  {
   "cell_type": "markdown",
   "metadata": {
    "hidden": true
   },
   "source": [
    "This is an excellent result we have achieved with a very simple classifier (Logistic Regression)"
   ]
  },
  {
   "cell_type": "markdown",
   "metadata": {
    "heading_collapsed": true,
    "hidden": true
   },
   "source": [
    "### Boosted trees: XGBoost"
   ]
  },
  {
   "cell_type": "code",
   "execution_count": 5,
   "metadata": {
    "ExecuteTime": {
     "end_time": "2019-11-07T20:10:02.820977Z",
     "start_time": "2019-11-07T20:09:46.370502Z"
    },
    "hidden": true
   },
   "outputs": [],
   "source": [
    "dsid = 'OliveOil'\n",
    "eps = 1e-6\n",
    "\n",
    "# extract data\n",
    "X_train, y_train, X_valid, y_valid = get_UCR_data(dsid)\n",
    "\n",
    "# normalize data 'per sample'\n",
    "X_train = (X_train - X_train.mean(axis=(1, 2), keepdims=True)) / (\n",
    "    X_train.std(axis=(1, 2), keepdims=True) + eps)\n",
    "X_valid = (X_valid - X_valid.mean(axis=(1, 2), keepdims=True)) / (\n",
    "    X_valid.std(axis=(1, 2), keepdims=True) + eps)\n",
    "\n",
    "# calculate 20k features\n",
    "_, features, seq_len = X_train.shape\n",
    "model = ROCKET(features, seq_len, n_kernels=10000, kss=[7, 9, 11]).to(device)\n",
    "X_train_tfm = model(torch.tensor(X_train, device=device))\n",
    "X_valid_tfm = model(torch.tensor(X_valid, device=device))\n",
    "\n",
    "# normalize 'per feature'\n",
    "f_mean = X_train_tfm.mean(dim=0, keepdims=True)\n",
    "f_std = X_train_tfm.std(dim=0, keepdims=True) + eps\n",
    "X_train_tfm_norm = (X_train_tfm - f_mean) / f_std\n",
    "X_valid_tfm_norm = (X_valid_tfm - f_mean) / f_std"
   ]
  },
  {
   "cell_type": "code",
   "execution_count": 18,
   "metadata": {
    "ExecuteTime": {
     "end_time": "2019-11-07T20:15:37.469323Z",
     "start_time": "2019-11-07T20:15:30.524542Z"
    },
    "hidden": true
   },
   "outputs": [
    {
     "data": {
      "text/plain": [
       "0.9666666666666667"
      ]
     },
     "execution_count": 18,
     "metadata": {},
     "output_type": "execute_result"
    }
   ],
   "source": [
    "import xgboost as xgb\n",
    "classifier = xgb.XGBClassifier(max_depth=3,\n",
    "                               learning_rate=0.1,\n",
    "                               n_estimators=100,\n",
    "                               verbosity=1,\n",
    "                               objective='binary:logistic',\n",
    "                               booster='gbtree',\n",
    "                               tree_method='auto',\n",
    "                               n_jobs=1,\n",
    "                               gpu_id=-1,\n",
    "                               gamma=0,\n",
    "                               min_child_weight=1,\n",
    "                               max_delta_step=0,\n",
    "                               subsample=.5,\n",
    "                               colsample_bytree=1,\n",
    "                               colsample_bylevel=1,\n",
    "                               colsample_bynode=1,\n",
    "                               reg_alpha=0,\n",
    "                               reg_lambda=1,\n",
    "                               scale_pos_weight=1,\n",
    "                               base_score=0.5,\n",
    "                               random_state=0,\n",
    "                               missing=None)\n",
    "\n",
    "classifier.fit(X_train_tfm, y_train)\n",
    "preds = classifier.predict(X_valid_tfm)\n",
    "(preds == y_valid).mean()"
   ]
  },
  {
   "cell_type": "markdown",
   "metadata": {
    "heading_collapsed": true
   },
   "source": [
    "## Conclusions"
   ]
  },
  {
   "cell_type": "markdown",
   "metadata": {
    "hidden": true
   },
   "source": [
    "ROCKET is a great method for TSC that has established a new level of performance both in terms of accuracy and time. It does it by successfully applying an approach quite different from the traditional DL approaches. The method uses 10k random kernels to generate features that are then classified by linear classifiers (although you may use a classifier of your choice).\n",
    "The original method has 2 limitations (lack of multivariate and lack of GPU support) that are overcome by the Pytorch implementation shared in this notebook."
   ]
  }
 ],
 "metadata": {
  "kernelspec": {
   "display_name": "fastai-v1",
   "language": "python",
   "name": "fastai-v1"
  },
  "language_info": {
   "codemirror_mode": {
    "name": "ipython",
    "version": 3
   },
   "file_extension": ".py",
   "mimetype": "text/x-python",
   "name": "python",
   "nbconvert_exporter": "python",
   "pygments_lexer": "ipython3",
   "version": "3.7.5"
  }
 },
 "nbformat": 4,
 "nbformat_minor": 2
}
