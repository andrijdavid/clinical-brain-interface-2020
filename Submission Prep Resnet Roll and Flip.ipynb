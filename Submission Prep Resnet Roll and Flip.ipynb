{
 "cells": [
  {
   "cell_type": "code",
   "execution_count": 1,
   "metadata": {
    "ExecuteTime": {
     "end_time": "2020-07-05T20:04:02.613489Z",
     "start_time": "2020-07-05T20:04:02.601597Z"
    }
   },
   "outputs": [],
   "source": [
    "%load_ext autoreload\n",
    "%autoreload 2"
   ]
  },
  {
   "cell_type": "code",
   "execution_count": 2,
   "metadata": {
    "ExecuteTime": {
     "end_time": "2020-07-05T20:04:03.381282Z",
     "start_time": "2020-07-05T20:04:03.372317Z"
    }
   },
   "outputs": [],
   "source": [
    "# import os\n",
    "# os.environ[\"CUDA_DEVICE_ORDER\"]=\"PCI_BUS_ID\" \n",
    "# os.environ[\"CUDA_VISIBLE_DEVICES\"]=\"1\""
   ]
  },
  {
   "cell_type": "code",
   "execution_count": 3,
   "metadata": {
    "ExecuteTime": {
     "end_time": "2020-07-05T20:04:04.859055Z",
     "start_time": "2020-07-05T20:04:03.814615Z"
    }
   },
   "outputs": [
    {
     "name": "stderr",
     "output_type": "stream",
     "text": [
      "/opt/anaconda/envs/pytorch/lib/python3.7/site-packages/google/colab/data_table.py:30: UserWarning: IPython.utils.traitlets has moved to a top-level traitlets package.\n",
      "  from IPython.utils import traitlets as _traitlets\n"
     ]
    },
    {
     "data": {
      "text/html": [
       "<style>.container { width:100% !important; }</style>"
      ],
      "text/plain": [
       "<IPython.core.display.HTML object>"
      ]
     },
     "metadata": {},
     "output_type": "display_data"
    }
   ],
   "source": [
    "from timeseries import *\n",
    "from models import *\n",
    "import pickle \n",
    "import numpy as np\n",
    "from sklearn.model_selection import train_test_split\n",
    "from fastai.distributed import *\n",
    "import neptune\n",
    "from neptunecontrib.monitoring.fastai import NeptuneMonitor"
   ]
  },
  {
   "cell_type": "code",
   "execution_count": 4,
   "metadata": {
    "ExecuteTime": {
     "end_time": "2020-07-05T20:04:05.287563Z",
     "start_time": "2020-07-05T20:04:05.135870Z"
    }
   },
   "outputs": [],
   "source": [
    "x, y = pickle.load(open(\"data/train.pkl\", \"rb\"))"
   ]
  },
  {
   "cell_type": "code",
   "execution_count": 5,
   "metadata": {
    "ExecuteTime": {
     "end_time": "2020-07-05T20:04:05.699563Z",
     "start_time": "2020-07-05T20:04:05.594009Z"
    }
   },
   "outputs": [],
   "source": [
    "test_name, x_test = pickle.load(open(\"data/test.pkl\", \"rb\"))"
   ]
  },
  {
   "cell_type": "code",
   "execution_count": 6,
   "metadata": {
    "ExecuteTime": {
     "end_time": "2020-07-05T20:04:06.170063Z",
     "start_time": "2020-07-05T20:04:06.034378Z"
    }
   },
   "outputs": [
    {
     "data": {
      "text/plain": [
       "(-6.63823368281504e-06, 79.22496224741775, -5831.451171875, 6120.92822265625)"
      ]
     },
     "execution_count": 6,
     "metadata": {},
     "output_type": "execute_result"
    }
   ],
   "source": [
    "x.mean(), x.std(), x.min(), x.max()"
   ]
  },
  {
   "cell_type": "code",
   "execution_count": 7,
   "metadata": {
    "ExecuteTime": {
     "end_time": "2020-07-05T20:04:06.561670Z",
     "start_time": "2020-07-05T20:04:06.508066Z"
    }
   },
   "outputs": [],
   "source": [
    "x_train, x_val, y_train, y_val = train_test_split(x, y, test_size=0.2, random_state=42123456)"
   ]
  },
  {
   "cell_type": "code",
   "execution_count": 8,
   "metadata": {
    "ExecuteTime": {
     "end_time": "2020-07-05T20:04:06.982128Z",
     "start_time": "2020-07-05T20:04:06.963664Z"
    }
   },
   "outputs": [],
   "source": [
    "scale_type = 'normalize'\n",
    "scale_by_channel = False\n",
    "scale_by_sample  = True \n",
    "scale_range = (-1, 1)\n",
    "act_fn = 'relu'\n",
    "nf = 64\n",
    "bs = 64\n",
    "pool = nn.AdaptiveAvgPool1d"
   ]
  },
  {
   "cell_type": "markdown",
   "metadata": {},
   "source": [
    "# Model"
   ]
  },
  {
   "cell_type": "code",
   "execution_count": 9,
   "metadata": {
    "ExecuteTime": {
     "end_time": "2020-07-05T20:04:09.655378Z",
     "start_time": "2020-07-05T20:04:09.626942Z"
    }
   },
   "outputs": [],
   "source": [
    "import torch\n",
    "import torch.nn as nn\n",
    "from models.layers import *\n",
    "\n",
    "class SeModule(nn.Module):\n",
    "    def __init__(self, ch, reduction, act_fn='relu'):\n",
    "        super().__init__()\n",
    "        nf = math.ceil(ch//reduction/8)*8\n",
    "        self.pool = nn.AdaptiveAvgPool1d(1)\n",
    "        self.conv1 = convlayer(ch, nf, 1, act_fn=act_fn)\n",
    "        self.conv2 = convlayer(nf, ch, 1, act_fn=False)\n",
    "        \n",
    "    def forward(self, x):\n",
    "        res = self.pool(x)\n",
    "        res = self.conv1(res)\n",
    "        res = self.conv2(res)\n",
    "        res = nn.functional.sigmoid(res)\n",
    "        return x * res\n",
    " \n",
    "       \n",
    "class ResBlock(nn.Module):\n",
    "    def __init__(self, ni, nf, ks=[7, 5, 3], act_fn='relu'):\n",
    "        super().__init__()\n",
    "        self.conv1 = convlayer(ni, nf, ks[0], act_fn=act_fn)\n",
    "        self.conv2 = convlayer(nf, nf, ks[1], act_fn=act_fn)\n",
    "        self.conv3 = convlayer(nf, nf, ks[2], act_fn=False)\n",
    "        self.se = SeModule(nf, 16, act_fn=act_fn)\n",
    "        # expand channels for the sum if necessary\n",
    "        self.shortcut = noop if ni == nf else convlayer(ni, nf, ks=1, act_fn=False)\n",
    "        self.act_fn = get_act_layer(act_fn)\n",
    "\n",
    "    def forward(self, x):\n",
    "        res = x\n",
    "        x = self.conv1(x)\n",
    "        x = self.conv2(x)\n",
    "        x = self.conv3(x)\n",
    "        # Squeeze and Excitation\n",
    "        x = self.se(x)\n",
    "        # Shortcut\n",
    "        sc = self.shortcut(res)\n",
    "        # Residual\n",
    "        x += sc\n",
    "        x = self.act_fn(x)\n",
    "        return x\n",
    "    \n",
    "class ResNet(nn.Module):\n",
    "    def __init__(self,c_in, c_out, nf=64, pool=nn.AdaptiveAvgPool1d, act_fn='relu'):\n",
    "        super().__init__()\n",
    "        self.block1 = ResBlock(c_in, nf, ks=[7, 5, 3], act_fn=act_fn)\n",
    "        self.block2 = ResBlock(nf, nf * 2, ks=[7, 5, 3], act_fn=act_fn)\n",
    "        self.block3 = ResBlock(nf * 2, nf * 2, ks=[7, 5, 3], act_fn=act_fn)\n",
    "        self.gap = pool(1)\n",
    "        self.fc = nn.Linear(nf * 2, c_out)\n",
    "\n",
    "    def forward(self, x):\n",
    "        x = self.block1(x)\n",
    "        x = self.block2(x)\n",
    "        x = self.block3(x)\n",
    "        x = self.gap(x).squeeze(-1)\n",
    "        return self.fc(x)"
   ]
  },
  {
   "cell_type": "markdown",
   "metadata": {},
   "source": [
    "# Load Data"
   ]
  },
  {
   "cell_type": "code",
   "execution_count": 10,
   "metadata": {
    "ExecuteTime": {
     "end_time": "2020-07-05T20:04:11.327357Z",
     "start_time": "2020-07-05T20:04:11.304171Z"
    }
   },
   "outputs": [],
   "source": [
    "def _roll(x, max_shift_pct=0.7, direction=0):\n",
    "    '''This roll'''\n",
    "    if int(direction) not in [-1, 0, 1]: \n",
    "        raise ValueError(\"Direction must be -1(left) 0(bidirectional) or 1(right)\")\n",
    "    direction = random.choice([-1, 1]) if direction == 0 else direction\n",
    "    width = x.shape[-1]\n",
    "    roll_by = int(width*random.random()*max_shift_pct*direction)\n",
    "    if len(x.shape) < 2:\n",
    "        sg = x.roll(roll_by)\n",
    "    else:\n",
    "        sg = torch.stack([ c.roll(roll_by) for c in x])\n",
    "    return sg\n",
    "TSRoll = TSTransform(_roll)\n",
    "\n",
    "def _flip(x):\n",
    "    '''This flip'''\n",
    "    if random.random() < .5:\n",
    "        return x.flip(-1)\n",
    "    return x\n",
    "TSFlip = TSTransform(_flip)"
   ]
  },
  {
   "cell_type": "code",
   "execution_count": 20,
   "metadata": {
    "ExecuteTime": {
     "end_time": "2020-07-05T20:15:24.319108Z",
     "start_time": "2020-07-05T20:15:22.773091Z"
    }
   },
   "outputs": [],
   "source": [
    "data = (ItemLists(Path(\"data\"), TSList(x_train),TSList(x_val))\n",
    "        .label_from_lists(y_train, y_val)\n",
    "#         .transform(tfms=([TSFlip, TSRoll],[]))\n",
    "        .databunch(bs=bs, val_bs=bs * 2)\n",
    "        .scale(scale_type=scale_type, scale_by_channel=scale_by_channel, \n",
    "             scale_by_sample=scale_by_sample,scale_range=scale_range)\n",
    "    )"
   ]
  },
  {
   "cell_type": "code",
   "execution_count": 21,
   "metadata": {
    "ExecuteTime": {
     "end_time": "2020-07-05T20:15:30.315189Z",
     "start_time": "2020-07-05T20:15:26.852921Z"
    },
    "scrolled": true
   },
   "outputs": [
    {
     "data": {
      "image/png": "[encoded data removed]",
      "text/plain": [
       "<Figure size 720x720 with 25 Axes>"
      ]
     },
     "metadata": {
      "needs_background": "light"
     },
     "output_type": "display_data"
    }
   ],
   "source": [
    "data.show_batch()"
   ]
  },
  {
   "cell_type": "markdown",
   "metadata": {},
   "source": [
    "# Training"
   ]
  },
  {
   "cell_type": "code",
   "execution_count": 22,
   "metadata": {
    "ExecuteTime": {
     "end_time": "2020-07-05T20:15:32.997492Z",
     "start_time": "2020-07-05T20:15:32.845352Z"
    }
   },
   "outputs": [
    {
     "data": {
      "text/plain": [
       "Learner(data=TSDataBunch;\n",
       "\n",
       "Train: LabelList (512 items)\n",
       "x: TSList\n",
       "TimeSeries(ch=12, seq_len=4096),TimeSeries(ch=12, seq_len=4096),TimeSeries(ch=12, seq_len=4096),TimeSeries(ch=12, seq_len=4096),TimeSeries(ch=12, seq_len=4096)\n",
       "y: CategoryList\n",
       "1,2,1,2,2\n",
       "Path: .;\n",
       "\n",
       "Valid: LabelList (128 items)\n",
       "x: TSList\n",
       "TimeSeries(ch=12, seq_len=4096),TimeSeries(ch=12, seq_len=4096),TimeSeries(ch=12, seq_len=4096),TimeSeries(ch=12, seq_len=4096),TimeSeries(ch=12, seq_len=4096)\n",
       "y: CategoryList\n",
       "2,2,1,1,2\n",
       "Path: .;\n",
       "\n",
       "Test: None, model=ResNet(\n",
       "  (block1): ResBlock(\n",
       "    (conv1): Sequential(\n",
       "      (0): Conv1d(12, 64, kernel_size=(7,), stride=(1,), padding=(3,))\n",
       "      (1): BatchNorm1d(64, eps=1e-05, momentum=0.1, affine=True, track_running_stats=True)\n",
       "      (2): ReLU()\n",
       "    )\n",
       "    (conv2): Sequential(\n",
       "      (0): Conv1d(64, 64, kernel_size=(5,), stride=(1,), padding=(2,))\n",
       "      (1): BatchNorm1d(64, eps=1e-05, momentum=0.1, affine=True, track_running_stats=True)\n",
       "      (2): ReLU()\n",
       "    )\n",
       "    (conv3): Sequential(\n",
       "      (0): Conv1d(64, 64, kernel_size=(3,), stride=(1,), padding=(1,))\n",
       "      (1): BatchNorm1d(64, eps=1e-05, momentum=0.1, affine=True, track_running_stats=True)\n",
       "    )\n",
       "    (se): SeModule(\n",
       "      (pool): AdaptiveAvgPool1d(output_size=1)\n",
       "      (conv1): Sequential(\n",
       "        (0): Conv1d(64, 8, kernel_size=(1,), stride=(1,))\n",
       "        (1): BatchNorm1d(8, eps=1e-05, momentum=0.1, affine=True, track_running_stats=True)\n",
       "        (2): ReLU()\n",
       "      )\n",
       "      (conv2): Sequential(\n",
       "        (0): Conv1d(8, 64, kernel_size=(1,), stride=(1,))\n",
       "        (1): BatchNorm1d(64, eps=1e-05, momentum=0.1, affine=True, track_running_stats=True)\n",
       "      )\n",
       "    )\n",
       "    (shortcut): Sequential(\n",
       "      (0): Conv1d(12, 64, kernel_size=(1,), stride=(1,))\n",
       "      (1): BatchNorm1d(64, eps=1e-05, momentum=0.1, affine=True, track_running_stats=True)\n",
       "    )\n",
       "    (act_fn): ReLU()\n",
       "  )\n",
       "  (block2): ResBlock(\n",
       "    (conv1): Sequential(\n",
       "      (0): Conv1d(64, 128, kernel_size=(7,), stride=(1,), padding=(3,))\n",
       "      (1): BatchNorm1d(128, eps=1e-05, momentum=0.1, affine=True, track_running_stats=True)\n",
       "      (2): ReLU()\n",
       "    )\n",
       "    (conv2): Sequential(\n",
       "      (0): Conv1d(128, 128, kernel_size=(5,), stride=(1,), padding=(2,))\n",
       "      (1): BatchNorm1d(128, eps=1e-05, momentum=0.1, affine=True, track_running_stats=True)\n",
       "      (2): ReLU()\n",
       "    )\n",
       "    (conv3): Sequential(\n",
       "      (0): Conv1d(128, 128, kernel_size=(3,), stride=(1,), padding=(1,))\n",
       "      (1): BatchNorm1d(128, eps=1e-05, momentum=0.1, affine=True, track_running_stats=True)\n",
       "    )\n",
       "    (se): SeModule(\n",
       "      (pool): AdaptiveAvgPool1d(output_size=1)\n",
       "      (conv1): Sequential(\n",
       "        (0): Conv1d(128, 8, kernel_size=(1,), stride=(1,))\n",
       "        (1): BatchNorm1d(8, eps=1e-05, momentum=0.1, affine=True, track_running_stats=True)\n",
       "        (2): ReLU()\n",
       "      )\n",
       "      (conv2): Sequential(\n",
       "        (0): Conv1d(8, 128, kernel_size=(1,), stride=(1,))\n",
       "        (1): BatchNorm1d(128, eps=1e-05, momentum=0.1, affine=True, track_running_stats=True)\n",
       "      )\n",
       "    )\n",
       "    (shortcut): Sequential(\n",
       "      (0): Conv1d(64, 128, kernel_size=(1,), stride=(1,))\n",
       "      (1): BatchNorm1d(128, eps=1e-05, momentum=0.1, affine=True, track_running_stats=True)\n",
       "    )\n",
       "    (act_fn): ReLU()\n",
       "  )\n",
       "  (block3): ResBlock(\n",
       "    (conv1): Sequential(\n",
       "      (0): Conv1d(128, 128, kernel_size=(7,), stride=(1,), padding=(3,))\n",
       "      (1): BatchNorm1d(128, eps=1e-05, momentum=0.1, affine=True, track_running_stats=True)\n",
       "      (2): ReLU()\n",
       "    )\n",
       "    (conv2): Sequential(\n",
       "      (0): Conv1d(128, 128, kernel_size=(5,), stride=(1,), padding=(2,))\n",
       "      (1): BatchNorm1d(128, eps=1e-05, momentum=0.1, affine=True, track_running_stats=True)\n",
       "      (2): ReLU()\n",
       "    )\n",
       "    (conv3): Sequential(\n",
       "      (0): Conv1d(128, 128, kernel_size=(3,), stride=(1,), padding=(1,))\n",
       "      (1): BatchNorm1d(128, eps=1e-05, momentum=0.1, affine=True, track_running_stats=True)\n",
       "    )\n",
       "    (se): SeModule(\n",
       "      (pool): AdaptiveAvgPool1d(output_size=1)\n",
       "      (conv1): Sequential(\n",
       "        (0): Conv1d(128, 8, kernel_size=(1,), stride=(1,))\n",
       "        (1): BatchNorm1d(8, eps=1e-05, momentum=0.1, affine=True, track_running_stats=True)\n",
       "        (2): ReLU()\n",
       "      )\n",
       "      (conv2): Sequential(\n",
       "        (0): Conv1d(8, 128, kernel_size=(1,), stride=(1,))\n",
       "        (1): BatchNorm1d(128, eps=1e-05, momentum=0.1, affine=True, track_running_stats=True)\n",
       "      )\n",
       "    )\n",
       "    (act_fn): ReLU()\n",
       "  )\n",
       "  (gap): AdaptiveAvgPool1d(output_size=1)\n",
       "  (fc): Linear(in_features=128, out_features=2, bias=True)\n",
       "), opt_func=<class 'timeseries.exp.nb_Optimizers.Ranger'>, loss_func=LabelSmoothingCrossEntropy(), metrics=[<function accuracy at 0x7f62fae81dd0>], true_wd=True, bn_wd=True, wd=0.01, train_bn=True, path=PosixPath('data'), model_dir='models', callback_fns=[functools.partial(<class 'fastai.basic_train.Recorder'>, add_time=True, silent=False)], callbacks=[MixedPrecision\n",
       "learn: ...\n",
       "loss_scale: 65536\n",
       "max_noskip: 1000\n",
       "dynamic: True\n",
       "clip: None\n",
       "flat_master: False\n",
       "max_scale: 16777216\n",
       "loss_fp32: True], layer_groups=[Sequential(\n",
       "  (0): Conv1d(12, 64, kernel_size=(7,), stride=(1,), padding=(3,))\n",
       "  (1): BatchNorm1d(64, eps=1e-05, momentum=0.1, affine=True, track_running_stats=True)\n",
       "  (2): ReLU()\n",
       "  (3): Conv1d(64, 64, kernel_size=(5,), stride=(1,), padding=(2,))\n",
       "  (4): BatchNorm1d(64, eps=1e-05, momentum=0.1, affine=True, track_running_stats=True)\n",
       "  (5): ReLU()\n",
       "  (6): Conv1d(64, 64, kernel_size=(3,), stride=(1,), padding=(1,))\n",
       "  (7): BatchNorm1d(64, eps=1e-05, momentum=0.1, affine=True, track_running_stats=True)\n",
       "  (8): AdaptiveAvgPool1d(output_size=1)\n",
       "  (9): Conv1d(64, 8, kernel_size=(1,), stride=(1,))\n",
       "  (10): BatchNorm1d(8, eps=1e-05, momentum=0.1, affine=True, track_running_stats=True)\n",
       "  (11): ReLU()\n",
       "  (12): Conv1d(8, 64, kernel_size=(1,), stride=(1,))\n",
       "  (13): BatchNorm1d(64, eps=1e-05, momentum=0.1, affine=True, track_running_stats=True)\n",
       "  (14): Conv1d(12, 64, kernel_size=(1,), stride=(1,))\n",
       "  (15): BatchNorm1d(64, eps=1e-05, momentum=0.1, affine=True, track_running_stats=True)\n",
       "  (16): ReLU()\n",
       "), Sequential(\n",
       "  (0): Conv1d(64, 128, kernel_size=(7,), stride=(1,), padding=(3,))\n",
       "  (1): BatchNorm1d(128, eps=1e-05, momentum=0.1, affine=True, track_running_stats=True)\n",
       "  (2): ReLU()\n",
       "  (3): Conv1d(128, 128, kernel_size=(5,), stride=(1,), padding=(2,))\n",
       "  (4): BatchNorm1d(128, eps=1e-05, momentum=0.1, affine=True, track_running_stats=True)\n",
       "  (5): ReLU()\n",
       "  (6): Conv1d(128, 128, kernel_size=(3,), stride=(1,), padding=(1,))\n",
       "  (7): BatchNorm1d(128, eps=1e-05, momentum=0.1, affine=True, track_running_stats=True)\n",
       "  (8): AdaptiveAvgPool1d(output_size=1)\n",
       "  (9): Conv1d(128, 8, kernel_size=(1,), stride=(1,))\n",
       "  (10): BatchNorm1d(8, eps=1e-05, momentum=0.1, affine=True, track_running_stats=True)\n",
       "  (11): ReLU()\n",
       "  (12): Conv1d(8, 128, kernel_size=(1,), stride=(1,))\n",
       "  (13): BatchNorm1d(128, eps=1e-05, momentum=0.1, affine=True, track_running_stats=True)\n",
       "  (14): Conv1d(64, 128, kernel_size=(1,), stride=(1,))\n",
       "  (15): BatchNorm1d(128, eps=1e-05, momentum=0.1, affine=True, track_running_stats=True)\n",
       "  (16): ReLU()\n",
       "), Sequential(\n",
       "  (0): Conv1d(128, 128, kernel_size=(7,), stride=(1,), padding=(3,))\n",
       "  (1): BatchNorm1d(128, eps=1e-05, momentum=0.1, affine=True, track_running_stats=True)\n",
       "  (2): ReLU()\n",
       "  (3): Conv1d(128, 128, kernel_size=(5,), stride=(1,), padding=(2,))\n",
       "  (4): BatchNorm1d(128, eps=1e-05, momentum=0.1, affine=True, track_running_stats=True)\n",
       "  (5): ReLU()\n",
       "  (6): Conv1d(128, 128, kernel_size=(3,), stride=(1,), padding=(1,))\n",
       "  (7): BatchNorm1d(128, eps=1e-05, momentum=0.1, affine=True, track_running_stats=True)\n",
       "  (8): AdaptiveAvgPool1d(output_size=1)\n",
       "  (9): Conv1d(128, 8, kernel_size=(1,), stride=(1,))\n",
       "  (10): BatchNorm1d(8, eps=1e-05, momentum=0.1, affine=True, track_running_stats=True)\n",
       "  (11): ReLU()\n",
       "  (12): Conv1d(8, 128, kernel_size=(1,), stride=(1,))\n",
       "  (13): BatchNorm1d(128, eps=1e-05, momentum=0.1, affine=True, track_running_stats=True)\n",
       "  (14): ReLU()\n",
       "  (15): AdaptiveAvgPool1d(output_size=1)\n",
       "), Sequential(\n",
       "  (0): Linear(in_features=128, out_features=2, bias=True)\n",
       ")], add_time=True, silent=False)"
      ]
     },
     "execution_count": 22,
     "metadata": {},
     "output_type": "execute_result"
    }
   ],
   "source": [
    "model = ResNet(data.features, data.c, act_fn=act_fn, nf=nf, pool=pool)\n",
    "kappa = KappaScore()\n",
    "loss_func=LabelSmoothingCrossEntropy()\n",
    "learn = Learner(data, model, metrics=[accuracy], loss_func=loss_func, opt_func=Ranger).load(\"gael-step2\").to_fp16()\n",
    "def _resnet_split(m:nn.Module): return (m.block1, m.block2, m.block3, m.fc)\n",
    "learn.split(_resnet_split)"
   ]
  },
  {
   "cell_type": "code",
   "execution_count": 23,
   "metadata": {
    "ExecuteTime": {
     "end_time": "2020-07-05T20:15:37.273229Z",
     "start_time": "2020-07-05T20:15:36.834230Z"
    }
   },
   "outputs": [
    {
     "data": {
      "text/html": [],
      "text/plain": [
       "<IPython.core.display.HTML object>"
      ]
     },
     "metadata": {},
     "output_type": "display_data"
    },
    {
     "data": {
      "text/plain": [
       "[0.48896253, tensor(0.9531)]"
      ]
     },
     "execution_count": 23,
     "metadata": {},
     "output_type": "execute_result"
    }
   ],
   "source": [
    "learn.validate()"
   ]
  },
  {
   "cell_type": "code",
   "execution_count": null,
   "metadata": {
    "ExecuteTime": {
     "end_time": "2020-07-05T13:17:29.803677Z",
     "start_time": "2020-07-05T13:17:29.549770Z"
    }
   },
   "outputs": [],
   "source": [
    "learn.show_tfms()"
   ]
  },
  {
   "cell_type": "code",
   "execution_count": null,
   "metadata": {
    "ExecuteTime": {
     "end_time": "2020-07-05T13:18:06.030785Z",
     "start_time": "2020-07-05T13:17:29.804559Z"
    }
   },
   "outputs": [],
   "source": [
    "learn.lr_find()\n",
    "learn.recorder.plot()"
   ]
  },
  {
   "cell_type": "code",
   "execution_count": null,
   "metadata": {
    "ExecuteTime": {
     "end_time": "2020-07-05T13:22:19.903119Z",
     "start_time": "2020-07-05T13:22:10.656226Z"
    }
   },
   "outputs": [],
   "source": [
    "learn.fit_one_cycle(5, 1e-3)"
   ]
  },
  {
   "cell_type": "code",
   "execution_count": null,
   "metadata": {
    "ExecuteTime": {
     "end_time": "2020-07-05T13:23:04.653362Z",
     "start_time": "2020-07-05T13:23:04.512579Z"
    }
   },
   "outputs": [],
   "source": [
    "learn.save(\"gael-fp16-load\")"
   ]
  },
  {
   "cell_type": "code",
   "execution_count": null,
   "metadata": {
    "ExecuteTime": {
     "end_time": "2020-07-05T13:29:01.242514Z",
     "start_time": "2020-07-05T13:29:01.142559Z"
    }
   },
   "outputs": [],
   "source": [
    "learn.load(\"gael-fp16-load\")"
   ]
  },
  {
   "cell_type": "markdown",
   "metadata": {
    "heading_collapsed": true
   },
   "source": [
    "# Use concat pool"
   ]
  },
  {
   "cell_type": "code",
   "execution_count": null,
   "metadata": {
    "ExecuteTime": {
     "end_time": "2020-07-05T13:29:03.510179Z",
     "start_time": "2020-07-05T13:29:03.488816Z"
    },
    "hidden": true
   },
   "outputs": [],
   "source": [
    "class ConcatPool1D(nn.Module):\n",
    "    def __init__(self, dim=1):\n",
    "        super().__init__()\n",
    "        self.av = nn.AdaptiveAvgPool1d(dim)\n",
    "        self.max = nn.AdaptiveMaxPool1d(dim)\n",
    "    \n",
    "    def forward(self, x):\n",
    "        av = self.av(x)\n",
    "        m = self.max(x)\n",
    "        return torch.cat([av, m], 1)"
   ]
  },
  {
   "cell_type": "code",
   "execution_count": null,
   "metadata": {
    "ExecuteTime": {
     "end_time": "2020-07-05T13:29:05.625875Z",
     "start_time": "2020-07-05T13:29:05.598991Z"
    },
    "hidden": true
   },
   "outputs": [],
   "source": [
    "learn.model.gap = ConcatPool1D().to(learn.data.device)\n",
    "learn.model.fc = nn.Linear(in_features=128*2, out_features=2, bias=True).to(learn.data.device)\n",
    "learn.to_fp16()"
   ]
  },
  {
   "cell_type": "code",
   "execution_count": null,
   "metadata": {
    "ExecuteTime": {
     "end_time": "2020-07-05T13:29:47.045597Z",
     "start_time": "2020-07-05T13:29:47.020907Z"
    },
    "hidden": true
   },
   "outputs": [],
   "source": [
    "learn.split(_resnet_split)\n",
    "learn.freeze()"
   ]
  },
  {
   "cell_type": "code",
   "execution_count": null,
   "metadata": {
    "ExecuteTime": {
     "end_time": "2020-07-05T13:33:48.167468Z",
     "start_time": "2020-07-05T13:33:48.147259Z"
    },
    "hidden": true
   },
   "outputs": [],
   "source": [
    "for param in learn.model.parameters():\n",
    "    param.requires_grad = False\n",
    "learn.model.fc.weight.requires_grad = True\n",
    "learn.model.fc.bias.requires_grad = True"
   ]
  },
  {
   "cell_type": "code",
   "execution_count": null,
   "metadata": {
    "ExecuteTime": {
     "end_time": "2020-07-05T13:33:57.991326Z",
     "start_time": "2020-07-05T13:33:49.603954Z"
    },
    "hidden": true
   },
   "outputs": [],
   "source": [
    "learn.lr_find()\n",
    "learn.recorder.plot(suggestion=True)"
   ]
  },
  {
   "cell_type": "code",
   "execution_count": null,
   "metadata": {
    "ExecuteTime": {
     "end_time": "2020-07-05T13:35:08.903349Z",
     "start_time": "2020-07-05T13:34:16.813107Z"
    },
    "hidden": true
   },
   "outputs": [],
   "source": [
    "learn.fit_one_cycle(50, 1e-2)"
   ]
  },
  {
   "cell_type": "code",
   "execution_count": null,
   "metadata": {
    "ExecuteTime": {
     "end_time": "2020-07-05T13:36:11.270257Z",
     "start_time": "2020-07-05T13:35:19.385667Z"
    },
    "hidden": true
   },
   "outputs": [],
   "source": [
    "learn.fit_one_cycle(50, 1e-3)"
   ]
  },
  {
   "cell_type": "code",
   "execution_count": null,
   "metadata": {
    "ExecuteTime": {
     "end_time": "2020-07-05T13:37:50.356741Z",
     "start_time": "2020-07-05T13:36:14.516561Z"
    },
    "hidden": true
   },
   "outputs": [],
   "source": [
    "learn.unfreeze()\n",
    "learn.fit_one_cycle(50, 1e-3)"
   ]
  },
  {
   "cell_type": "code",
   "execution_count": null,
   "metadata": {
    "ExecuteTime": {
     "end_time": "2020-07-05T13:41:04.530264Z",
     "start_time": "2020-07-05T13:41:04.387762Z"
    },
    "hidden": true
   },
   "outputs": [],
   "source": [
    "learn.save(\"gael-concat-fc\")"
   ]
  },
  {
   "cell_type": "markdown",
   "metadata": {},
   "source": [
    "# Use Bn -> Drop Lin"
   ]
  },
  {
   "cell_type": "code",
   "execution_count": 24,
   "metadata": {
    "ExecuteTime": {
     "end_time": "2020-07-05T20:15:40.805884Z",
     "start_time": "2020-07-05T20:15:40.777574Z"
    }
   },
   "outputs": [
    {
     "data": {
      "text/plain": [
       "Learner(data=TSDataBunch;\n",
       "\n",
       "Train: LabelList (512 items)\n",
       "x: TSList\n",
       "TimeSeries(ch=12, seq_len=4096),TimeSeries(ch=12, seq_len=4096),TimeSeries(ch=12, seq_len=4096),TimeSeries(ch=12, seq_len=4096),TimeSeries(ch=12, seq_len=4096)\n",
       "y: CategoryList\n",
       "1,2,1,2,2\n",
       "Path: .;\n",
       "\n",
       "Valid: LabelList (128 items)\n",
       "x: TSList\n",
       "TimeSeries(ch=12, seq_len=4096),TimeSeries(ch=12, seq_len=4096),TimeSeries(ch=12, seq_len=4096),TimeSeries(ch=12, seq_len=4096),TimeSeries(ch=12, seq_len=4096)\n",
       "y: CategoryList\n",
       "2,2,1,1,2\n",
       "Path: .;\n",
       "\n",
       "Test: None, model=ResNet(\n",
       "  (block1): ResBlock(\n",
       "    (conv1): Sequential(\n",
       "      (0): Conv1d(12, 64, kernel_size=(7,), stride=(1,), padding=(3,))\n",
       "      (1): BatchNorm1d(64, eps=1e-05, momentum=0.1, affine=True, track_running_stats=True)\n",
       "      (2): ReLU()\n",
       "    )\n",
       "    (conv2): Sequential(\n",
       "      (0): Conv1d(64, 64, kernel_size=(5,), stride=(1,), padding=(2,))\n",
       "      (1): BatchNorm1d(64, eps=1e-05, momentum=0.1, affine=True, track_running_stats=True)\n",
       "      (2): ReLU()\n",
       "    )\n",
       "    (conv3): Sequential(\n",
       "      (0): Conv1d(64, 64, kernel_size=(3,), stride=(1,), padding=(1,))\n",
       "      (1): BatchNorm1d(64, eps=1e-05, momentum=0.1, affine=True, track_running_stats=True)\n",
       "    )\n",
       "    (se): SeModule(\n",
       "      (pool): AdaptiveAvgPool1d(output_size=1)\n",
       "      (conv1): Sequential(\n",
       "        (0): Conv1d(64, 8, kernel_size=(1,), stride=(1,))\n",
       "        (1): BatchNorm1d(8, eps=1e-05, momentum=0.1, affine=True, track_running_stats=True)\n",
       "        (2): ReLU()\n",
       "      )\n",
       "      (conv2): Sequential(\n",
       "        (0): Conv1d(8, 64, kernel_size=(1,), stride=(1,))\n",
       "        (1): BatchNorm1d(64, eps=1e-05, momentum=0.1, affine=True, track_running_stats=True)\n",
       "      )\n",
       "    )\n",
       "    (shortcut): Sequential(\n",
       "      (0): Conv1d(12, 64, kernel_size=(1,), stride=(1,))\n",
       "      (1): BatchNorm1d(64, eps=1e-05, momentum=0.1, affine=True, track_running_stats=True)\n",
       "    )\n",
       "    (act_fn): ReLU()\n",
       "  )\n",
       "  (block2): ResBlock(\n",
       "    (conv1): Sequential(\n",
       "      (0): Conv1d(64, 128, kernel_size=(7,), stride=(1,), padding=(3,))\n",
       "      (1): BatchNorm1d(128, eps=1e-05, momentum=0.1, affine=True, track_running_stats=True)\n",
       "      (2): ReLU()\n",
       "    )\n",
       "    (conv2): Sequential(\n",
       "      (0): Conv1d(128, 128, kernel_size=(5,), stride=(1,), padding=(2,))\n",
       "      (1): BatchNorm1d(128, eps=1e-05, momentum=0.1, affine=True, track_running_stats=True)\n",
       "      (2): ReLU()\n",
       "    )\n",
       "    (conv3): Sequential(\n",
       "      (0): Conv1d(128, 128, kernel_size=(3,), stride=(1,), padding=(1,))\n",
       "      (1): BatchNorm1d(128, eps=1e-05, momentum=0.1, affine=True, track_running_stats=True)\n",
       "    )\n",
       "    (se): SeModule(\n",
       "      (pool): AdaptiveAvgPool1d(output_size=1)\n",
       "      (conv1): Sequential(\n",
       "        (0): Conv1d(128, 8, kernel_size=(1,), stride=(1,))\n",
       "        (1): BatchNorm1d(8, eps=1e-05, momentum=0.1, affine=True, track_running_stats=True)\n",
       "        (2): ReLU()\n",
       "      )\n",
       "      (conv2): Sequential(\n",
       "        (0): Conv1d(8, 128, kernel_size=(1,), stride=(1,))\n",
       "        (1): BatchNorm1d(128, eps=1e-05, momentum=0.1, affine=True, track_running_stats=True)\n",
       "      )\n",
       "    )\n",
       "    (shortcut): Sequential(\n",
       "      (0): Conv1d(64, 128, kernel_size=(1,), stride=(1,))\n",
       "      (1): BatchNorm1d(128, eps=1e-05, momentum=0.1, affine=True, track_running_stats=True)\n",
       "    )\n",
       "    (act_fn): ReLU()\n",
       "  )\n",
       "  (block3): ResBlock(\n",
       "    (conv1): Sequential(\n",
       "      (0): Conv1d(128, 128, kernel_size=(7,), stride=(1,), padding=(3,))\n",
       "      (1): BatchNorm1d(128, eps=1e-05, momentum=0.1, affine=True, track_running_stats=True)\n",
       "      (2): ReLU()\n",
       "    )\n",
       "    (conv2): Sequential(\n",
       "      (0): Conv1d(128, 128, kernel_size=(5,), stride=(1,), padding=(2,))\n",
       "      (1): BatchNorm1d(128, eps=1e-05, momentum=0.1, affine=True, track_running_stats=True)\n",
       "      (2): ReLU()\n",
       "    )\n",
       "    (conv3): Sequential(\n",
       "      (0): Conv1d(128, 128, kernel_size=(3,), stride=(1,), padding=(1,))\n",
       "      (1): BatchNorm1d(128, eps=1e-05, momentum=0.1, affine=True, track_running_stats=True)\n",
       "    )\n",
       "    (se): SeModule(\n",
       "      (pool): AdaptiveAvgPool1d(output_size=1)\n",
       "      (conv1): Sequential(\n",
       "        (0): Conv1d(128, 8, kernel_size=(1,), stride=(1,))\n",
       "        (1): BatchNorm1d(8, eps=1e-05, momentum=0.1, affine=True, track_running_stats=True)\n",
       "        (2): ReLU()\n",
       "      )\n",
       "      (conv2): Sequential(\n",
       "        (0): Conv1d(8, 128, kernel_size=(1,), stride=(1,))\n",
       "        (1): BatchNorm1d(128, eps=1e-05, momentum=0.1, affine=True, track_running_stats=True)\n",
       "      )\n",
       "    )\n",
       "    (act_fn): ReLU()\n",
       "  )\n",
       "  (gap): AdaptiveAvgPool1d(output_size=1)\n",
       "  (fc): Sequential(\n",
       "    (0): BatchNorm1d(128, eps=1e-05, momentum=0.1, affine=True, track_running_stats=True)\n",
       "    (1): Dropout(p=0.2, inplace=False)\n",
       "    (2): Linear(in_features=128, out_features=64, bias=True)\n",
       "    (3): Linear(in_features=64, out_features=2, bias=True)\n",
       "  )\n",
       "), opt_func=<class 'timeseries.exp.nb_Optimizers.Ranger'>, loss_func=LabelSmoothingCrossEntropy(), metrics=[<function accuracy at 0x7f62fae81dd0>], true_wd=True, bn_wd=True, wd=0.01, train_bn=True, path=PosixPath('data'), model_dir='models', callback_fns=[functools.partial(<class 'fastai.basic_train.Recorder'>, add_time=True, silent=False)], callbacks=[MixedPrecision\n",
       "learn: ...\n",
       "loss_scale: 65536\n",
       "max_noskip: 1000\n",
       "dynamic: True\n",
       "clip: None\n",
       "flat_master: False\n",
       "max_scale: 16777216\n",
       "loss_fp32: True], layer_groups=[Sequential(\n",
       "  (0): Conv1d(12, 64, kernel_size=(7,), stride=(1,), padding=(3,))\n",
       "  (1): BatchNorm1d(64, eps=1e-05, momentum=0.1, affine=True, track_running_stats=True)\n",
       "  (2): ReLU()\n",
       "  (3): Conv1d(64, 64, kernel_size=(5,), stride=(1,), padding=(2,))\n",
       "  (4): BatchNorm1d(64, eps=1e-05, momentum=0.1, affine=True, track_running_stats=True)\n",
       "  (5): ReLU()\n",
       "  (6): Conv1d(64, 64, kernel_size=(3,), stride=(1,), padding=(1,))\n",
       "  (7): BatchNorm1d(64, eps=1e-05, momentum=0.1, affine=True, track_running_stats=True)\n",
       "  (8): AdaptiveAvgPool1d(output_size=1)\n",
       "  (9): Conv1d(64, 8, kernel_size=(1,), stride=(1,))\n",
       "  (10): BatchNorm1d(8, eps=1e-05, momentum=0.1, affine=True, track_running_stats=True)\n",
       "  (11): ReLU()\n",
       "  (12): Conv1d(8, 64, kernel_size=(1,), stride=(1,))\n",
       "  (13): BatchNorm1d(64, eps=1e-05, momentum=0.1, affine=True, track_running_stats=True)\n",
       "  (14): Conv1d(12, 64, kernel_size=(1,), stride=(1,))\n",
       "  (15): BatchNorm1d(64, eps=1e-05, momentum=0.1, affine=True, track_running_stats=True)\n",
       "  (16): ReLU()\n",
       "), Sequential(\n",
       "  (0): Conv1d(64, 128, kernel_size=(7,), stride=(1,), padding=(3,))\n",
       "  (1): BatchNorm1d(128, eps=1e-05, momentum=0.1, affine=True, track_running_stats=True)\n",
       "  (2): ReLU()\n",
       "  (3): Conv1d(128, 128, kernel_size=(5,), stride=(1,), padding=(2,))\n",
       "  (4): BatchNorm1d(128, eps=1e-05, momentum=0.1, affine=True, track_running_stats=True)\n",
       "  (5): ReLU()\n",
       "  (6): Conv1d(128, 128, kernel_size=(3,), stride=(1,), padding=(1,))\n",
       "  (7): BatchNorm1d(128, eps=1e-05, momentum=0.1, affine=True, track_running_stats=True)\n",
       "  (8): AdaptiveAvgPool1d(output_size=1)\n",
       "  (9): Conv1d(128, 8, kernel_size=(1,), stride=(1,))\n",
       "  (10): BatchNorm1d(8, eps=1e-05, momentum=0.1, affine=True, track_running_stats=True)\n",
       "  (11): ReLU()\n",
       "  (12): Conv1d(8, 128, kernel_size=(1,), stride=(1,))\n",
       "  (13): BatchNorm1d(128, eps=1e-05, momentum=0.1, affine=True, track_running_stats=True)\n",
       "  (14): Conv1d(64, 128, kernel_size=(1,), stride=(1,))\n",
       "  (15): BatchNorm1d(128, eps=1e-05, momentum=0.1, affine=True, track_running_stats=True)\n",
       "  (16): ReLU()\n",
       "), Sequential(\n",
       "  (0): Conv1d(128, 128, kernel_size=(7,), stride=(1,), padding=(3,))\n",
       "  (1): BatchNorm1d(128, eps=1e-05, momentum=0.1, affine=True, track_running_stats=True)\n",
       "  (2): ReLU()\n",
       "  (3): Conv1d(128, 128, kernel_size=(5,), stride=(1,), padding=(2,))\n",
       "  (4): BatchNorm1d(128, eps=1e-05, momentum=0.1, affine=True, track_running_stats=True)\n",
       "  (5): ReLU()\n",
       "  (6): Conv1d(128, 128, kernel_size=(3,), stride=(1,), padding=(1,))\n",
       "  (7): BatchNorm1d(128, eps=1e-05, momentum=0.1, affine=True, track_running_stats=True)\n",
       "  (8): AdaptiveAvgPool1d(output_size=1)\n",
       "  (9): Conv1d(128, 8, kernel_size=(1,), stride=(1,))\n",
       "  (10): BatchNorm1d(8, eps=1e-05, momentum=0.1, affine=True, track_running_stats=True)\n",
       "  (11): ReLU()\n",
       "  (12): Conv1d(8, 128, kernel_size=(1,), stride=(1,))\n",
       "  (13): BatchNorm1d(128, eps=1e-05, momentum=0.1, affine=True, track_running_stats=True)\n",
       "  (14): ReLU()\n",
       "  (15): AdaptiveAvgPool1d(output_size=1)\n",
       "), Sequential(\n",
       "  (0): Linear(in_features=128, out_features=2, bias=True)\n",
       ")], add_time=True, silent=False)"
      ]
     },
     "execution_count": 24,
     "metadata": {},
     "output_type": "execute_result"
    }
   ],
   "source": [
    "learn.model.fc = nn.Sequential(*bn_drop_lin(128, 64, p=0.2), nn.Linear(64, 2)).to(learn.data.device)\n",
    "learn.to_fp16()"
   ]
  },
  {
   "cell_type": "code",
   "execution_count": 25,
   "metadata": {
    "ExecuteTime": {
     "end_time": "2020-07-05T20:15:42.262072Z",
     "start_time": "2020-07-05T20:15:42.238004Z"
    }
   },
   "outputs": [],
   "source": [
    "learn.split(_resnet_split)\n",
    "learn.freeze()"
   ]
  },
  {
   "cell_type": "code",
   "execution_count": 26,
   "metadata": {
    "ExecuteTime": {
     "end_time": "2020-07-05T20:15:42.929909Z",
     "start_time": "2020-07-05T20:15:42.910929Z"
    }
   },
   "outputs": [],
   "source": [
    "for param in learn.model.parameters():\n",
    "    param.requires_grad = False\n",
    "\n",
    "for param in learn.model.fc.parameters():\n",
    "    param.requires_grad = True"
   ]
  },
  {
   "cell_type": "code",
   "execution_count": 27,
   "metadata": {
    "ExecuteTime": {
     "end_time": "2020-07-05T20:15:51.612545Z",
     "start_time": "2020-07-05T20:15:44.504402Z"
    }
   },
   "outputs": [
    {
     "data": {
      "text/html": [
       "\n",
       "    <div>\n",
       "        <style>\n",
       "            /* Turns off some styling */\n",
       "            progress {\n",
       "                /* gets rid of default border in Firefox and Opera. */\n",
       "                border: none;\n",
       "                /* Needs to be in here for Safari polyfill so background images work as expected. */\n",
       "                background-size: auto;\n",
       "            }\n",
       "            .progress-bar-interrupted, .progress-bar-interrupted::-webkit-progress-bar {\n",
       "                background: #F44336;\n",
       "            }\n",
       "        </style>\n",
       "      <progress value='10' class='' max='13', style='width:300px; height:20px; vertical-align: middle;'></progress>\n",
       "      76.92% [10/13 00:06<00:01]\n",
       "    </div>\n",
       "    \n",
       "<table border=\"1\" class=\"dataframe\">\n",
       "  <thead>\n",
       "    <tr style=\"text-align: left;\">\n",
       "      <th>epoch</th>\n",
       "      <th>train_loss</th>\n",
       "      <th>valid_loss</th>\n",
       "      <th>accuracy</th>\n",
       "      <th>time</th>\n",
       "    </tr>\n",
       "  </thead>\n",
       "  <tbody>\n",
       "    <tr>\n",
       "      <td>0</td>\n",
       "      <td>0.840374</td>\n",
       "      <td>#na#</td>\n",
       "      <td>00:00</td>\n",
       "    </tr>\n",
       "    <tr>\n",
       "      <td>1</td>\n",
       "      <td>0.843619</td>\n",
       "      <td>#na#</td>\n",
       "      <td>00:00</td>\n",
       "    </tr>\n",
       "    <tr>\n",
       "      <td>2</td>\n",
       "      <td>0.845800</td>\n",
       "      <td>#na#</td>\n",
       "      <td>00:00</td>\n",
       "    </tr>\n",
       "    <tr>\n",
       "      <td>3</td>\n",
       "      <td>0.847340</td>\n",
       "      <td>#na#</td>\n",
       "      <td>00:00</td>\n",
       "    </tr>\n",
       "    <tr>\n",
       "      <td>4</td>\n",
       "      <td>0.844078</td>\n",
       "      <td>#na#</td>\n",
       "      <td>00:00</td>\n",
       "    </tr>\n",
       "    <tr>\n",
       "      <td>5</td>\n",
       "      <td>0.832234</td>\n",
       "      <td>#na#</td>\n",
       "      <td>00:00</td>\n",
       "    </tr>\n",
       "    <tr>\n",
       "      <td>6</td>\n",
       "      <td>0.800141</td>\n",
       "      <td>#na#</td>\n",
       "      <td>00:00</td>\n",
       "    </tr>\n",
       "    <tr>\n",
       "      <td>7</td>\n",
       "      <td>0.711449</td>\n",
       "      <td>#na#</td>\n",
       "      <td>00:00</td>\n",
       "    </tr>\n",
       "    <tr>\n",
       "      <td>8</td>\n",
       "      <td>0.641408</td>\n",
       "      <td>#na#</td>\n",
       "      <td>00:00</td>\n",
       "    </tr>\n",
       "    <tr>\n",
       "      <td>9</td>\n",
       "      <td>0.632332</td>\n",
       "      <td>#na#</td>\n",
       "      <td>00:00</td>\n",
       "    </tr>\n",
       "  </tbody>\n",
       "</table><p>\n",
       "\n",
       "    <div>\n",
       "        <style>\n",
       "            /* Turns off some styling */\n",
       "            progress {\n",
       "                /* gets rid of default border in Firefox and Opera. */\n",
       "                border: none;\n",
       "                /* Needs to be in here for Safari polyfill so background images work as expected. */\n",
       "                background-size: auto;\n",
       "            }\n",
       "            .progress-bar-interrupted, .progress-bar-interrupted::-webkit-progress-bar {\n",
       "                background: #F44336;\n",
       "            }\n",
       "        </style>\n",
       "      <progress value='2' class='' max='8', style='width:300px; height:20px; vertical-align: middle;'></progress>\n",
       "      25.00% [2/8 00:00<00:01 1.3195]\n",
       "    </div>\n",
       "    "
      ],
      "text/plain": [
       "<IPython.core.display.HTML object>"
      ]
     },
     "metadata": {},
     "output_type": "display_data"
    },
    {
     "name": "stdout",
     "output_type": "stream",
     "text": [
      "LR Finder is complete, type {learner_name}.recorder.plot() to see the graph.\n",
      "Min numerical gradient: 9.12E-03\n",
      "Min loss divided by 10: 6.92E-03\n"
     ]
    },
    {
     "data": {
      "image/png": "[encoded data removed]",
      "text/plain": [
       "<Figure size 432x288 with 1 Axes>"
      ]
     },
     "metadata": {
      "needs_background": "light"
     },
     "output_type": "display_data"
    }
   ],
   "source": [
    "learn.lr_find()\n",
    "learn.recorder.plot(suggestion=True)"
   ]
  },
  {
   "cell_type": "code",
   "execution_count": 28,
   "metadata": {
    "ExecuteTime": {
     "end_time": "2020-07-05T20:17:43.822712Z",
     "start_time": "2020-07-05T20:15:58.437471Z"
    }
   },
   "outputs": [
    {
     "data": {
      "text/html": [
       "<table border=\"1\" class=\"dataframe\">\n",
       "  <thead>\n",
       "    <tr style=\"text-align: left;\">\n",
       "      <th>epoch</th>\n",
       "      <th>train_loss</th>\n",
       "      <th>valid_loss</th>\n",
       "      <th>accuracy</th>\n",
       "      <th>time</th>\n",
       "    </tr>\n",
       "  </thead>\n",
       "  <tbody>\n",
       "    <tr>\n",
       "      <td>0</td>\n",
       "      <td>0.831358</td>\n",
       "      <td>0.730414</td>\n",
       "      <td>0.515625</td>\n",
       "      <td>00:01</td>\n",
       "    </tr>\n",
       "    <tr>\n",
       "      <td>1</td>\n",
       "      <td>0.818433</td>\n",
       "      <td>0.719001</td>\n",
       "      <td>0.515625</td>\n",
       "      <td>00:01</td>\n",
       "    </tr>\n",
       "    <tr>\n",
       "      <td>2</td>\n",
       "      <td>0.796140</td>\n",
       "      <td>0.705489</td>\n",
       "      <td>0.515625</td>\n",
       "      <td>00:01</td>\n",
       "    </tr>\n",
       "    <tr>\n",
       "      <td>3</td>\n",
       "      <td>0.766080</td>\n",
       "      <td>0.649061</td>\n",
       "      <td>0.609375</td>\n",
       "      <td>00:01</td>\n",
       "    </tr>\n",
       "    <tr>\n",
       "      <td>4</td>\n",
       "      <td>0.725257</td>\n",
       "      <td>0.565168</td>\n",
       "      <td>0.835938</td>\n",
       "      <td>00:01</td>\n",
       "    </tr>\n",
       "    <tr>\n",
       "      <td>5</td>\n",
       "      <td>0.674486</td>\n",
       "      <td>0.520998</td>\n",
       "      <td>0.890625</td>\n",
       "      <td>00:01</td>\n",
       "    </tr>\n",
       "    <tr>\n",
       "      <td>6</td>\n",
       "      <td>0.620965</td>\n",
       "      <td>0.438108</td>\n",
       "      <td>0.929688</td>\n",
       "      <td>00:01</td>\n",
       "    </tr>\n",
       "    <tr>\n",
       "      <td>7</td>\n",
       "      <td>0.564361</td>\n",
       "      <td>0.384270</td>\n",
       "      <td>0.937500</td>\n",
       "      <td>00:01</td>\n",
       "    </tr>\n",
       "    <tr>\n",
       "      <td>8</td>\n",
       "      <td>0.510813</td>\n",
       "      <td>0.372668</td>\n",
       "      <td>0.937500</td>\n",
       "      <td>00:01</td>\n",
       "    </tr>\n",
       "    <tr>\n",
       "      <td>9</td>\n",
       "      <td>0.467712</td>\n",
       "      <td>0.360243</td>\n",
       "      <td>0.945312</td>\n",
       "      <td>00:01</td>\n",
       "    </tr>\n",
       "    <tr>\n",
       "      <td>10</td>\n",
       "      <td>0.429084</td>\n",
       "      <td>0.359570</td>\n",
       "      <td>0.945312</td>\n",
       "      <td>00:01</td>\n",
       "    </tr>\n",
       "    <tr>\n",
       "      <td>11</td>\n",
       "      <td>0.398076</td>\n",
       "      <td>0.359880</td>\n",
       "      <td>0.945312</td>\n",
       "      <td>00:01</td>\n",
       "    </tr>\n",
       "    <tr>\n",
       "      <td>12</td>\n",
       "      <td>0.372968</td>\n",
       "      <td>0.363977</td>\n",
       "      <td>0.945312</td>\n",
       "      <td>00:01</td>\n",
       "    </tr>\n",
       "    <tr>\n",
       "      <td>13</td>\n",
       "      <td>0.353853</td>\n",
       "      <td>0.365688</td>\n",
       "      <td>0.945312</td>\n",
       "      <td>00:01</td>\n",
       "    </tr>\n",
       "    <tr>\n",
       "      <td>14</td>\n",
       "      <td>0.337014</td>\n",
       "      <td>0.364215</td>\n",
       "      <td>0.953125</td>\n",
       "      <td>00:01</td>\n",
       "    </tr>\n",
       "    <tr>\n",
       "      <td>15</td>\n",
       "      <td>0.321692</td>\n",
       "      <td>0.362622</td>\n",
       "      <td>0.953125</td>\n",
       "      <td>00:01</td>\n",
       "    </tr>\n",
       "    <tr>\n",
       "      <td>16</td>\n",
       "      <td>0.310002</td>\n",
       "      <td>0.359591</td>\n",
       "      <td>0.953125</td>\n",
       "      <td>00:01</td>\n",
       "    </tr>\n",
       "    <tr>\n",
       "      <td>17</td>\n",
       "      <td>0.301168</td>\n",
       "      <td>0.360667</td>\n",
       "      <td>0.953125</td>\n",
       "      <td>00:01</td>\n",
       "    </tr>\n",
       "    <tr>\n",
       "      <td>18</td>\n",
       "      <td>0.292034</td>\n",
       "      <td>0.358394</td>\n",
       "      <td>0.953125</td>\n",
       "      <td>00:01</td>\n",
       "    </tr>\n",
       "    <tr>\n",
       "      <td>19</td>\n",
       "      <td>0.284903</td>\n",
       "      <td>0.360327</td>\n",
       "      <td>0.953125</td>\n",
       "      <td>00:01</td>\n",
       "    </tr>\n",
       "    <tr>\n",
       "      <td>20</td>\n",
       "      <td>0.278906</td>\n",
       "      <td>0.361185</td>\n",
       "      <td>0.953125</td>\n",
       "      <td>00:01</td>\n",
       "    </tr>\n",
       "    <tr>\n",
       "      <td>21</td>\n",
       "      <td>0.274098</td>\n",
       "      <td>0.361319</td>\n",
       "      <td>0.945312</td>\n",
       "      <td>00:01</td>\n",
       "    </tr>\n",
       "    <tr>\n",
       "      <td>22</td>\n",
       "      <td>0.269554</td>\n",
       "      <td>0.360312</td>\n",
       "      <td>0.953125</td>\n",
       "      <td>00:01</td>\n",
       "    </tr>\n",
       "    <tr>\n",
       "      <td>23</td>\n",
       "      <td>0.267171</td>\n",
       "      <td>0.358893</td>\n",
       "      <td>0.953125</td>\n",
       "      <td>00:01</td>\n",
       "    </tr>\n",
       "    <tr>\n",
       "      <td>24</td>\n",
       "      <td>0.265941</td>\n",
       "      <td>0.358428</td>\n",
       "      <td>0.953125</td>\n",
       "      <td>00:01</td>\n",
       "    </tr>\n",
       "    <tr>\n",
       "      <td>25</td>\n",
       "      <td>0.262815</td>\n",
       "      <td>0.359202</td>\n",
       "      <td>0.953125</td>\n",
       "      <td>00:01</td>\n",
       "    </tr>\n",
       "    <tr>\n",
       "      <td>26</td>\n",
       "      <td>0.259771</td>\n",
       "      <td>0.359443</td>\n",
       "      <td>0.953125</td>\n",
       "      <td>00:01</td>\n",
       "    </tr>\n",
       "    <tr>\n",
       "      <td>27</td>\n",
       "      <td>0.258377</td>\n",
       "      <td>0.358441</td>\n",
       "      <td>0.953125</td>\n",
       "      <td>00:01</td>\n",
       "    </tr>\n",
       "    <tr>\n",
       "      <td>28</td>\n",
       "      <td>0.257684</td>\n",
       "      <td>0.359119</td>\n",
       "      <td>0.953125</td>\n",
       "      <td>00:01</td>\n",
       "    </tr>\n",
       "    <tr>\n",
       "      <td>29</td>\n",
       "      <td>0.256775</td>\n",
       "      <td>0.359520</td>\n",
       "      <td>0.945312</td>\n",
       "      <td>00:01</td>\n",
       "    </tr>\n",
       "    <tr>\n",
       "      <td>30</td>\n",
       "      <td>0.256732</td>\n",
       "      <td>0.359763</td>\n",
       "      <td>0.945312</td>\n",
       "      <td>00:01</td>\n",
       "    </tr>\n",
       "    <tr>\n",
       "      <td>31</td>\n",
       "      <td>0.254954</td>\n",
       "      <td>0.357390</td>\n",
       "      <td>0.953125</td>\n",
       "      <td>00:01</td>\n",
       "    </tr>\n",
       "    <tr>\n",
       "      <td>32</td>\n",
       "      <td>0.253427</td>\n",
       "      <td>0.358870</td>\n",
       "      <td>0.953125</td>\n",
       "      <td>00:01</td>\n",
       "    </tr>\n",
       "    <tr>\n",
       "      <td>33</td>\n",
       "      <td>0.252813</td>\n",
       "      <td>0.361043</td>\n",
       "      <td>0.945312</td>\n",
       "      <td>00:01</td>\n",
       "    </tr>\n",
       "    <tr>\n",
       "      <td>34</td>\n",
       "      <td>0.251754</td>\n",
       "      <td>0.360378</td>\n",
       "      <td>0.945312</td>\n",
       "      <td>00:01</td>\n",
       "    </tr>\n",
       "    <tr>\n",
       "      <td>35</td>\n",
       "      <td>0.251198</td>\n",
       "      <td>0.358847</td>\n",
       "      <td>0.953125</td>\n",
       "      <td>00:01</td>\n",
       "    </tr>\n",
       "    <tr>\n",
       "      <td>36</td>\n",
       "      <td>0.250072</td>\n",
       "      <td>0.359443</td>\n",
       "      <td>0.945312</td>\n",
       "      <td>00:01</td>\n",
       "    </tr>\n",
       "    <tr>\n",
       "      <td>37</td>\n",
       "      <td>0.249378</td>\n",
       "      <td>0.358308</td>\n",
       "      <td>0.953125</td>\n",
       "      <td>00:01</td>\n",
       "    </tr>\n",
       "    <tr>\n",
       "      <td>38</td>\n",
       "      <td>0.250111</td>\n",
       "      <td>0.360317</td>\n",
       "      <td>0.945312</td>\n",
       "      <td>00:01</td>\n",
       "    </tr>\n",
       "    <tr>\n",
       "      <td>39</td>\n",
       "      <td>0.250329</td>\n",
       "      <td>0.358439</td>\n",
       "      <td>0.953125</td>\n",
       "      <td>00:01</td>\n",
       "    </tr>\n",
       "    <tr>\n",
       "      <td>40</td>\n",
       "      <td>0.249904</td>\n",
       "      <td>0.357263</td>\n",
       "      <td>0.953125</td>\n",
       "      <td>00:01</td>\n",
       "    </tr>\n",
       "    <tr>\n",
       "      <td>41</td>\n",
       "      <td>0.248947</td>\n",
       "      <td>0.358099</td>\n",
       "      <td>0.953125</td>\n",
       "      <td>00:01</td>\n",
       "    </tr>\n",
       "    <tr>\n",
       "      <td>42</td>\n",
       "      <td>0.249232</td>\n",
       "      <td>0.358077</td>\n",
       "      <td>0.953125</td>\n",
       "      <td>00:01</td>\n",
       "    </tr>\n",
       "    <tr>\n",
       "      <td>43</td>\n",
       "      <td>0.247934</td>\n",
       "      <td>0.357614</td>\n",
       "      <td>0.937500</td>\n",
       "      <td>00:01</td>\n",
       "    </tr>\n",
       "    <tr>\n",
       "      <td>44</td>\n",
       "      <td>0.248734</td>\n",
       "      <td>0.360844</td>\n",
       "      <td>0.945312</td>\n",
       "      <td>00:01</td>\n",
       "    </tr>\n",
       "    <tr>\n",
       "      <td>45</td>\n",
       "      <td>0.248235</td>\n",
       "      <td>0.358915</td>\n",
       "      <td>0.945312</td>\n",
       "      <td>00:01</td>\n",
       "    </tr>\n",
       "    <tr>\n",
       "      <td>46</td>\n",
       "      <td>0.248115</td>\n",
       "      <td>0.360260</td>\n",
       "      <td>0.953125</td>\n",
       "      <td>00:01</td>\n",
       "    </tr>\n",
       "    <tr>\n",
       "      <td>47</td>\n",
       "      <td>0.248790</td>\n",
       "      <td>0.358890</td>\n",
       "      <td>0.937500</td>\n",
       "      <td>00:01</td>\n",
       "    </tr>\n",
       "    <tr>\n",
       "      <td>48</td>\n",
       "      <td>0.248291</td>\n",
       "      <td>0.359238</td>\n",
       "      <td>0.953125</td>\n",
       "      <td>00:01</td>\n",
       "    </tr>\n",
       "    <tr>\n",
       "      <td>49</td>\n",
       "      <td>0.249180</td>\n",
       "      <td>0.360852</td>\n",
       "      <td>0.945312</td>\n",
       "      <td>00:01</td>\n",
       "    </tr>\n",
       "    <tr>\n",
       "      <td>50</td>\n",
       "      <td>0.248375</td>\n",
       "      <td>0.361258</td>\n",
       "      <td>0.945312</td>\n",
       "      <td>00:01</td>\n",
       "    </tr>\n",
       "    <tr>\n",
       "      <td>51</td>\n",
       "      <td>0.248717</td>\n",
       "      <td>0.358633</td>\n",
       "      <td>0.953125</td>\n",
       "      <td>00:01</td>\n",
       "    </tr>\n",
       "    <tr>\n",
       "      <td>52</td>\n",
       "      <td>0.249181</td>\n",
       "      <td>0.359253</td>\n",
       "      <td>0.953125</td>\n",
       "      <td>00:01</td>\n",
       "    </tr>\n",
       "    <tr>\n",
       "      <td>53</td>\n",
       "      <td>0.247924</td>\n",
       "      <td>0.359350</td>\n",
       "      <td>0.953125</td>\n",
       "      <td>00:01</td>\n",
       "    </tr>\n",
       "    <tr>\n",
       "      <td>54</td>\n",
       "      <td>0.248989</td>\n",
       "      <td>0.359645</td>\n",
       "      <td>0.953125</td>\n",
       "      <td>00:01</td>\n",
       "    </tr>\n",
       "    <tr>\n",
       "      <td>55</td>\n",
       "      <td>0.248568</td>\n",
       "      <td>0.359991</td>\n",
       "      <td>0.945312</td>\n",
       "      <td>00:01</td>\n",
       "    </tr>\n",
       "    <tr>\n",
       "      <td>56</td>\n",
       "      <td>0.249667</td>\n",
       "      <td>0.359220</td>\n",
       "      <td>0.945312</td>\n",
       "      <td>00:01</td>\n",
       "    </tr>\n",
       "    <tr>\n",
       "      <td>57</td>\n",
       "      <td>0.248986</td>\n",
       "      <td>0.359555</td>\n",
       "      <td>0.945312</td>\n",
       "      <td>00:01</td>\n",
       "    </tr>\n",
       "    <tr>\n",
       "      <td>58</td>\n",
       "      <td>0.248715</td>\n",
       "      <td>0.361151</td>\n",
       "      <td>0.945312</td>\n",
       "      <td>00:01</td>\n",
       "    </tr>\n",
       "    <tr>\n",
       "      <td>59</td>\n",
       "      <td>0.249955</td>\n",
       "      <td>0.363571</td>\n",
       "      <td>0.945312</td>\n",
       "      <td>00:01</td>\n",
       "    </tr>\n",
       "    <tr>\n",
       "      <td>60</td>\n",
       "      <td>0.250563</td>\n",
       "      <td>0.358805</td>\n",
       "      <td>0.953125</td>\n",
       "      <td>00:01</td>\n",
       "    </tr>\n",
       "    <tr>\n",
       "      <td>61</td>\n",
       "      <td>0.249453</td>\n",
       "      <td>0.358680</td>\n",
       "      <td>0.937500</td>\n",
       "      <td>00:01</td>\n",
       "    </tr>\n",
       "    <tr>\n",
       "      <td>62</td>\n",
       "      <td>0.249604</td>\n",
       "      <td>0.359232</td>\n",
       "      <td>0.953125</td>\n",
       "      <td>00:01</td>\n",
       "    </tr>\n",
       "    <tr>\n",
       "      <td>63</td>\n",
       "      <td>0.249108</td>\n",
       "      <td>0.358707</td>\n",
       "      <td>0.953125</td>\n",
       "      <td>00:01</td>\n",
       "    </tr>\n",
       "    <tr>\n",
       "      <td>64</td>\n",
       "      <td>0.249138</td>\n",
       "      <td>0.360885</td>\n",
       "      <td>0.945312</td>\n",
       "      <td>00:01</td>\n",
       "    </tr>\n",
       "    <tr>\n",
       "      <td>65</td>\n",
       "      <td>0.248588</td>\n",
       "      <td>0.359150</td>\n",
       "      <td>0.953125</td>\n",
       "      <td>00:01</td>\n",
       "    </tr>\n",
       "    <tr>\n",
       "      <td>66</td>\n",
       "      <td>0.247903</td>\n",
       "      <td>0.359801</td>\n",
       "      <td>0.945312</td>\n",
       "      <td>00:01</td>\n",
       "    </tr>\n",
       "    <tr>\n",
       "      <td>67</td>\n",
       "      <td>0.248508</td>\n",
       "      <td>0.359800</td>\n",
       "      <td>0.953125</td>\n",
       "      <td>00:01</td>\n",
       "    </tr>\n",
       "    <tr>\n",
       "      <td>68</td>\n",
       "      <td>0.248959</td>\n",
       "      <td>0.358781</td>\n",
       "      <td>0.953125</td>\n",
       "      <td>00:01</td>\n",
       "    </tr>\n",
       "    <tr>\n",
       "      <td>69</td>\n",
       "      <td>0.248933</td>\n",
       "      <td>0.358703</td>\n",
       "      <td>0.953125</td>\n",
       "      <td>00:01</td>\n",
       "    </tr>\n",
       "    <tr>\n",
       "      <td>70</td>\n",
       "      <td>0.247965</td>\n",
       "      <td>0.359299</td>\n",
       "      <td>0.953125</td>\n",
       "      <td>00:01</td>\n",
       "    </tr>\n",
       "    <tr>\n",
       "      <td>71</td>\n",
       "      <td>0.249418</td>\n",
       "      <td>0.360496</td>\n",
       "      <td>0.953125</td>\n",
       "      <td>00:01</td>\n",
       "    </tr>\n",
       "    <tr>\n",
       "      <td>72</td>\n",
       "      <td>0.250181</td>\n",
       "      <td>0.360540</td>\n",
       "      <td>0.953125</td>\n",
       "      <td>00:01</td>\n",
       "    </tr>\n",
       "    <tr>\n",
       "      <td>73</td>\n",
       "      <td>0.249283</td>\n",
       "      <td>0.360084</td>\n",
       "      <td>0.953125</td>\n",
       "      <td>00:01</td>\n",
       "    </tr>\n",
       "    <tr>\n",
       "      <td>74</td>\n",
       "      <td>0.249113</td>\n",
       "      <td>0.360205</td>\n",
       "      <td>0.953125</td>\n",
       "      <td>00:01</td>\n",
       "    </tr>\n",
       "    <tr>\n",
       "      <td>75</td>\n",
       "      <td>0.247851</td>\n",
       "      <td>0.359092</td>\n",
       "      <td>0.953125</td>\n",
       "      <td>00:01</td>\n",
       "    </tr>\n",
       "    <tr>\n",
       "      <td>76</td>\n",
       "      <td>0.248552</td>\n",
       "      <td>0.357601</td>\n",
       "      <td>0.945312</td>\n",
       "      <td>00:01</td>\n",
       "    </tr>\n",
       "    <tr>\n",
       "      <td>77</td>\n",
       "      <td>0.246638</td>\n",
       "      <td>0.357942</td>\n",
       "      <td>0.953125</td>\n",
       "      <td>00:01</td>\n",
       "    </tr>\n",
       "    <tr>\n",
       "      <td>78</td>\n",
       "      <td>0.247544</td>\n",
       "      <td>0.358582</td>\n",
       "      <td>0.953125</td>\n",
       "      <td>00:01</td>\n",
       "    </tr>\n",
       "    <tr>\n",
       "      <td>79</td>\n",
       "      <td>0.246451</td>\n",
       "      <td>0.358953</td>\n",
       "      <td>0.953125</td>\n",
       "      <td>00:01</td>\n",
       "    </tr>\n",
       "    <tr>\n",
       "      <td>80</td>\n",
       "      <td>0.246332</td>\n",
       "      <td>0.357999</td>\n",
       "      <td>0.937500</td>\n",
       "      <td>00:01</td>\n",
       "    </tr>\n",
       "    <tr>\n",
       "      <td>81</td>\n",
       "      <td>0.247931</td>\n",
       "      <td>0.357385</td>\n",
       "      <td>0.945312</td>\n",
       "      <td>00:01</td>\n",
       "    </tr>\n",
       "    <tr>\n",
       "      <td>82</td>\n",
       "      <td>0.247116</td>\n",
       "      <td>0.358616</td>\n",
       "      <td>0.953125</td>\n",
       "      <td>00:01</td>\n",
       "    </tr>\n",
       "    <tr>\n",
       "      <td>83</td>\n",
       "      <td>0.245976</td>\n",
       "      <td>0.358863</td>\n",
       "      <td>0.953125</td>\n",
       "      <td>00:01</td>\n",
       "    </tr>\n",
       "    <tr>\n",
       "      <td>84</td>\n",
       "      <td>0.244844</td>\n",
       "      <td>0.359248</td>\n",
       "      <td>0.953125</td>\n",
       "      <td>00:01</td>\n",
       "    </tr>\n",
       "    <tr>\n",
       "      <td>85</td>\n",
       "      <td>0.244819</td>\n",
       "      <td>0.358520</td>\n",
       "      <td>0.937500</td>\n",
       "      <td>00:01</td>\n",
       "    </tr>\n",
       "    <tr>\n",
       "      <td>86</td>\n",
       "      <td>0.244697</td>\n",
       "      <td>0.359074</td>\n",
       "      <td>0.937500</td>\n",
       "      <td>00:01</td>\n",
       "    </tr>\n",
       "    <tr>\n",
       "      <td>87</td>\n",
       "      <td>0.245014</td>\n",
       "      <td>0.358368</td>\n",
       "      <td>0.937500</td>\n",
       "      <td>00:01</td>\n",
       "    </tr>\n",
       "    <tr>\n",
       "      <td>88</td>\n",
       "      <td>0.244334</td>\n",
       "      <td>0.358083</td>\n",
       "      <td>0.937500</td>\n",
       "      <td>00:01</td>\n",
       "    </tr>\n",
       "    <tr>\n",
       "      <td>89</td>\n",
       "      <td>0.245156</td>\n",
       "      <td>0.359061</td>\n",
       "      <td>0.945312</td>\n",
       "      <td>00:01</td>\n",
       "    </tr>\n",
       "    <tr>\n",
       "      <td>90</td>\n",
       "      <td>0.245542</td>\n",
       "      <td>0.358878</td>\n",
       "      <td>0.953125</td>\n",
       "      <td>00:01</td>\n",
       "    </tr>\n",
       "    <tr>\n",
       "      <td>91</td>\n",
       "      <td>0.245376</td>\n",
       "      <td>0.358038</td>\n",
       "      <td>0.945312</td>\n",
       "      <td>00:01</td>\n",
       "    </tr>\n",
       "    <tr>\n",
       "      <td>92</td>\n",
       "      <td>0.245295</td>\n",
       "      <td>0.358828</td>\n",
       "      <td>0.945312</td>\n",
       "      <td>00:01</td>\n",
       "    </tr>\n",
       "    <tr>\n",
       "      <td>93</td>\n",
       "      <td>0.246358</td>\n",
       "      <td>0.359861</td>\n",
       "      <td>0.945312</td>\n",
       "      <td>00:01</td>\n",
       "    </tr>\n",
       "    <tr>\n",
       "      <td>94</td>\n",
       "      <td>0.246116</td>\n",
       "      <td>0.359139</td>\n",
       "      <td>0.953125</td>\n",
       "      <td>00:01</td>\n",
       "    </tr>\n",
       "    <tr>\n",
       "      <td>95</td>\n",
       "      <td>0.245364</td>\n",
       "      <td>0.358856</td>\n",
       "      <td>0.953125</td>\n",
       "      <td>00:01</td>\n",
       "    </tr>\n",
       "    <tr>\n",
       "      <td>96</td>\n",
       "      <td>0.245564</td>\n",
       "      <td>0.360184</td>\n",
       "      <td>0.953125</td>\n",
       "      <td>00:01</td>\n",
       "    </tr>\n",
       "    <tr>\n",
       "      <td>97</td>\n",
       "      <td>0.245124</td>\n",
       "      <td>0.360098</td>\n",
       "      <td>0.945312</td>\n",
       "      <td>00:01</td>\n",
       "    </tr>\n",
       "    <tr>\n",
       "      <td>98</td>\n",
       "      <td>0.244537</td>\n",
       "      <td>0.358686</td>\n",
       "      <td>0.945312</td>\n",
       "      <td>00:01</td>\n",
       "    </tr>\n",
       "    <tr>\n",
       "      <td>99</td>\n",
       "      <td>0.244120</td>\n",
       "      <td>0.358757</td>\n",
       "      <td>0.945312</td>\n",
       "      <td>00:01</td>\n",
       "    </tr>\n",
       "  </tbody>\n",
       "</table>"
      ],
      "text/plain": [
       "<IPython.core.display.HTML object>"
      ]
     },
     "metadata": {},
     "output_type": "display_data"
    }
   ],
   "source": [
    "learn.fit_one_cycle(100, 1e-2)"
   ]
  },
  {
   "cell_type": "code",
   "execution_count": 29,
   "metadata": {
    "ExecuteTime": {
     "end_time": "2020-07-05T20:21:08.479583Z",
     "start_time": "2020-07-05T20:17:55.645337Z"
    }
   },
   "outputs": [
    {
     "data": {
      "text/html": [
       "<table border=\"1\" class=\"dataframe\">\n",
       "  <thead>\n",
       "    <tr style=\"text-align: left;\">\n",
       "      <th>epoch</th>\n",
       "      <th>train_loss</th>\n",
       "      <th>valid_loss</th>\n",
       "      <th>accuracy</th>\n",
       "      <th>time</th>\n",
       "    </tr>\n",
       "  </thead>\n",
       "  <tbody>\n",
       "    <tr>\n",
       "      <td>0</td>\n",
       "      <td>0.247425</td>\n",
       "      <td>0.358175</td>\n",
       "      <td>0.945312</td>\n",
       "      <td>00:01</td>\n",
       "    </tr>\n",
       "    <tr>\n",
       "      <td>1</td>\n",
       "      <td>0.249117</td>\n",
       "      <td>0.358437</td>\n",
       "      <td>0.945312</td>\n",
       "      <td>00:01</td>\n",
       "    </tr>\n",
       "    <tr>\n",
       "      <td>2</td>\n",
       "      <td>0.245739</td>\n",
       "      <td>0.359110</td>\n",
       "      <td>0.953125</td>\n",
       "      <td>00:01</td>\n",
       "    </tr>\n",
       "    <tr>\n",
       "      <td>3</td>\n",
       "      <td>0.246099</td>\n",
       "      <td>0.358657</td>\n",
       "      <td>0.953125</td>\n",
       "      <td>00:01</td>\n",
       "    </tr>\n",
       "    <tr>\n",
       "      <td>4</td>\n",
       "      <td>0.245511</td>\n",
       "      <td>0.358569</td>\n",
       "      <td>0.953125</td>\n",
       "      <td>00:01</td>\n",
       "    </tr>\n",
       "    <tr>\n",
       "      <td>5</td>\n",
       "      <td>0.243674</td>\n",
       "      <td>0.359826</td>\n",
       "      <td>0.953125</td>\n",
       "      <td>00:01</td>\n",
       "    </tr>\n",
       "    <tr>\n",
       "      <td>6</td>\n",
       "      <td>0.244097</td>\n",
       "      <td>0.359509</td>\n",
       "      <td>0.953125</td>\n",
       "      <td>00:01</td>\n",
       "    </tr>\n",
       "    <tr>\n",
       "      <td>7</td>\n",
       "      <td>0.243831</td>\n",
       "      <td>0.359164</td>\n",
       "      <td>0.953125</td>\n",
       "      <td>00:01</td>\n",
       "    </tr>\n",
       "    <tr>\n",
       "      <td>8</td>\n",
       "      <td>0.243784</td>\n",
       "      <td>0.358739</td>\n",
       "      <td>0.953125</td>\n",
       "      <td>00:01</td>\n",
       "    </tr>\n",
       "    <tr>\n",
       "      <td>9</td>\n",
       "      <td>0.245033</td>\n",
       "      <td>0.358978</td>\n",
       "      <td>0.945312</td>\n",
       "      <td>00:01</td>\n",
       "    </tr>\n",
       "    <tr>\n",
       "      <td>10</td>\n",
       "      <td>0.243901</td>\n",
       "      <td>0.359666</td>\n",
       "      <td>0.945312</td>\n",
       "      <td>00:01</td>\n",
       "    </tr>\n",
       "    <tr>\n",
       "      <td>11</td>\n",
       "      <td>0.244045</td>\n",
       "      <td>0.357736</td>\n",
       "      <td>0.945312</td>\n",
       "      <td>00:01</td>\n",
       "    </tr>\n",
       "    <tr>\n",
       "      <td>12</td>\n",
       "      <td>0.243089</td>\n",
       "      <td>0.358406</td>\n",
       "      <td>0.953125</td>\n",
       "      <td>00:01</td>\n",
       "    </tr>\n",
       "    <tr>\n",
       "      <td>13</td>\n",
       "      <td>0.243483</td>\n",
       "      <td>0.358016</td>\n",
       "      <td>0.945312</td>\n",
       "      <td>00:01</td>\n",
       "    </tr>\n",
       "    <tr>\n",
       "      <td>14</td>\n",
       "      <td>0.243966</td>\n",
       "      <td>0.357371</td>\n",
       "      <td>0.945312</td>\n",
       "      <td>00:01</td>\n",
       "    </tr>\n",
       "    <tr>\n",
       "      <td>15</td>\n",
       "      <td>0.245455</td>\n",
       "      <td>0.358223</td>\n",
       "      <td>0.945312</td>\n",
       "      <td>00:01</td>\n",
       "    </tr>\n",
       "    <tr>\n",
       "      <td>16</td>\n",
       "      <td>0.245151</td>\n",
       "      <td>0.357329</td>\n",
       "      <td>0.945312</td>\n",
       "      <td>00:01</td>\n",
       "    </tr>\n",
       "    <tr>\n",
       "      <td>17</td>\n",
       "      <td>0.245313</td>\n",
       "      <td>0.358178</td>\n",
       "      <td>0.945312</td>\n",
       "      <td>00:01</td>\n",
       "    </tr>\n",
       "    <tr>\n",
       "      <td>18</td>\n",
       "      <td>0.245051</td>\n",
       "      <td>0.358360</td>\n",
       "      <td>0.945312</td>\n",
       "      <td>00:01</td>\n",
       "    </tr>\n",
       "    <tr>\n",
       "      <td>19</td>\n",
       "      <td>0.244261</td>\n",
       "      <td>0.362741</td>\n",
       "      <td>0.937500</td>\n",
       "      <td>00:01</td>\n",
       "    </tr>\n",
       "    <tr>\n",
       "      <td>20</td>\n",
       "      <td>0.244528</td>\n",
       "      <td>0.358057</td>\n",
       "      <td>0.937500</td>\n",
       "      <td>00:01</td>\n",
       "    </tr>\n",
       "    <tr>\n",
       "      <td>21</td>\n",
       "      <td>0.244469</td>\n",
       "      <td>0.357928</td>\n",
       "      <td>0.945312</td>\n",
       "      <td>00:01</td>\n",
       "    </tr>\n",
       "    <tr>\n",
       "      <td>22</td>\n",
       "      <td>0.243022</td>\n",
       "      <td>0.358239</td>\n",
       "      <td>0.945312</td>\n",
       "      <td>00:01</td>\n",
       "    </tr>\n",
       "    <tr>\n",
       "      <td>23</td>\n",
       "      <td>0.245070</td>\n",
       "      <td>0.362302</td>\n",
       "      <td>0.929688</td>\n",
       "      <td>00:01</td>\n",
       "    </tr>\n",
       "    <tr>\n",
       "      <td>24</td>\n",
       "      <td>0.244531</td>\n",
       "      <td>0.365338</td>\n",
       "      <td>0.929688</td>\n",
       "      <td>00:01</td>\n",
       "    </tr>\n",
       "    <tr>\n",
       "      <td>25</td>\n",
       "      <td>0.243588</td>\n",
       "      <td>0.358959</td>\n",
       "      <td>0.945312</td>\n",
       "      <td>00:01</td>\n",
       "    </tr>\n",
       "    <tr>\n",
       "      <td>26</td>\n",
       "      <td>0.243869</td>\n",
       "      <td>0.361875</td>\n",
       "      <td>0.937500</td>\n",
       "      <td>00:01</td>\n",
       "    </tr>\n",
       "    <tr>\n",
       "      <td>27</td>\n",
       "      <td>0.243416</td>\n",
       "      <td>0.357627</td>\n",
       "      <td>0.929688</td>\n",
       "      <td>00:01</td>\n",
       "    </tr>\n",
       "    <tr>\n",
       "      <td>28</td>\n",
       "      <td>0.242505</td>\n",
       "      <td>0.362563</td>\n",
       "      <td>0.945312</td>\n",
       "      <td>00:01</td>\n",
       "    </tr>\n",
       "    <tr>\n",
       "      <td>29</td>\n",
       "      <td>0.242652</td>\n",
       "      <td>0.359612</td>\n",
       "      <td>0.937500</td>\n",
       "      <td>00:01</td>\n",
       "    </tr>\n",
       "    <tr>\n",
       "      <td>30</td>\n",
       "      <td>0.242751</td>\n",
       "      <td>0.358188</td>\n",
       "      <td>0.929688</td>\n",
       "      <td>00:01</td>\n",
       "    </tr>\n",
       "    <tr>\n",
       "      <td>31</td>\n",
       "      <td>0.244083</td>\n",
       "      <td>0.363637</td>\n",
       "      <td>0.921875</td>\n",
       "      <td>00:01</td>\n",
       "    </tr>\n",
       "    <tr>\n",
       "      <td>32</td>\n",
       "      <td>0.243008</td>\n",
       "      <td>0.360028</td>\n",
       "      <td>0.921875</td>\n",
       "      <td>00:01</td>\n",
       "    </tr>\n",
       "    <tr>\n",
       "      <td>33</td>\n",
       "      <td>0.241304</td>\n",
       "      <td>0.359711</td>\n",
       "      <td>0.921875</td>\n",
       "      <td>00:01</td>\n",
       "    </tr>\n",
       "    <tr>\n",
       "      <td>34</td>\n",
       "      <td>0.240908</td>\n",
       "      <td>0.359934</td>\n",
       "      <td>0.929688</td>\n",
       "      <td>00:01</td>\n",
       "    </tr>\n",
       "    <tr>\n",
       "      <td>35</td>\n",
       "      <td>0.240444</td>\n",
       "      <td>0.361579</td>\n",
       "      <td>0.929688</td>\n",
       "      <td>00:01</td>\n",
       "    </tr>\n",
       "    <tr>\n",
       "      <td>36</td>\n",
       "      <td>0.240191</td>\n",
       "      <td>0.366910</td>\n",
       "      <td>0.937500</td>\n",
       "      <td>00:01</td>\n",
       "    </tr>\n",
       "    <tr>\n",
       "      <td>37</td>\n",
       "      <td>0.241172</td>\n",
       "      <td>0.363940</td>\n",
       "      <td>0.937500</td>\n",
       "      <td>00:01</td>\n",
       "    </tr>\n",
       "    <tr>\n",
       "      <td>38</td>\n",
       "      <td>0.240890</td>\n",
       "      <td>0.361847</td>\n",
       "      <td>0.929688</td>\n",
       "      <td>00:01</td>\n",
       "    </tr>\n",
       "    <tr>\n",
       "      <td>39</td>\n",
       "      <td>0.240645</td>\n",
       "      <td>0.360834</td>\n",
       "      <td>0.921875</td>\n",
       "      <td>00:01</td>\n",
       "    </tr>\n",
       "    <tr>\n",
       "      <td>40</td>\n",
       "      <td>0.240312</td>\n",
       "      <td>0.375319</td>\n",
       "      <td>0.914062</td>\n",
       "      <td>00:01</td>\n",
       "    </tr>\n",
       "    <tr>\n",
       "      <td>41</td>\n",
       "      <td>0.239920</td>\n",
       "      <td>0.363950</td>\n",
       "      <td>0.929688</td>\n",
       "      <td>00:01</td>\n",
       "    </tr>\n",
       "    <tr>\n",
       "      <td>42</td>\n",
       "      <td>0.241425</td>\n",
       "      <td>0.363651</td>\n",
       "      <td>0.929688</td>\n",
       "      <td>00:01</td>\n",
       "    </tr>\n",
       "    <tr>\n",
       "      <td>43</td>\n",
       "      <td>0.241491</td>\n",
       "      <td>0.369093</td>\n",
       "      <td>0.937500</td>\n",
       "      <td>00:01</td>\n",
       "    </tr>\n",
       "    <tr>\n",
       "      <td>44</td>\n",
       "      <td>0.243153</td>\n",
       "      <td>0.364500</td>\n",
       "      <td>0.929688</td>\n",
       "      <td>00:01</td>\n",
       "    </tr>\n",
       "    <tr>\n",
       "      <td>45</td>\n",
       "      <td>0.243735</td>\n",
       "      <td>0.362629</td>\n",
       "      <td>0.929688</td>\n",
       "      <td>00:01</td>\n",
       "    </tr>\n",
       "    <tr>\n",
       "      <td>46</td>\n",
       "      <td>0.241893</td>\n",
       "      <td>0.359926</td>\n",
       "      <td>0.914062</td>\n",
       "      <td>00:01</td>\n",
       "    </tr>\n",
       "    <tr>\n",
       "      <td>47</td>\n",
       "      <td>0.240934</td>\n",
       "      <td>0.363732</td>\n",
       "      <td>0.929688</td>\n",
       "      <td>00:01</td>\n",
       "    </tr>\n",
       "    <tr>\n",
       "      <td>48</td>\n",
       "      <td>0.241147</td>\n",
       "      <td>0.358237</td>\n",
       "      <td>0.937500</td>\n",
       "      <td>00:01</td>\n",
       "    </tr>\n",
       "    <tr>\n",
       "      <td>49</td>\n",
       "      <td>0.240204</td>\n",
       "      <td>0.361122</td>\n",
       "      <td>0.914062</td>\n",
       "      <td>00:01</td>\n",
       "    </tr>\n",
       "    <tr>\n",
       "      <td>50</td>\n",
       "      <td>0.241592</td>\n",
       "      <td>0.362137</td>\n",
       "      <td>0.921875</td>\n",
       "      <td>00:01</td>\n",
       "    </tr>\n",
       "    <tr>\n",
       "      <td>51</td>\n",
       "      <td>0.239785</td>\n",
       "      <td>0.358015</td>\n",
       "      <td>0.937500</td>\n",
       "      <td>00:01</td>\n",
       "    </tr>\n",
       "    <tr>\n",
       "      <td>52</td>\n",
       "      <td>0.238740</td>\n",
       "      <td>0.362816</td>\n",
       "      <td>0.929688</td>\n",
       "      <td>00:01</td>\n",
       "    </tr>\n",
       "    <tr>\n",
       "      <td>53</td>\n",
       "      <td>0.239244</td>\n",
       "      <td>0.362412</td>\n",
       "      <td>0.929688</td>\n",
       "      <td>00:01</td>\n",
       "    </tr>\n",
       "    <tr>\n",
       "      <td>54</td>\n",
       "      <td>0.240147</td>\n",
       "      <td>0.361095</td>\n",
       "      <td>0.929688</td>\n",
       "      <td>00:01</td>\n",
       "    </tr>\n",
       "    <tr>\n",
       "      <td>55</td>\n",
       "      <td>0.238693</td>\n",
       "      <td>0.359174</td>\n",
       "      <td>0.921875</td>\n",
       "      <td>00:01</td>\n",
       "    </tr>\n",
       "    <tr>\n",
       "      <td>56</td>\n",
       "      <td>0.239738</td>\n",
       "      <td>0.359073</td>\n",
       "      <td>0.937500</td>\n",
       "      <td>00:01</td>\n",
       "    </tr>\n",
       "    <tr>\n",
       "      <td>57</td>\n",
       "      <td>0.238678</td>\n",
       "      <td>0.358633</td>\n",
       "      <td>0.945312</td>\n",
       "      <td>00:01</td>\n",
       "    </tr>\n",
       "    <tr>\n",
       "      <td>58</td>\n",
       "      <td>0.237756</td>\n",
       "      <td>0.358537</td>\n",
       "      <td>0.921875</td>\n",
       "      <td>00:01</td>\n",
       "    </tr>\n",
       "    <tr>\n",
       "      <td>59</td>\n",
       "      <td>0.237510</td>\n",
       "      <td>0.358446</td>\n",
       "      <td>0.921875</td>\n",
       "      <td>00:01</td>\n",
       "    </tr>\n",
       "    <tr>\n",
       "      <td>60</td>\n",
       "      <td>0.237443</td>\n",
       "      <td>0.361163</td>\n",
       "      <td>0.937500</td>\n",
       "      <td>00:01</td>\n",
       "    </tr>\n",
       "    <tr>\n",
       "      <td>61</td>\n",
       "      <td>0.237172</td>\n",
       "      <td>0.356997</td>\n",
       "      <td>0.914062</td>\n",
       "      <td>00:01</td>\n",
       "    </tr>\n",
       "    <tr>\n",
       "      <td>62</td>\n",
       "      <td>0.236020</td>\n",
       "      <td>0.360585</td>\n",
       "      <td>0.929688</td>\n",
       "      <td>00:01</td>\n",
       "    </tr>\n",
       "    <tr>\n",
       "      <td>63</td>\n",
       "      <td>0.235152</td>\n",
       "      <td>0.358891</td>\n",
       "      <td>0.921875</td>\n",
       "      <td>00:01</td>\n",
       "    </tr>\n",
       "    <tr>\n",
       "      <td>64</td>\n",
       "      <td>0.235931</td>\n",
       "      <td>0.361866</td>\n",
       "      <td>0.921875</td>\n",
       "      <td>00:01</td>\n",
       "    </tr>\n",
       "    <tr>\n",
       "      <td>65</td>\n",
       "      <td>0.235364</td>\n",
       "      <td>0.362380</td>\n",
       "      <td>0.921875</td>\n",
       "      <td>00:01</td>\n",
       "    </tr>\n",
       "    <tr>\n",
       "      <td>66</td>\n",
       "      <td>0.234828</td>\n",
       "      <td>0.360554</td>\n",
       "      <td>0.929688</td>\n",
       "      <td>00:01</td>\n",
       "    </tr>\n",
       "    <tr>\n",
       "      <td>67</td>\n",
       "      <td>0.234737</td>\n",
       "      <td>0.361148</td>\n",
       "      <td>0.921875</td>\n",
       "      <td>00:01</td>\n",
       "    </tr>\n",
       "    <tr>\n",
       "      <td>68</td>\n",
       "      <td>0.234316</td>\n",
       "      <td>0.361606</td>\n",
       "      <td>0.929688</td>\n",
       "      <td>00:01</td>\n",
       "    </tr>\n",
       "    <tr>\n",
       "      <td>69</td>\n",
       "      <td>0.233407</td>\n",
       "      <td>0.360617</td>\n",
       "      <td>0.929688</td>\n",
       "      <td>00:01</td>\n",
       "    </tr>\n",
       "    <tr>\n",
       "      <td>70</td>\n",
       "      <td>0.234074</td>\n",
       "      <td>0.355163</td>\n",
       "      <td>0.921875</td>\n",
       "      <td>00:01</td>\n",
       "    </tr>\n",
       "    <tr>\n",
       "      <td>71</td>\n",
       "      <td>0.234481</td>\n",
       "      <td>0.357188</td>\n",
       "      <td>0.921875</td>\n",
       "      <td>00:01</td>\n",
       "    </tr>\n",
       "    <tr>\n",
       "      <td>72</td>\n",
       "      <td>0.234107</td>\n",
       "      <td>0.358386</td>\n",
       "      <td>0.921875</td>\n",
       "      <td>00:01</td>\n",
       "    </tr>\n",
       "    <tr>\n",
       "      <td>73</td>\n",
       "      <td>0.233757</td>\n",
       "      <td>0.356849</td>\n",
       "      <td>0.921875</td>\n",
       "      <td>00:01</td>\n",
       "    </tr>\n",
       "    <tr>\n",
       "      <td>74</td>\n",
       "      <td>0.234322</td>\n",
       "      <td>0.362033</td>\n",
       "      <td>0.937500</td>\n",
       "      <td>00:01</td>\n",
       "    </tr>\n",
       "    <tr>\n",
       "      <td>75</td>\n",
       "      <td>0.233751</td>\n",
       "      <td>0.358477</td>\n",
       "      <td>0.921875</td>\n",
       "      <td>00:01</td>\n",
       "    </tr>\n",
       "    <tr>\n",
       "      <td>76</td>\n",
       "      <td>0.232244</td>\n",
       "      <td>0.357803</td>\n",
       "      <td>0.921875</td>\n",
       "      <td>00:01</td>\n",
       "    </tr>\n",
       "    <tr>\n",
       "      <td>77</td>\n",
       "      <td>0.231772</td>\n",
       "      <td>0.357210</td>\n",
       "      <td>0.921875</td>\n",
       "      <td>00:01</td>\n",
       "    </tr>\n",
       "    <tr>\n",
       "      <td>78</td>\n",
       "      <td>0.232429</td>\n",
       "      <td>0.355743</td>\n",
       "      <td>0.921875</td>\n",
       "      <td>00:01</td>\n",
       "    </tr>\n",
       "    <tr>\n",
       "      <td>79</td>\n",
       "      <td>0.232303</td>\n",
       "      <td>0.357879</td>\n",
       "      <td>0.929688</td>\n",
       "      <td>00:01</td>\n",
       "    </tr>\n",
       "    <tr>\n",
       "      <td>80</td>\n",
       "      <td>0.232700</td>\n",
       "      <td>0.357497</td>\n",
       "      <td>0.929688</td>\n",
       "      <td>00:01</td>\n",
       "    </tr>\n",
       "    <tr>\n",
       "      <td>81</td>\n",
       "      <td>0.231755</td>\n",
       "      <td>0.356671</td>\n",
       "      <td>0.929688</td>\n",
       "      <td>00:01</td>\n",
       "    </tr>\n",
       "    <tr>\n",
       "      <td>82</td>\n",
       "      <td>0.231329</td>\n",
       "      <td>0.356669</td>\n",
       "      <td>0.929688</td>\n",
       "      <td>00:01</td>\n",
       "    </tr>\n",
       "    <tr>\n",
       "      <td>83</td>\n",
       "      <td>0.233036</td>\n",
       "      <td>0.356135</td>\n",
       "      <td>0.929688</td>\n",
       "      <td>00:01</td>\n",
       "    </tr>\n",
       "    <tr>\n",
       "      <td>84</td>\n",
       "      <td>0.231994</td>\n",
       "      <td>0.356396</td>\n",
       "      <td>0.929688</td>\n",
       "      <td>00:01</td>\n",
       "    </tr>\n",
       "    <tr>\n",
       "      <td>85</td>\n",
       "      <td>0.232559</td>\n",
       "      <td>0.360639</td>\n",
       "      <td>0.937500</td>\n",
       "      <td>00:01</td>\n",
       "    </tr>\n",
       "    <tr>\n",
       "      <td>86</td>\n",
       "      <td>0.232408</td>\n",
       "      <td>0.358658</td>\n",
       "      <td>0.929688</td>\n",
       "      <td>00:01</td>\n",
       "    </tr>\n",
       "    <tr>\n",
       "      <td>87</td>\n",
       "      <td>0.232745</td>\n",
       "      <td>0.357913</td>\n",
       "      <td>0.921875</td>\n",
       "      <td>00:01</td>\n",
       "    </tr>\n",
       "    <tr>\n",
       "      <td>88</td>\n",
       "      <td>0.232438</td>\n",
       "      <td>0.356651</td>\n",
       "      <td>0.929688</td>\n",
       "      <td>00:01</td>\n",
       "    </tr>\n",
       "    <tr>\n",
       "      <td>89</td>\n",
       "      <td>0.232021</td>\n",
       "      <td>0.358985</td>\n",
       "      <td>0.921875</td>\n",
       "      <td>00:01</td>\n",
       "    </tr>\n",
       "    <tr>\n",
       "      <td>90</td>\n",
       "      <td>0.231507</td>\n",
       "      <td>0.358967</td>\n",
       "      <td>0.921875</td>\n",
       "      <td>00:01</td>\n",
       "    </tr>\n",
       "    <tr>\n",
       "      <td>91</td>\n",
       "      <td>0.231077</td>\n",
       "      <td>0.356973</td>\n",
       "      <td>0.921875</td>\n",
       "      <td>00:01</td>\n",
       "    </tr>\n",
       "    <tr>\n",
       "      <td>92</td>\n",
       "      <td>0.230844</td>\n",
       "      <td>0.358156</td>\n",
       "      <td>0.921875</td>\n",
       "      <td>00:01</td>\n",
       "    </tr>\n",
       "    <tr>\n",
       "      <td>93</td>\n",
       "      <td>0.230225</td>\n",
       "      <td>0.358168</td>\n",
       "      <td>0.921875</td>\n",
       "      <td>00:01</td>\n",
       "    </tr>\n",
       "    <tr>\n",
       "      <td>94</td>\n",
       "      <td>0.230116</td>\n",
       "      <td>0.357715</td>\n",
       "      <td>0.921875</td>\n",
       "      <td>00:01</td>\n",
       "    </tr>\n",
       "    <tr>\n",
       "      <td>95</td>\n",
       "      <td>0.229727</td>\n",
       "      <td>0.357190</td>\n",
       "      <td>0.929688</td>\n",
       "      <td>00:01</td>\n",
       "    </tr>\n",
       "    <tr>\n",
       "      <td>96</td>\n",
       "      <td>0.229375</td>\n",
       "      <td>0.356431</td>\n",
       "      <td>0.929688</td>\n",
       "      <td>00:01</td>\n",
       "    </tr>\n",
       "    <tr>\n",
       "      <td>97</td>\n",
       "      <td>0.229896</td>\n",
       "      <td>0.356835</td>\n",
       "      <td>0.929688</td>\n",
       "      <td>00:01</td>\n",
       "    </tr>\n",
       "    <tr>\n",
       "      <td>98</td>\n",
       "      <td>0.230252</td>\n",
       "      <td>0.356925</td>\n",
       "      <td>0.929688</td>\n",
       "      <td>00:01</td>\n",
       "    </tr>\n",
       "    <tr>\n",
       "      <td>99</td>\n",
       "      <td>0.231166</td>\n",
       "      <td>0.357076</td>\n",
       "      <td>0.921875</td>\n",
       "      <td>00:01</td>\n",
       "    </tr>\n",
       "  </tbody>\n",
       "</table>"
      ],
      "text/plain": [
       "<IPython.core.display.HTML object>"
      ]
     },
     "metadata": {},
     "output_type": "display_data"
    }
   ],
   "source": [
    "learn.unfreeze()\n",
    "learn.fit_one_cycle(100)"
   ]
  },
  {
   "cell_type": "code",
   "execution_count": null,
   "metadata": {
    "ExecuteTime": {
     "end_time": "2020-07-05T13:54:16.796420Z",
     "start_time": "2020-07-05T13:51:04.136065Z"
    }
   },
   "outputs": [],
   "source": [
    "learn.fit_one_cycle(100, slice(1e-3))"
   ]
  },
  {
   "cell_type": "markdown",
   "metadata": {
    "ExecuteTime": {
     "end_time": "2020-07-05T14:08:41.880161Z",
     "start_time": "2020-07-05T14:08:41.859390Z"
    }
   },
   "source": [
    "# Infinite"
   ]
  },
  {
   "cell_type": "code",
   "execution_count": null,
   "metadata": {
    "ExecuteTime": {
     "end_time": "2020-07-05T19:32:11.329616Z",
     "start_time": "2020-07-05T19:32:06.943349Z"
    }
   },
   "outputs": [],
   "source": [
    "!pip install git+https://github.com/google/neural-tangents/"
   ]
  },
  {
   "cell_type": "code",
   "execution_count": null,
   "metadata": {
    "ExecuteTime": {
     "end_time": "2020-07-05T19:32:14.773880Z",
     "start_time": "2020-07-05T19:32:13.550611Z"
    }
   },
   "outputs": [],
   "source": [
    "!pip install jaxlib"
   ]
  },
  {
   "cell_type": "code",
   "execution_count": null,
   "metadata": {
    "ExecuteTime": {
     "end_time": "2020-07-05T19:41:52.995184Z",
     "start_time": "2020-07-05T19:41:52.972509Z"
    }
   },
   "outputs": [],
   "source": [
    "learn.model.fc = nn.Identity().to(learn.data.device)"
   ]
  },
  {
   "cell_type": "code",
   "execution_count": null,
   "metadata": {
    "ExecuteTime": {
     "end_time": "2020-07-05T19:41:54.233857Z",
     "start_time": "2020-07-05T19:41:54.213268Z"
    }
   },
   "outputs": [],
   "source": [
    "def _one_hot(x, k, dtype=np.float32):\n",
    "  \"\"\"Create a one-hot encoding of x of size k.\"\"\"\n",
    "  return np.array(x[:, None] == np.arange(k), dtype)"
   ]
  },
  {
   "cell_type": "code",
   "execution_count": null,
   "metadata": {
    "ExecuteTime": {
     "end_time": "2020-07-05T19:41:54.686456Z",
     "start_time": "2020-07-05T19:41:54.666291Z"
    }
   },
   "outputs": [],
   "source": [
    "def _accuracy(y, y_hat):\n",
    "  \"\"\"Compute the accuracy of the predictions with respect to one-hot labels.\"\"\"\n",
    "  return np.mean(np.argmax(y, axis=1) == np.argmax(y_hat, axis=1))\n",
    "\n",
    "\n",
    "def print_summary(name, labels, net_p, lin_p, loss):\n",
    "  \"\"\"Print summary information comparing a network with its linearization.\"\"\"\n",
    "  print('\\nEvaluating Network on {} data.'.format(name))\n",
    "  print('---------------------------------------')\n",
    "  print('Network Accuracy = {}'.format(_accuracy(net_p, labels)))\n",
    "  print('Network Loss = {}'.format(loss(net_p, labels)))\n",
    "  if lin_p is not None:\n",
    "    print('Linearization Accuracy = {}'.format(_accuracy(lin_p, labels)))\n",
    "    print('Linearization Loss = {}'.format(loss(lin_p, labels)))\n",
    "    print('RMSE of predictions: {}'.format(\n",
    "        np.sqrt(np.mean((net_p - lin_p) ** 2))))\n",
    "  print('---------------------------------------')"
   ]
  },
  {
   "cell_type": "code",
   "execution_count": null,
   "metadata": {
    "ExecuteTime": {
     "end_time": "2020-07-05T20:00:50.340846Z",
     "start_time": "2020-07-05T20:00:50.318224Z"
    }
   },
   "outputs": [],
   "source": [
    "from neural_tangents import stax\n",
    "import jax.numpy as np\n",
    "from jax import random\n",
    "from jax.experimental import optimizers\n",
    "from jax.api import jit, grad, vmap\n",
    "import neural_tangents as nt\n",
    "from jax.experimental import stax as ostax\n",
    "\n",
    "init_fn, apply_fn, kernel_fn = stax.serial(\n",
    "    stax.Dense(512, W_std=1.5, b_std=0.05),\n",
    "    stax.LeakyRelu(alpha=0.01),\n",
    "    stax.Dense(256, W_std=1.5, b_std=0.05),\n",
    "    stax.LeakyRelu(alpha=0.01),\n",
    "    stax.Dense(2, W_std=1., b_std=0.05)\n",
    ")\n",
    "\n",
    "key = random.PRNGKey(10)\n",
    "\n",
    "apply_fn = jit(apply_fn)\n",
    "kernel_fn = jit(kernel_fn, static_argnums=(2,))"
   ]
  },
  {
   "cell_type": "code",
   "execution_count": null,
   "metadata": {
    "ExecuteTime": {
     "end_time": "2020-07-05T20:00:52.618473Z",
     "start_time": "2020-07-05T20:00:51.518335Z"
    }
   },
   "outputs": [],
   "source": [
    "x_train, y_train, x_test, y_test = None, None, None, None\n",
    "with torch.no_grad():\n",
    "    for x, y in learn.data.train_dl:\n",
    "        if x_train is None:\n",
    "            x_train = learn.model(x).detach().cpu().numpy()\n",
    "            y_train = _one_hot(y.detach().cpu().numpy(), 2)\n",
    "        else:\n",
    "            x_train = np.concatenate((x_train, learn.model(x).detach().cpu().numpy()))\n",
    "            y_train = np.concatenate((y_train, _one_hot(y.detach().cpu().numpy(), 2)))\n",
    "            \n",
    "    for x, y in learn.data.valid_dl:\n",
    "        if x_test is None:\n",
    "            x_test = learn.model(x).detach().cpu().numpy()\n",
    "            y_test = _one_hot(y.detach().cpu().numpy(), 2)\n",
    "        else:\n",
    "            x_test = np.concatenate((x_test, learn.model(x).detach().cpu().numpy()))\n",
    "            y_test = np.concatenate((y_test, _one_hot(y.detach().cpu().numpy(), 2)))"
   ]
  },
  {
   "cell_type": "code",
   "execution_count": null,
   "metadata": {
    "ExecuteTime": {
     "end_time": "2020-07-05T20:00:54.620631Z",
     "start_time": "2020-07-05T20:00:54.600314Z"
    }
   },
   "outputs": [],
   "source": [
    "x_train.shape, y_train.shape"
   ]
  },
  {
   "cell_type": "code",
   "execution_count": null,
   "metadata": {
    "ExecuteTime": {
     "end_time": "2020-07-05T20:00:55.120698Z",
     "start_time": "2020-07-05T20:00:55.101186Z"
    }
   },
   "outputs": [],
   "source": [
    "x_test.shape, y_test.shape "
   ]
  },
  {
   "cell_type": "code",
   "execution_count": null,
   "metadata": {
    "ExecuteTime": {
     "end_time": "2020-07-05T20:00:55.850034Z",
     "start_time": "2020-07-05T20:00:55.829724Z"
    }
   },
   "outputs": [],
   "source": [
    "kernel_fn = nt.batch(kernel_fn,\n",
    "                       device_count=0,\n",
    "                       batch_size=0)"
   ]
  },
  {
   "cell_type": "code",
   "execution_count": null,
   "metadata": {
    "ExecuteTime": {
     "end_time": "2020-07-05T20:00:56.747255Z",
     "start_time": "2020-07-05T20:00:56.727008Z"
    }
   },
   "outputs": [],
   "source": [
    "predict_fn = nt.predict.gradient_descent_mse_ensemble(kernel_fn, x_train,\n",
    "                                                        y_train, diag_reg=1e-4)"
   ]
  },
  {
   "cell_type": "code",
   "execution_count": null,
   "metadata": {
    "ExecuteTime": {
     "end_time": "2020-07-05T20:00:59.657030Z",
     "start_time": "2020-07-05T20:00:59.271771Z"
    }
   },
   "outputs": [],
   "source": [
    "fx_test_nngp, fx_test_ntk = predict_fn(x_test=x_test)\n",
    "fx_test_nngp.block_until_ready()\n",
    "fx_test_ntk.block_until_ready()"
   ]
  },
  {
   "cell_type": "code",
   "execution_count": null,
   "metadata": {
    "ExecuteTime": {
     "end_time": "2020-07-05T20:01:02.050031Z",
     "start_time": "2020-07-05T20:01:02.025258Z"
    }
   },
   "outputs": [],
   "source": [
    "loss = lambda fx, y_hat: 0.5 * np.mean((fx - y_hat) ** 2)\n",
    "print_summary('NNGP test', y_test, fx_test_nngp, None, loss)\n",
    "print_summary('NTK test', y_test, fx_test_ntk, None, loss)"
   ]
  },
  {
   "cell_type": "code",
   "execution_count": null,
   "metadata": {
    "ExecuteTime": {
     "end_time": "2020-07-05T19:42:52.722884Z",
     "start_time": "2020-07-05T19:42:52.701037Z"
    }
   },
   "outputs": [],
   "source": [
    "init_fn, apply_fn, kernel_fn = stax.serial(\n",
    "    stax.Dense(256, W_std=1.5, b_std=0.05),\n",
    "    stax.Relu(),\n",
    "    stax.Dense(2, W_std=1., b_std=0.05)\n",
    ")\n",
    "\n",
    "key = random.PRNGKey(10)\n",
    "\n",
    "apply_fn = jit(apply_fn)\n",
    "kernel_fn = jit(kernel_fn, static_argnums=(2,))"
   ]
  },
  {
   "cell_type": "code",
   "execution_count": null,
   "metadata": {
    "ExecuteTime": {
     "end_time": "2020-07-05T19:45:34.768020Z",
     "start_time": "2020-07-05T19:45:34.744820Z"
    }
   },
   "outputs": [],
   "source": [
    "ntk_train_train = kernel_fn(x_train, x_train, 'ntk')\n",
    "ntk_test_train = kernel_fn(x_test, x_train, 'ntk')"
   ]
  },
  {
   "cell_type": "code",
   "execution_count": null,
   "metadata": {
    "ExecuteTime": {
     "end_time": "2020-07-05T19:45:37.542476Z",
     "start_time": "2020-07-05T19:45:37.521655Z"
    }
   },
   "outputs": [],
   "source": [
    "cross_entropy = lambda fx, y_hat: -np.mean(ostax.logsoftmax(fx) * y_hat)\n",
    "cp = jit(cross_entropy)\n",
    "predict_fn = nt.predict.gradient_descent(cp, ntk_train_train, y_train)"
   ]
  },
  {
   "cell_type": "code",
   "execution_count": null,
   "metadata": {
    "ExecuteTime": {
     "end_time": "2020-07-05T19:49:33.314399Z",
     "start_time": "2020-07-05T19:49:33.291667Z"
    }
   },
   "outputs": [],
   "source": [
    "_, params = init_fn(random.PRNGKey(1), x_train.shape)\n",
    "\n",
    "fx_train_initial = apply_fn(params, x_train)\n",
    "fx_test_initial = apply_fn(params, x_test)"
   ]
  },
  {
   "cell_type": "code",
   "execution_count": null,
   "metadata": {
    "ExecuteTime": {
     "end_time": "2020-07-05T19:49:34.584651Z",
     "start_time": "2020-07-05T19:49:33.726795Z"
    }
   },
   "outputs": [],
   "source": [
    "fx_train_t, fx_test_t = predict_fn(1, fx_train_initial, fx_test_initial, ntk_test_train)"
   ]
  },
  {
   "cell_type": "code",
   "execution_count": null,
   "metadata": {
    "ExecuteTime": {
     "end_time": "2020-07-05T19:49:35.243177Z",
     "start_time": "2020-07-05T19:49:35.226488Z"
    }
   },
   "outputs": [],
   "source": [
    "fx_train_t.block_until_ready()\n",
    "fx_test_t.block_until_ready()"
   ]
  },
  {
   "cell_type": "code",
   "execution_count": null,
   "metadata": {
    "ExecuteTime": {
     "end_time": "2020-07-05T19:49:36.420514Z",
     "start_time": "2020-07-05T19:49:36.393258Z"
    }
   },
   "outputs": [],
   "source": [
    "print_summary('NTK Train', y_train, fx_train_t, None, cp)\n",
    "print_summary('NTK Test', y_test, fx_test_t, None, cp)"
   ]
  },
  {
   "cell_type": "code",
   "execution_count": null,
   "metadata": {
    "ExecuteTime": {
     "end_time": "2020-07-05T19:51:10.393786Z",
     "start_time": "2020-07-05T19:51:09.536434Z"
    }
   },
   "outputs": [],
   "source": [
    "x_train, y_train, x_test, y_test = None, None, None, None\n",
    "with torch.no_grad():\n",
    "    for x, y in learn.data.train_dl:\n",
    "        if x_train is None:\n",
    "            x_train = x.detach().cpu().numpy()\n",
    "            y_train = _one_hot(y.detach().cpu().numpy(), 2)\n",
    "        else:\n",
    "            x_train = np.concatenate((x_train, x.detach().cpu().numpy()))\n",
    "            y_train = np.concatenate((y_train, _one_hot(y.detach().cpu().numpy(), 2)))\n",
    "            \n",
    "    for x, y in learn.data.valid_dl:\n",
    "        if x_test is None:\n",
    "            x_test = x.detach().cpu().numpy()\n",
    "            y_test = _one_hot(y.detach().cpu().numpy(), 2)\n",
    "        else:\n",
    "            x_test = np.concatenate((x_test, x.detach().cpu().numpy()))\n",
    "            y_test = np.concatenate((y_test, _one_hot(y.detach().cpu().numpy(), 2)))"
   ]
  },
  {
   "cell_type": "code",
   "execution_count": null,
   "metadata": {
    "ExecuteTime": {
     "end_time": "2020-07-05T19:51:10.864545Z",
     "start_time": "2020-07-05T19:51:10.843076Z"
    }
   },
   "outputs": [],
   "source": [
    "x_train.shape"
   ]
  },
  {
   "cell_type": "code",
   "execution_count": null,
   "metadata": {
    "ExecuteTime": {
     "end_time": "2020-07-05T19:54:36.453492Z",
     "start_time": "2020-07-05T19:54:36.428663Z"
    }
   },
   "outputs": [],
   "source": [
    "stax.Conv1d  = functools.partial(stax.GeneralConv, ('NWC', 'WIO', 'NWC'))\n",
    "def WideResnet(block_size, k, num_classes):\n",
    "    return stax.serial(\n",
    "      stax.Conv1d(64, (7,)),\n",
    "      stax.Relu(),\n",
    "      stax.Conv1d(64, (5,)),\n",
    "      stax.Relu(),\n",
    "      stax.Conv1d(64, (3,)),\n",
    "      stax.Relu(),\n",
    "      #stax.AvgPool((2,)),\n",
    "      stax.Flatten(),\n",
    "      stax.Dense(128, 1., 0.),\n",
    "      stax.Relu(),\n",
    "      stax.Dense(num_classes, 1., 0.))\n",
    "\n",
    "init_fn, apply_fn, kernel_fn = WideResnet(block_size=4, k=1, num_classes=2)\n",
    "apply_fn = jit(apply_fn)\n",
    "kernel_fn = jit(kernel_fn, static_argnums=(2,))"
   ]
  },
  {
   "cell_type": "code",
   "execution_count": null,
   "metadata": {
    "ExecuteTime": {
     "end_time": "2020-07-05T19:54:37.781064Z",
     "start_time": "2020-07-05T19:54:37.761426Z"
    }
   },
   "outputs": [],
   "source": [
    "kernel_fn = nt.batch(kernel_fn,\n",
    "                       device_count=0,\n",
    "                       batch_size=0)"
   ]
  },
  {
   "cell_type": "code",
   "execution_count": null,
   "metadata": {
    "ExecuteTime": {
     "end_time": "2020-07-05T19:54:38.733107Z",
     "start_time": "2020-07-05T19:54:38.713850Z"
    }
   },
   "outputs": [],
   "source": [
    "predict_fn = nt.predict.gradient_descent_mse_ensemble(kernel_fn, x_train,\n",
    "                                                        y_train, diag_reg=1e-3)"
   ]
  },
  {
   "cell_type": "code",
   "execution_count": null,
   "metadata": {
    "ExecuteTime": {
     "end_time": "2020-07-05T19:54:39.965162Z",
     "start_time": "2020-07-05T19:54:39.635929Z"
    }
   },
   "outputs": [],
   "source": [
    "fx_test_nngp, fx_test_ntk = predict_fn(x_test=x_test)\n",
    "fx_test_nngp.block_until_ready()\n",
    "fx_test_ntk.block_until_ready()"
   ]
  },
  {
   "cell_type": "code",
   "execution_count": null,
   "metadata": {
    "ExecuteTime": {
     "end_time": "2020-07-05T19:54:43.705376Z",
     "start_time": "2020-07-05T19:54:43.679610Z"
    }
   },
   "outputs": [],
   "source": [
    "loss = lambda fx, y_hat: 0.5 * np.mean((fx - y_hat) ** 2)\n",
    "print_summary('NNGP test', y_test, fx_test_nngp, None, loss)\n",
    "print_summary('NTK test', y_test, fx_test_ntk, None, loss)"
   ]
  },
  {
   "cell_type": "code",
   "execution_count": null,
   "metadata": {
    "ExecuteTime": {
     "end_time": "2020-07-05T15:00:24.542340Z",
     "start_time": "2020-07-05T15:00:24.516680Z"
    }
   },
   "outputs": [],
   "source": [
    "stax.AvgPool?"
   ]
  },
  {
   "cell_type": "code",
   "execution_count": null,
   "metadata": {},
   "outputs": [],
   "source": []
  }
 ],
 "metadata": {
  "hide_input": false,
  "kernelspec": {
   "display_name": "Python 3",
   "language": "python",
   "name": "python3"
  },
  "language_info": {
   "codemirror_mode": {
    "name": "ipython",
    "version": 3
   },
   "file_extension": ".py",
   "mimetype": "text/x-python",
   "name": "python",
   "nbconvert_exporter": "python",
   "pygments_lexer": "ipython3",
   "version": "3.7.7"
  },
  "latex_envs": {
   "LaTeX_envs_menu_present": true,
   "autoclose": false,
   "autocomplete": true,
   "bibliofile": "biblio.bib",
   "cite_by": "apalike",
   "current_citInitial": 1,
   "eqLabelWithNumbers": true,
   "eqNumInitial": 1,
   "hotkeys": {
    "equation": "Ctrl-E",
    "itemize": "Ctrl-I"
   },
   "labels_anchors": false,
   "latex_user_defs": false,
   "report_style_numbering": false,
   "user_envs_cfg": false
  },
  "toc": {
   "base_numbering": 1,
   "nav_menu": {},
   "number_sections": true,
   "sideBar": true,
   "skip_h1_title": false,
   "title_cell": "Table of Contents",
   "title_sidebar": "Contents",
   "toc_cell": false,
   "toc_position": {},
   "toc_section_display": true,
   "toc_window_display": false
  },
  "varInspector": {
   "cols": {
    "lenName": 16,
    "lenType": 16,
    "lenVar": 40
   },
   "kernels_config": {
    "python": {
     "delete_cmd_postfix": "",
     "delete_cmd_prefix": "del ",
     "library": "var_list.py",
     "varRefreshCmd": "print(var_dic_list())"
    },
    "r": {
     "delete_cmd_postfix": ") ",
     "delete_cmd_prefix": "rm(",
     "library": "var_list.r",
     "varRefreshCmd": "cat(var_dic_list()) "
    }
   },
   "types_to_exclude": [
    "module",
    "function",
    "builtin_function_or_method",
    "instance",
    "_Feature"
   ],
   "window_display": false
  }
 },
 "nbformat": 4,
 "nbformat_minor": 2
}
