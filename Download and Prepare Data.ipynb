{
 "cells": [
  {
   "cell_type": "code",
   "execution_count": 1,
   "metadata": {
    "ExecuteTime": {
     "end_time": "2020-01-11T17:39:29.376412Z",
     "start_time": "2020-01-11T17:37:54.952462Z"
    }
   },
   "outputs": [
    {
     "name": "stdout",
     "output_type": "stream",
     "text": [
      "Cloning into 'Clinical-Brain-Computer-Interfaces-Challenge-WCCI-2020-Glasgow'...\n",
      "remote: Enumerating objects: 28, done.\u001b[K\n",
      "remote: Counting objects: 100% (28/28), done.\u001b[K\n",
      "remote: Compressing objects: 100% (26/26), done.\u001b[K\n",
      "remote: Total 28 (delta 2), reused 0 (delta 0), pack-reused 0\u001b[K\n",
      "Unpacking objects: 100% (28/28), done.\n",
      "Checking out files: 100% (19/19), done.\n"
     ]
    }
   ],
   "source": [
    "!git clone https://github.com/5anirban9/Clinical-Brain-Computer-Interfaces-Challenge-WCCI-2020-Glasgow"
   ]
  },
  {
   "cell_type": "code",
   "execution_count": 2,
   "metadata": {
    "ExecuteTime": {
     "end_time": "2020-01-11T17:39:38.590800Z",
     "start_time": "2020-01-11T17:39:38.474036Z"
    }
   },
   "outputs": [],
   "source": [
    "!mkdir data"
   ]
  },
  {
   "cell_type": "code",
   "execution_count": 33,
   "metadata": {
    "ExecuteTime": {
     "end_time": "2020-01-11T18:39:34.869011Z",
     "start_time": "2020-01-11T18:39:34.862141Z"
    }
   },
   "outputs": [],
   "source": [
    "from scipy.io import loadmat\n",
    "from pathlib import Path\n",
    "import numpy as np"
   ]
  },
  {
   "cell_type": "code",
   "execution_count": 7,
   "metadata": {
    "ExecuteTime": {
     "end_time": "2020-01-11T17:42:06.739797Z",
     "start_time": "2020-01-11T17:42:06.737398Z"
    }
   },
   "outputs": [],
   "source": [
    "Path.ls = lambda x: list(x.iterdir())"
   ]
  },
  {
   "cell_type": "code",
   "execution_count": 9,
   "metadata": {
    "ExecuteTime": {
     "end_time": "2020-01-11T17:42:38.308984Z",
     "start_time": "2020-01-11T17:42:38.304989Z"
    }
   },
   "outputs": [
    {
     "data": {
      "text/plain": [
       "[PosixPath('Clinical-Brain-Computer-Interfaces-Challenge-WCCI-2020-Glasgow/parsed_P08T.mat'),\n",
       " PosixPath('Clinical-Brain-Computer-Interfaces-Challenge-WCCI-2020-Glasgow/parsed_P07E.mat'),\n",
       " PosixPath('Clinical-Brain-Computer-Interfaces-Challenge-WCCI-2020-Glasgow/parsed_P04T.mat'),\n",
       " PosixPath('Clinical-Brain-Computer-Interfaces-Challenge-WCCI-2020-Glasgow/parsed_P01T.mat'),\n",
       " PosixPath('Clinical-Brain-Computer-Interfaces-Challenge-WCCI-2020-Glasgow/parsed_P02E.mat'),\n",
       " PosixPath('Clinical-Brain-Computer-Interfaces-Challenge-WCCI-2020-Glasgow/parsed_P03T.mat'),\n",
       " PosixPath('Clinical-Brain-Computer-Interfaces-Challenge-WCCI-2020-Glasgow/parsed_P05T.mat'),\n",
       " PosixPath('Clinical-Brain-Computer-Interfaces-Challenge-WCCI-2020-Glasgow/parsed_P01E.mat'),\n",
       " PosixPath('Clinical-Brain-Computer-Interfaces-Challenge-WCCI-2020-Glasgow/parsed_P04E.mat'),\n",
       " PosixPath('Clinical-Brain-Computer-Interfaces-Challenge-WCCI-2020-Glasgow/parsed_P07T.mat'),\n",
       " PosixPath('Clinical-Brain-Computer-Interfaces-Challenge-WCCI-2020-Glasgow/parsed_P02T.mat'),\n",
       " PosixPath('Clinical-Brain-Computer-Interfaces-Challenge-WCCI-2020-Glasgow/parsed_P06T.mat'),\n",
       " PosixPath('Clinical-Brain-Computer-Interfaces-Challenge-WCCI-2020-Glasgow/.git'),\n",
       " PosixPath('Clinical-Brain-Computer-Interfaces-Challenge-WCCI-2020-Glasgow/parsed_P08E.mat'),\n",
       " PosixPath('Clinical-Brain-Computer-Interfaces-Challenge-WCCI-2020-Glasgow/parsed_P06E.mat'),\n",
       " PosixPath('Clinical-Brain-Computer-Interfaces-Challenge-WCCI-2020-Glasgow/parsed_P09E.mat'),\n",
       " PosixPath('Clinical-Brain-Computer-Interfaces-Challenge-WCCI-2020-Glasgow/parsed_P05E.mat'),\n",
       " PosixPath('Clinical-Brain-Computer-Interfaces-Challenge-WCCI-2020-Glasgow/parsed_P10E.mat'),\n",
       " PosixPath('Clinical-Brain-Computer-Interfaces-Challenge-WCCI-2020-Glasgow/parsed_P03E.mat'),\n",
       " PosixPath('Clinical-Brain-Computer-Interfaces-Challenge-WCCI-2020-Glasgow/README.md')]"
      ]
     },
     "execution_count": 9,
     "metadata": {},
     "output_type": "execute_result"
    }
   ],
   "source": [
    "files = Path(\"Clinical-Brain-Computer-Interfaces-Challenge-WCCI-2020-Glasgow\").ls()\n",
    "files"
   ]
  },
  {
   "cell_type": "code",
   "execution_count": 91,
   "metadata": {
    "ExecuteTime": {
     "end_time": "2020-01-11T19:07:06.437289Z",
     "start_time": "2020-01-11T19:07:06.264313Z"
    }
   },
   "outputs": [],
   "source": [
    "annots = loadmat(files[11])"
   ]
  },
  {
   "cell_type": "code",
   "execution_count": 92,
   "metadata": {
    "ExecuteTime": {
     "end_time": "2020-01-11T19:07:17.533442Z",
     "start_time": "2020-01-11T19:07:17.515269Z"
    }
   },
   "outputs": [
    {
     "data": {
      "text/plain": [
       "{'__header__': b'MATLAB 5.0 MAT-file, Platform: PCWIN64, Created on: Tue Dec  3 12:05:55 2019',\n",
       " '__version__': '1.0',\n",
       " '__globals__': [],\n",
       " 'Labels': array([[1],\n",
       "        [1],\n",
       "        [1],\n",
       "        [1],\n",
       "        [1],\n",
       "        [1],\n",
       "        [1],\n",
       "        [1],\n",
       "        [1],\n",
       "        [1],\n",
       "        [1],\n",
       "        [1],\n",
       "        [1],\n",
       "        [1],\n",
       "        [1],\n",
       "        [1],\n",
       "        [1],\n",
       "        [1],\n",
       "        [1],\n",
       "        [1],\n",
       "        [2],\n",
       "        [2],\n",
       "        [2],\n",
       "        [2],\n",
       "        [2],\n",
       "        [2],\n",
       "        [2],\n",
       "        [2],\n",
       "        [2],\n",
       "        [2],\n",
       "        [2],\n",
       "        [2],\n",
       "        [2],\n",
       "        [2],\n",
       "        [2],\n",
       "        [2],\n",
       "        [2],\n",
       "        [2],\n",
       "        [2],\n",
       "        [2],\n",
       "        [2],\n",
       "        [2],\n",
       "        [2],\n",
       "        [2],\n",
       "        [2],\n",
       "        [2],\n",
       "        [2],\n",
       "        [2],\n",
       "        [2],\n",
       "        [2],\n",
       "        [1],\n",
       "        [1],\n",
       "        [1],\n",
       "        [1],\n",
       "        [1],\n",
       "        [1],\n",
       "        [1],\n",
       "        [1],\n",
       "        [1],\n",
       "        [1],\n",
       "        [2],\n",
       "        [2],\n",
       "        [2],\n",
       "        [2],\n",
       "        [2],\n",
       "        [2],\n",
       "        [2],\n",
       "        [2],\n",
       "        [2],\n",
       "        [2],\n",
       "        [1],\n",
       "        [1],\n",
       "        [1],\n",
       "        [1],\n",
       "        [1],\n",
       "        [1],\n",
       "        [1],\n",
       "        [1],\n",
       "        [1],\n",
       "        [1]], dtype=uint8),\n",
       " 'RawEEGData': array([[[ 3.14936104e+01,  7.38849878e+00, -5.38312302e+01, ...,\n",
       "          -6.59247055e+01, -1.41130190e+01,  4.83338165e+01],\n",
       "         [ 4.63751488e+01,  3.13634300e+01, -2.19506779e+01, ...,\n",
       "          -5.77442703e+01,  4.02420664e+00,  7.15842056e+01],\n",
       "         [ 4.50778046e+01,  2.75810986e+01, -2.50694447e+01, ...,\n",
       "          -5.53471375e+01,  4.16370583e+00,  6.80867004e+01],\n",
       "         ...,\n",
       "         [ 4.38305893e+01,  2.77377510e+01, -2.92767010e+01, ...,\n",
       "          -5.54786873e+01, -4.82076788e+00,  5.77844887e+01],\n",
       "         [ 4.81437912e+01,  2.67049389e+01, -3.55807533e+01, ...,\n",
       "          -6.02007332e+01, -1.72994721e+00,  6.65657272e+01],\n",
       "         [ 3.63740425e+01,  2.29192486e+01, -2.73792496e+01, ...,\n",
       "          -5.89686584e+01, -8.32127476e+00,  5.06520233e+01]],\n",
       " \n",
       "        [[-5.58071175e+01, -3.98489876e+01,  1.72857456e+01, ...,\n",
       "           6.35778275e+01,  4.66073494e+01, -1.53541946e+01],\n",
       "         [-6.79699326e+01, -3.94927139e+01,  3.97512856e+01, ...,\n",
       "           5.73856850e+01,  1.73152618e+01, -4.88274727e+01],\n",
       "         [-5.77464256e+01, -2.68578320e+01,  4.65915985e+01, ...,\n",
       "           5.82135124e+01,  2.00439167e+01, -4.27805519e+01],\n",
       "         ...,\n",
       "         [-5.44887428e+01, -3.11559792e+01,  3.86349640e+01, ...,\n",
       "           6.42589722e+01,  2.91628113e+01, -3.80768280e+01],\n",
       "         [-5.90975571e+01, -3.12913055e+01,  4.55268822e+01, ...,\n",
       "           6.60464859e+01,  2.57193394e+01, -4.61719856e+01],\n",
       "         [-5.69322052e+01, -3.72657242e+01,  2.78805695e+01, ...,\n",
       "           6.26349487e+01,  2.55311871e+01, -3.55317612e+01]],\n",
       " \n",
       "        [[ 3.78737602e+01,  5.52614441e+01, -9.55259800e+00, ...,\n",
       "          -5.81716576e+01, -3.83070145e+01,  4.06392593e+01],\n",
       "         [ 3.94925690e+01,  6.38182640e+01,  6.84717223e-02, ...,\n",
       "          -3.82189980e+01, -4.80095901e+01,  5.27654028e+00],\n",
       "         [ 3.10181293e+01,  5.37675171e+01, -5.67234755e+00, ...,\n",
       "          -3.94883690e+01, -4.07231903e+01,  1.51295557e+01],\n",
       "         ...,\n",
       "         [ 2.85055847e+01,  5.94735298e+01,  3.98379779e+00, ...,\n",
       "          -4.41574059e+01, -4.69700546e+01,  9.30716515e+00],\n",
       "         [ 3.37688065e+01,  6.22775650e+01, -1.06249559e+00, ...,\n",
       "          -4.49532013e+01, -4.75933380e+01,  1.34861670e+01],\n",
       "         [ 4.62629547e+01,  5.71178474e+01, -1.15904655e+01, ...,\n",
       "          -4.29958038e+01, -4.61638908e+01,  6.14672470e+00]],\n",
       " \n",
       "        ...,\n",
       " \n",
       "        [[-4.48360367e+01, -1.24462881e+01,  4.93051224e+01, ...,\n",
       "           4.76177292e+01,  2.20409369e+00, -5.18670235e+01],\n",
       "         [-5.16463890e+01, -3.84766197e+01,  2.81685829e+01, ...,\n",
       "           6.69130478e+01,  1.81257095e+01, -5.01890144e+01],\n",
       "         [-4.85635262e+01, -3.17619534e+01,  3.15347214e+01, ...,\n",
       "           5.77199631e+01,  1.15248957e+01, -4.86967926e+01],\n",
       "         ...,\n",
       "         [-4.51049156e+01, -3.62512627e+01,  2.24958324e+01, ...,\n",
       "           5.79434738e+01,  1.47729330e+01, -4.92583160e+01],\n",
       "         [-5.32251587e+01, -3.96645393e+01,  2.62721138e+01, ...,\n",
       "           6.12892418e+01,  1.20786304e+01, -5.60213890e+01],\n",
       "         [-4.21412849e+01, -3.55774422e+01,  2.37438316e+01, ...,\n",
       "           3.17842789e+01, -1.00494976e+01, -6.16724968e+01]],\n",
       " \n",
       "        [[-5.11551476e+01, -4.37134514e+01,  1.09141693e+01, ...,\n",
       "           3.88983269e+01,  4.35180712e+00, -3.60308723e+01],\n",
       "         [-5.07470741e+01, -4.78207321e+01,  9.94451904e+00, ...,\n",
       "           4.77921944e+01, -1.84862339e+00, -6.19850121e+01],\n",
       "         [-5.01485939e+01, -4.81320000e+01,  9.60906410e+00, ...,\n",
       "           4.29932518e+01, -1.26976609e+00, -5.51626434e+01],\n",
       "         ...,\n",
       "         [-3.53745346e+01, -4.20951843e+01,  9.92051220e+00, ...,\n",
       "           3.92047615e+01,  1.22485673e+00, -5.15616646e+01],\n",
       "         [-4.38155861e+01, -4.89327545e+01,  1.19383001e+01, ...,\n",
       "           4.25452614e+01, -5.37531567e+00, -6.40365295e+01],\n",
       "         [-4.72622414e+01, -4.87452469e+01,  3.97113132e+00, ...,\n",
       "           3.69064560e+01, -3.62760735e+00, -4.85517159e+01]],\n",
       " \n",
       "        [[ 7.82618103e+01, -1.77596111e+01, -7.24980698e+01, ...,\n",
       "           3.10528927e+01,  6.90761185e+01,  3.15758438e+01],\n",
       "         [ 4.48657837e+01, -4.32546730e+01, -7.68304672e+01, ...,\n",
       "           1.92048836e+01,  6.21351166e+01,  3.86884689e+01],\n",
       "         [ 4.95036201e+01, -3.20171623e+01, -6.75706863e+01, ...,\n",
       "           1.59584131e+01,  5.41318321e+01,  3.01245785e+01],\n",
       "         ...,\n",
       "         [ 6.50892868e+01, -1.52016640e+01, -6.04621506e+01, ...,\n",
       "           1.09856129e+01,  5.05971375e+01,  3.31514854e+01],\n",
       "         [ 6.86938019e+01, -2.35827007e+01, -7.08951111e+01, ...,\n",
       "           1.34566813e+01,  5.87993126e+01,  3.77337379e+01],\n",
       "         [ 6.16952553e+01, -1.66403732e+01, -5.74056892e+01, ...,\n",
       "           1.88617573e+01,  5.42273369e+01,  3.99313164e+01]]]),\n",
       " 'cueAt': array([[3]], dtype=uint8),\n",
       " 'sampRate': array([[512]], dtype=uint16)}"
      ]
     },
     "execution_count": 92,
     "metadata": {},
     "output_type": "execute_result"
    }
   ],
   "source": [
    "annots"
   ]
  },
  {
   "cell_type": "code",
   "execution_count": 93,
   "metadata": {
    "ExecuteTime": {
     "end_time": "2020-01-11T19:07:28.975494Z",
     "start_time": "2020-01-11T19:07:28.971496Z"
    }
   },
   "outputs": [
    {
     "data": {
      "text/plain": [
       "dict_keys(['__header__', '__version__', '__globals__', 'Labels', 'RawEEGData', 'cueAt', 'sampRate'])"
      ]
     },
     "execution_count": 93,
     "metadata": {},
     "output_type": "execute_result"
    }
   ],
   "source": [
    "annots.keys()"
   ]
  },
  {
   "cell_type": "code",
   "execution_count": 94,
   "metadata": {
    "ExecuteTime": {
     "end_time": "2020-01-11T19:07:39.198821Z",
     "start_time": "2020-01-11T19:07:39.196107Z"
    }
   },
   "outputs": [
    {
     "data": {
      "text/plain": [
       "(80, 12, 4096)"
      ]
     },
     "execution_count": 94,
     "metadata": {},
     "output_type": "execute_result"
    }
   ],
   "source": [
    "annots['RawEEGData'].shape"
   ]
  },
  {
   "cell_type": "code",
   "execution_count": 29,
   "metadata": {
    "ExecuteTime": {
     "end_time": "2020-01-11T17:55:18.563453Z",
     "start_time": "2020-01-11T17:55:18.559595Z"
    }
   },
   "outputs": [
    {
     "data": {
      "text/plain": [
       "(80, 1)"
      ]
     },
     "execution_count": 29,
     "metadata": {},
     "output_type": "execute_result"
    }
   ],
   "source": [
    "annots['Labels'].shape"
   ]
  },
  {
   "cell_type": "code",
   "execution_count": 31,
   "metadata": {
    "ExecuteTime": {
     "end_time": "2020-01-11T17:58:05.311114Z",
     "start_time": "2020-01-11T17:58:05.306937Z"
    }
   },
   "outputs": [
    {
     "data": {
      "text/plain": [
       "(12, 4096)"
      ]
     },
     "execution_count": 31,
     "metadata": {},
     "output_type": "execute_result"
    }
   ],
   "source": [
    "annots['RawEEGData'][0].shape"
   ]
  },
  {
   "cell_type": "code",
   "execution_count": 45,
   "metadata": {
    "ExecuteTime": {
     "end_time": "2020-01-11T18:41:09.019274Z",
     "start_time": "2020-01-11T18:41:09.011202Z"
    }
   },
   "outputs": [
    {
     "data": {
      "text/plain": [
       "array([2, 2, 2, 2, 2, 2, 2, 2, 2, 2, 1, 1, 1, 1, 1, 1, 1, 1, 1, 1, 2, 2,\n",
       "       2, 2, 2, 2, 2, 2, 2, 2, 1, 1, 1, 1, 1, 1, 1, 1, 1, 1, 2, 2, 2, 2,\n",
       "       2, 2, 2, 2, 2, 2, 1, 1, 1, 1, 1, 1, 1, 1, 1, 1, 2, 2, 2, 2, 2, 2,\n",
       "       2, 2, 2, 2, 1, 1, 1, 1, 1, 1, 1, 1, 1, 1], dtype=uint8)"
      ]
     },
     "execution_count": 45,
     "metadata": {},
     "output_type": "execute_result"
    }
   ],
   "source": [
    "np.stack(annots['Labels'],axis=1)[0]"
   ]
  },
  {
   "cell_type": "code",
   "execution_count": 107,
   "metadata": {
    "ExecuteTime": {
     "end_time": "2020-01-11T19:13:20.905310Z",
     "start_time": "2020-01-11T19:13:13.445727Z"
    }
   },
   "outputs": [],
   "source": [
    "x_train, y_train = [], []\n",
    "x_test = []\n",
    "test_name = []\n",
    "for f in files:\n",
    "    if \"T.mat\" in str(f):\n",
    "        annots = loadmat(f)\n",
    "        x_train += annots['RawEEGData'].tolist()\n",
    "        y_train += np.stack(annots['Labels'],axis=1)[0].tolist()\n",
    "    elif \"E.mat\" in str(f):\n",
    "        annots = loadmat(f)\n",
    "        x_test += annots['RawEEGData'].tolist()\n",
    "        test_name += [f.stem.split('_')[-1].split('E')[0]] * 40"
   ]
  },
  {
   "cell_type": "code",
   "execution_count": 108,
   "metadata": {
    "ExecuteTime": {
     "end_time": "2020-01-11T19:14:29.207421Z",
     "start_time": "2020-01-11T19:14:29.176664Z"
    }
   },
   "outputs": [
    {
     "data": {
      "text/plain": [
       "['P07',\n",
       " 'P07',\n",
       " 'P07',\n",
       " 'P07',\n",
       " 'P07',\n",
       " 'P07',\n",
       " 'P07',\n",
       " 'P07',\n",
       " 'P07',\n",
       " 'P07',\n",
       " 'P07',\n",
       " 'P07',\n",
       " 'P07',\n",
       " 'P07',\n",
       " 'P07',\n",
       " 'P07',\n",
       " 'P07',\n",
       " 'P07',\n",
       " 'P07',\n",
       " 'P07',\n",
       " 'P07',\n",
       " 'P07',\n",
       " 'P07',\n",
       " 'P07',\n",
       " 'P07',\n",
       " 'P07',\n",
       " 'P07',\n",
       " 'P07',\n",
       " 'P07',\n",
       " 'P07',\n",
       " 'P07',\n",
       " 'P07',\n",
       " 'P07',\n",
       " 'P07',\n",
       " 'P07',\n",
       " 'P07',\n",
       " 'P07',\n",
       " 'P07',\n",
       " 'P07',\n",
       " 'P07',\n",
       " 'P02',\n",
       " 'P02',\n",
       " 'P02',\n",
       " 'P02',\n",
       " 'P02',\n",
       " 'P02',\n",
       " 'P02',\n",
       " 'P02',\n",
       " 'P02',\n",
       " 'P02',\n",
       " 'P02',\n",
       " 'P02',\n",
       " 'P02',\n",
       " 'P02',\n",
       " 'P02',\n",
       " 'P02',\n",
       " 'P02',\n",
       " 'P02',\n",
       " 'P02',\n",
       " 'P02',\n",
       " 'P02',\n",
       " 'P02',\n",
       " 'P02',\n",
       " 'P02',\n",
       " 'P02',\n",
       " 'P02',\n",
       " 'P02',\n",
       " 'P02',\n",
       " 'P02',\n",
       " 'P02',\n",
       " 'P02',\n",
       " 'P02',\n",
       " 'P02',\n",
       " 'P02',\n",
       " 'P02',\n",
       " 'P02',\n",
       " 'P02',\n",
       " 'P02',\n",
       " 'P02',\n",
       " 'P02',\n",
       " 'P01',\n",
       " 'P01',\n",
       " 'P01',\n",
       " 'P01',\n",
       " 'P01',\n",
       " 'P01',\n",
       " 'P01',\n",
       " 'P01',\n",
       " 'P01',\n",
       " 'P01',\n",
       " 'P01',\n",
       " 'P01',\n",
       " 'P01',\n",
       " 'P01',\n",
       " 'P01',\n",
       " 'P01',\n",
       " 'P01',\n",
       " 'P01',\n",
       " 'P01',\n",
       " 'P01',\n",
       " 'P01',\n",
       " 'P01',\n",
       " 'P01',\n",
       " 'P01',\n",
       " 'P01',\n",
       " 'P01',\n",
       " 'P01',\n",
       " 'P01',\n",
       " 'P01',\n",
       " 'P01',\n",
       " 'P01',\n",
       " 'P01',\n",
       " 'P01',\n",
       " 'P01',\n",
       " 'P01',\n",
       " 'P01',\n",
       " 'P01',\n",
       " 'P01',\n",
       " 'P01',\n",
       " 'P01',\n",
       " 'P04',\n",
       " 'P04',\n",
       " 'P04',\n",
       " 'P04',\n",
       " 'P04',\n",
       " 'P04',\n",
       " 'P04',\n",
       " 'P04',\n",
       " 'P04',\n",
       " 'P04',\n",
       " 'P04',\n",
       " 'P04',\n",
       " 'P04',\n",
       " 'P04',\n",
       " 'P04',\n",
       " 'P04',\n",
       " 'P04',\n",
       " 'P04',\n",
       " 'P04',\n",
       " 'P04',\n",
       " 'P04',\n",
       " 'P04',\n",
       " 'P04',\n",
       " 'P04',\n",
       " 'P04',\n",
       " 'P04',\n",
       " 'P04',\n",
       " 'P04',\n",
       " 'P04',\n",
       " 'P04',\n",
       " 'P04',\n",
       " 'P04',\n",
       " 'P04',\n",
       " 'P04',\n",
       " 'P04',\n",
       " 'P04',\n",
       " 'P04',\n",
       " 'P04',\n",
       " 'P04',\n",
       " 'P04',\n",
       " 'P08',\n",
       " 'P08',\n",
       " 'P08',\n",
       " 'P08',\n",
       " 'P08',\n",
       " 'P08',\n",
       " 'P08',\n",
       " 'P08',\n",
       " 'P08',\n",
       " 'P08',\n",
       " 'P08',\n",
       " 'P08',\n",
       " 'P08',\n",
       " 'P08',\n",
       " 'P08',\n",
       " 'P08',\n",
       " 'P08',\n",
       " 'P08',\n",
       " 'P08',\n",
       " 'P08',\n",
       " 'P08',\n",
       " 'P08',\n",
       " 'P08',\n",
       " 'P08',\n",
       " 'P08',\n",
       " 'P08',\n",
       " 'P08',\n",
       " 'P08',\n",
       " 'P08',\n",
       " 'P08',\n",
       " 'P08',\n",
       " 'P08',\n",
       " 'P08',\n",
       " 'P08',\n",
       " 'P08',\n",
       " 'P08',\n",
       " 'P08',\n",
       " 'P08',\n",
       " 'P08',\n",
       " 'P08',\n",
       " 'P06',\n",
       " 'P06',\n",
       " 'P06',\n",
       " 'P06',\n",
       " 'P06',\n",
       " 'P06',\n",
       " 'P06',\n",
       " 'P06',\n",
       " 'P06',\n",
       " 'P06',\n",
       " 'P06',\n",
       " 'P06',\n",
       " 'P06',\n",
       " 'P06',\n",
       " 'P06',\n",
       " 'P06',\n",
       " 'P06',\n",
       " 'P06',\n",
       " 'P06',\n",
       " 'P06',\n",
       " 'P06',\n",
       " 'P06',\n",
       " 'P06',\n",
       " 'P06',\n",
       " 'P06',\n",
       " 'P06',\n",
       " 'P06',\n",
       " 'P06',\n",
       " 'P06',\n",
       " 'P06',\n",
       " 'P06',\n",
       " 'P06',\n",
       " 'P06',\n",
       " 'P06',\n",
       " 'P06',\n",
       " 'P06',\n",
       " 'P06',\n",
       " 'P06',\n",
       " 'P06',\n",
       " 'P06',\n",
       " 'P09',\n",
       " 'P09',\n",
       " 'P09',\n",
       " 'P09',\n",
       " 'P09',\n",
       " 'P09',\n",
       " 'P09',\n",
       " 'P09',\n",
       " 'P09',\n",
       " 'P09',\n",
       " 'P09',\n",
       " 'P09',\n",
       " 'P09',\n",
       " 'P09',\n",
       " 'P09',\n",
       " 'P09',\n",
       " 'P09',\n",
       " 'P09',\n",
       " 'P09',\n",
       " 'P09',\n",
       " 'P09',\n",
       " 'P09',\n",
       " 'P09',\n",
       " 'P09',\n",
       " 'P09',\n",
       " 'P09',\n",
       " 'P09',\n",
       " 'P09',\n",
       " 'P09',\n",
       " 'P09',\n",
       " 'P09',\n",
       " 'P09',\n",
       " 'P09',\n",
       " 'P09',\n",
       " 'P09',\n",
       " 'P09',\n",
       " 'P09',\n",
       " 'P09',\n",
       " 'P09',\n",
       " 'P09',\n",
       " 'P05',\n",
       " 'P05',\n",
       " 'P05',\n",
       " 'P05',\n",
       " 'P05',\n",
       " 'P05',\n",
       " 'P05',\n",
       " 'P05',\n",
       " 'P05',\n",
       " 'P05',\n",
       " 'P05',\n",
       " 'P05',\n",
       " 'P05',\n",
       " 'P05',\n",
       " 'P05',\n",
       " 'P05',\n",
       " 'P05',\n",
       " 'P05',\n",
       " 'P05',\n",
       " 'P05',\n",
       " 'P05',\n",
       " 'P05',\n",
       " 'P05',\n",
       " 'P05',\n",
       " 'P05',\n",
       " 'P05',\n",
       " 'P05',\n",
       " 'P05',\n",
       " 'P05',\n",
       " 'P05',\n",
       " 'P05',\n",
       " 'P05',\n",
       " 'P05',\n",
       " 'P05',\n",
       " 'P05',\n",
       " 'P05',\n",
       " 'P05',\n",
       " 'P05',\n",
       " 'P05',\n",
       " 'P05',\n",
       " 'P10',\n",
       " 'P10',\n",
       " 'P10',\n",
       " 'P10',\n",
       " 'P10',\n",
       " 'P10',\n",
       " 'P10',\n",
       " 'P10',\n",
       " 'P10',\n",
       " 'P10',\n",
       " 'P10',\n",
       " 'P10',\n",
       " 'P10',\n",
       " 'P10',\n",
       " 'P10',\n",
       " 'P10',\n",
       " 'P10',\n",
       " 'P10',\n",
       " 'P10',\n",
       " 'P10',\n",
       " 'P10',\n",
       " 'P10',\n",
       " 'P10',\n",
       " 'P10',\n",
       " 'P10',\n",
       " 'P10',\n",
       " 'P10',\n",
       " 'P10',\n",
       " 'P10',\n",
       " 'P10',\n",
       " 'P10',\n",
       " 'P10',\n",
       " 'P10',\n",
       " 'P10',\n",
       " 'P10',\n",
       " 'P10',\n",
       " 'P10',\n",
       " 'P10',\n",
       " 'P10',\n",
       " 'P10',\n",
       " 'P03',\n",
       " 'P03',\n",
       " 'P03',\n",
       " 'P03',\n",
       " 'P03',\n",
       " 'P03',\n",
       " 'P03',\n",
       " 'P03',\n",
       " 'P03',\n",
       " 'P03',\n",
       " 'P03',\n",
       " 'P03',\n",
       " 'P03',\n",
       " 'P03',\n",
       " 'P03',\n",
       " 'P03',\n",
       " 'P03',\n",
       " 'P03',\n",
       " 'P03',\n",
       " 'P03',\n",
       " 'P03',\n",
       " 'P03',\n",
       " 'P03',\n",
       " 'P03',\n",
       " 'P03',\n",
       " 'P03',\n",
       " 'P03',\n",
       " 'P03',\n",
       " 'P03',\n",
       " 'P03',\n",
       " 'P03',\n",
       " 'P03',\n",
       " 'P03',\n",
       " 'P03',\n",
       " 'P03',\n",
       " 'P03',\n",
       " 'P03',\n",
       " 'P03',\n",
       " 'P03',\n",
       " 'P03']"
      ]
     },
     "execution_count": 108,
     "metadata": {},
     "output_type": "execute_result"
    }
   ],
   "source": [
    "test_name"
   ]
  },
  {
   "cell_type": "code",
   "execution_count": 109,
   "metadata": {
    "ExecuteTime": {
     "end_time": "2020-01-11T19:15:37.773236Z",
     "start_time": "2020-01-11T19:15:32.335656Z"
    }
   },
   "outputs": [
    {
     "data": {
      "text/plain": [
       "(640, 12, 4096)"
      ]
     },
     "execution_count": 109,
     "metadata": {},
     "output_type": "execute_result"
    }
   ],
   "source": [
    "x_train, y_train, x_test = np.array(x_train), np.array(y_train), np.array(x_test)\n",
    "x_train.shape"
   ]
  },
  {
   "cell_type": "code",
   "execution_count": 110,
   "metadata": {
    "ExecuteTime": {
     "end_time": "2020-01-11T19:15:37.849478Z",
     "start_time": "2020-01-11T19:15:37.832304Z"
    }
   },
   "outputs": [
    {
     "data": {
      "text/plain": [
       "(640,)"
      ]
     },
     "execution_count": 110,
     "metadata": {},
     "output_type": "execute_result"
    }
   ],
   "source": [
    "y_train.shape"
   ]
  },
  {
   "cell_type": "code",
   "execution_count": 111,
   "metadata": {
    "ExecuteTime": {
     "end_time": "2020-01-11T19:15:37.911580Z",
     "start_time": "2020-01-11T19:15:37.907650Z"
    }
   },
   "outputs": [
    {
     "data": {
      "text/plain": [
       "(400, 12, 4096)"
      ]
     },
     "execution_count": 111,
     "metadata": {},
     "output_type": "execute_result"
    }
   ],
   "source": [
    "x_test.shape"
   ]
  },
  {
   "cell_type": "code",
   "execution_count": 112,
   "metadata": {
    "ExecuteTime": {
     "end_time": "2020-01-11T19:15:38.566646Z",
     "start_time": "2020-01-11T19:15:37.975371Z"
    }
   },
   "outputs": [],
   "source": [
    "import pickle\n",
    "pickle.dump((x_train, y_train), open(\"data/train.pkl\", \"wb\"))\n",
    "pickle.dump((test_name, x_test), open(\"data/test.pkl\", \"wb\"))"
   ]
  },
  {
   "cell_type": "code",
   "execution_count": null,
   "metadata": {},
   "outputs": [],
   "source": []
  }
 ],
 "metadata": {
  "hide_input": false,
  "kernelspec": {
   "display_name": "Python 3",
   "language": "python",
   "name": "python3"
  },
  "language_info": {
   "codemirror_mode": {
    "name": "ipython",
    "version": 3
   },
   "file_extension": ".py",
   "mimetype": "text/x-python",
   "name": "python",
   "nbconvert_exporter": "python",
   "pygments_lexer": "ipython3",
   "version": "3.7.7"
  },
  "latex_envs": {
   "LaTeX_envs_menu_present": true,
   "autoclose": false,
   "autocomplete": true,
   "bibliofile": "biblio.bib",
   "cite_by": "apalike",
   "current_citInitial": 1,
   "eqLabelWithNumbers": true,
   "eqNumInitial": 1,
   "hotkeys": {
    "equation": "Ctrl-E",
    "itemize": "Ctrl-I"
   },
   "labels_anchors": false,
   "latex_user_defs": false,
   "report_style_numbering": false,
   "user_envs_cfg": false
  },
  "toc": {
   "base_numbering": 1,
   "nav_menu": {},
   "number_sections": true,
   "sideBar": true,
   "skip_h1_title": false,
   "title_cell": "Table of Contents",
   "title_sidebar": "Contents",
   "toc_cell": false,
   "toc_position": {},
   "toc_section_display": true,
   "toc_window_display": false
  },
  "varInspector": {
   "cols": {
    "lenName": 16,
    "lenType": 16,
    "lenVar": 40
   },
   "kernels_config": {
    "python": {
     "delete_cmd_postfix": "",
     "delete_cmd_prefix": "del ",
     "library": "var_list.py",
     "varRefreshCmd": "print(var_dic_list())"
    },
    "r": {
     "delete_cmd_postfix": ") ",
     "delete_cmd_prefix": "rm(",
     "library": "var_list.r",
     "varRefreshCmd": "cat(var_dic_list()) "
    }
   },
   "types_to_exclude": [
    "module",
    "function",
    "builtin_function_or_method",
    "instance",
    "_Feature"
   ],
   "window_display": false
  }
 },
 "nbformat": 4,
 "nbformat_minor": 2
}
