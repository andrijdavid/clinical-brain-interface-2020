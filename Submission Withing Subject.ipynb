{
 "cells": [
  {
   "cell_type": "code",
   "execution_count": 1,
   "metadata": {
    "ExecuteTime": {
     "end_time": "2020-07-14T13:24:51.728054Z",
     "start_time": "2020-07-14T13:24:51.719366Z"
    }
   },
   "outputs": [],
   "source": [
    "%load_ext autoreload\n",
    "%autoreload 2"
   ]
  },
  {
   "cell_type": "code",
   "execution_count": 2,
   "metadata": {
    "ExecuteTime": {
     "end_time": "2020-07-14T13:24:52.811678Z",
     "start_time": "2020-07-14T13:24:51.729136Z"
    }
   },
   "outputs": [
    {
     "name": "stderr",
     "output_type": "stream",
     "text": [
      "/opt/anaconda/envs/pytorch/lib/python3.7/site-packages/google/colab/data_table.py:30: UserWarning: IPython.utils.traitlets has moved to a top-level traitlets package.\n",
      "  from IPython.utils import traitlets as _traitlets\n"
     ]
    },
    {
     "data": {
      "text/html": [
       "<style>.container { width:100% !important; }</style>"
      ],
      "text/plain": [
       "<IPython.core.display.HTML object>"
      ]
     },
     "metadata": {},
     "output_type": "display_data"
    }
   ],
   "source": [
    "from timeseries import *\n",
    "from models import *\n",
    "import pickle \n",
    "import numpy as np\n",
    "from sklearn.model_selection import train_test_split\n",
    "from fastai.distributed import *\n",
    "import neptune\n",
    "from neptunecontrib.monitoring.fastai import NeptuneMonitor\n",
    "torch.manual_seed(0)\n",
    "torch.backends.cudnn.deterministic = True\n",
    "torch.backends.cudnn.benchmark = False\n",
    "np.random.seed(0)"
   ]
  },
  {
   "cell_type": "code",
   "execution_count": 3,
   "metadata": {
    "ExecuteTime": {
     "end_time": "2020-07-14T13:24:52.828388Z",
     "start_time": "2020-07-14T13:24:52.812869Z"
    }
   },
   "outputs": [],
   "source": [
    "scale_type = 'normalize'\n",
    "scale_by_channel = False\n",
    "scale_by_sample  = True \n",
    "scale_range = (-1, 1)\n",
    "act_fn = 'relu'\n",
    "nf = 64\n",
    "bs = 64\n",
    "pool = nn.AdaptiveAvgPool1d"
   ]
  },
  {
   "cell_type": "markdown",
   "metadata": {
    "heading_collapsed": true
   },
   "source": [
    "# Model"
   ]
  },
  {
   "cell_type": "code",
   "execution_count": 4,
   "metadata": {
    "ExecuteTime": {
     "end_time": "2020-07-14T13:24:52.859192Z",
     "start_time": "2020-07-14T13:24:52.829312Z"
    },
    "hidden": true
   },
   "outputs": [],
   "source": [
    "import torch\n",
    "import torch.nn as nn\n",
    "from models.layers import *\n",
    "\n",
    "# def convlayer(c_in,c_out,ks=3,padding='same',bias=True,stride=1,\n",
    "#               bn_init=False,zero_bn=False,bn_before=True,\n",
    "#               act_fn='relu', dilation=1, **kwargs):\n",
    "#     '''conv layer (padding=\"same\") + bn + act'''\n",
    "#     if ks % 2 == 1 and padding == 'same': padding = ks // 2\n",
    "#     layers = [ConvSP1d(c_in,c_out, ks, bias=bias, stride=stride) if padding == 'same' else \\\n",
    "#     nn.Conv1d(c_in,c_out, ks, stride=stride, padding=padding, bias=bias, dilation=dilation)]\n",
    "#     bn = GhostBatchNorm(num_features=c_out,num_splits=16)\n",
    "#     if bn_init: nn.init.constant_(bn.weight, 0. if zero_bn else 1.)\n",
    "#     if bn_before: layers.append(bn)\n",
    "#     if act_fn: layers.append(get_act_layer(act_fn, **kwargs))\n",
    "#     if not bn_before: layers.append(bn)\n",
    "#     return nn.Sequential(*layers)\n",
    "\n",
    "class GhostBatchNorm(nn.BatchNorm1d):\n",
    "    def __init__(self, num_features, num_splits, eps=1e-05, momentum=0.1, weight_freeze=False, bias_freeze=False, weight_init=1.0, bias_init=0.0):\n",
    "        super().__init__(num_features, eps=eps, momentum=momentum)\n",
    "        self.num_splits = num_splits\n",
    "        if weight_init is not None: self.weight.data.fill_(weight_init)\n",
    "        if bias_init is not None: self.bias.data.fill_(bias_init)\n",
    "        self.weight.requires_grad = not weight_freeze\n",
    "        self.bias.requires_grad = not bias_freeze\n",
    "        self.register_buffer('running_mean', torch.zeros(num_features*self.num_splits))\n",
    "        self.register_buffer('running_var', torch.ones(num_features*self.num_splits))\n",
    "\n",
    "    def train(self, mode=True):\n",
    "        if (self.training is True) and (mode is False): #lazily collate stats when we are going to use them\n",
    "            self.running_mean = torch.mean(self.running_mean.view(self.num_splits, self.num_features), dim=0).repeat(self.num_splits)\n",
    "            self.running_var = torch.mean(self.running_var.view(self.num_splits, self.num_features), dim=0).repeat(self.num_splits)\n",
    "        return super().train(mode)\n",
    "        \n",
    "    def forward(self, input):\n",
    "        N, C, H = input.shape\n",
    "        if self.training or not self.track_running_stats:\n",
    "            return nn.functional.batch_norm(\n",
    "                input.view(-1, C*self.num_splits, H), self.running_mean, self.running_var, \n",
    "                self.weight.repeat(self.num_splits), self.bias.repeat(self.num_splits),\n",
    "                True, self.momentum, self.eps).view(N, C, H) \n",
    "        else:\n",
    "            return nn.functional.batch_norm(\n",
    "                input, self.running_mean[:self.num_features], self.running_var[:self.num_features], \n",
    "                self.weight, self.bias, False, self.momentum, self.eps)\n",
    "\n",
    "class SeModule(nn.Module):\n",
    "    def __init__(self, ch, reduction, act_fn='relu'):\n",
    "        super().__init__()\n",
    "        nf = math.ceil(ch//reduction/8)*8\n",
    "        self.pool = nn.AdaptiveAvgPool1d(1)\n",
    "        self.conv1 = convlayer(ch, nf, 1, act_fn=act_fn)\n",
    "        self.conv2 = convlayer(nf, ch, 1, act_fn=False)\n",
    "        \n",
    "    def forward(self, x):\n",
    "        res = self.pool(x)\n",
    "        res = self.conv1(res)\n",
    "        res = self.conv2(res)\n",
    "        res = nn.functional.sigmoid(res)\n",
    "        return x * res\n",
    " \n",
    "       \n",
    "class ResBlock(nn.Module):\n",
    "    def __init__(self, ni, nf, ks=[7, 5, 3], act_fn='relu'):\n",
    "        super().__init__()\n",
    "        self.conv1 = convlayer(ni, nf, ks[0], act_fn=act_fn)\n",
    "        self.conv2 = convlayer(nf, nf, ks[1], act_fn=act_fn)\n",
    "        self.conv3 = convlayer(nf, nf, ks[2], act_fn=False)\n",
    "        self.se = SeModule(nf, 16, act_fn=act_fn)\n",
    "        # expand channels for the sum if necessary\n",
    "        self.shortcut = noop if ni == nf else convlayer(ni, nf, ks=1, act_fn=False)\n",
    "        self.act_fn = get_act_layer(act_fn)\n",
    "\n",
    "    def forward(self, x):\n",
    "        res = x\n",
    "        x = self.conv1(x)\n",
    "        x = self.conv2(x)\n",
    "        x = self.conv3(x)\n",
    "        # Squeeze and Excitation\n",
    "        x = self.se(x)\n",
    "        # Shortcut\n",
    "        sc = self.shortcut(res)\n",
    "        # Residual\n",
    "        x += sc\n",
    "        x = self.act_fn(x)\n",
    "        return x\n",
    "    \n",
    "class ResNet(nn.Module):\n",
    "    def __init__(self,c_in, c_out, nf=64, pool=nn.AdaptiveAvgPool1d, act_fn='relu'):\n",
    "        super().__init__()\n",
    "        self.block1 = ResBlock(c_in, nf, ks=[7, 5, 3], act_fn=act_fn)\n",
    "        self.block2 = ResBlock(nf, nf * 2, ks=[7, 5, 3], act_fn=act_fn)\n",
    "        self.block3 = ResBlock(nf * 2, nf * 2, ks=[7, 5, 3], act_fn=act_fn)\n",
    "        self.gap = pool(1)\n",
    "        self.fc = nn.Linear(nf * 2, c_out)\n",
    "\n",
    "    def forward(self, x):\n",
    "        x = self.block1(x)\n",
    "        x = self.block2(x)\n",
    "        x = self.block3(x)\n",
    "        x = self.gap(x).squeeze(-1)\n",
    "        return self.fc(x)"
   ]
  },
  {
   "cell_type": "markdown",
   "metadata": {},
   "source": [
    "# Training"
   ]
  },
  {
   "cell_type": "code",
   "execution_count": 5,
   "metadata": {
    "ExecuteTime": {
     "end_time": "2020-07-14T13:24:52.880024Z",
     "start_time": "2020-07-14T13:24:52.860460Z"
    }
   },
   "outputs": [],
   "source": [
    "from fastai.utils.mod_display import *\n",
    "def _resnet_split(m:nn.Module): return (m.block1, m.block2, m.block3, m.fc)\n",
    "def train_and_predict(x, y, x_test):\n",
    "    x_train, x_val, y_train, y_val = train_test_split(x, y, test_size=0.1, random_state=42123456)\n",
    "    data = (ItemLists(Path(\"data\"), TSList(x_train),TSList(x_val))\n",
    "        .label_from_lists(y_train, y_val)\n",
    "        .add_test(TSList(x_test))\n",
    "        .databunch(bs=bs, val_bs=bs * 2)\n",
    "        .scale(scale_type=scale_type, scale_by_channel=scale_by_channel, \n",
    "             scale_by_sample=scale_by_sample,scale_range=scale_range)\n",
    "    )\n",
    "    model = ResNet(data.features, data.c, act_fn=act_fn, nf=nf, pool=pool)\n",
    "    kappa = KappaScore()\n",
    "    loss_func=LabelSmoothingCrossEntropy()\n",
    "    learn = Learner(data, model, metrics=[accuracy], loss_func=loss_func, opt_func=Ranger).to_fp16()\n",
    "    learn.split(_resnet_split)\n",
    "    learn.unfreeze()\n",
    "    with progress_disabled_ctx(learn) as learn:\n",
    "        learn.fit_one_cycle(100)\n",
    "    learn.freeze()\n",
    "    with progress_disabled_ctx(learn) as learn:\n",
    "        learn.fit_one_cycle(50)\n",
    "    print(learn.validate())\n",
    "    preds,y = learn.get_preds(ds_type = DatasetType.Test)\n",
    "    learn.destroy()\n",
    "    return list(preds.argmax(dim=-1))"
   ]
  },
  {
   "cell_type": "code",
   "execution_count": 6,
   "metadata": {
    "ExecuteTime": {
     "end_time": "2020-07-14T13:24:52.897347Z",
     "start_time": "2020-07-14T13:24:52.881021Z"
    }
   },
   "outputs": [
    {
     "data": {
      "text/plain": [
       "[PosixPath('Clinical-Brain-Computer-Interfaces-Challenge-WCCI-2020-Glasgow/parsed_P08T.mat'),\n",
       " PosixPath('Clinical-Brain-Computer-Interfaces-Challenge-WCCI-2020-Glasgow/parsed_P07E.mat'),\n",
       " PosixPath('Clinical-Brain-Computer-Interfaces-Challenge-WCCI-2020-Glasgow/parsed_P04T.mat'),\n",
       " PosixPath('Clinical-Brain-Computer-Interfaces-Challenge-WCCI-2020-Glasgow/parsed_P01T.mat'),\n",
       " PosixPath('Clinical-Brain-Computer-Interfaces-Challenge-WCCI-2020-Glasgow/parsed_P02E.mat'),\n",
       " PosixPath('Clinical-Brain-Computer-Interfaces-Challenge-WCCI-2020-Glasgow/parsed_P03T.mat'),\n",
       " PosixPath('Clinical-Brain-Computer-Interfaces-Challenge-WCCI-2020-Glasgow/parsed_P05T.mat'),\n",
       " PosixPath('Clinical-Brain-Computer-Interfaces-Challenge-WCCI-2020-Glasgow/parsed_P01E.mat'),\n",
       " PosixPath('Clinical-Brain-Computer-Interfaces-Challenge-WCCI-2020-Glasgow/parsed_P04E.mat'),\n",
       " PosixPath('Clinical-Brain-Computer-Interfaces-Challenge-WCCI-2020-Glasgow/parsed_P07T.mat'),\n",
       " PosixPath('Clinical-Brain-Computer-Interfaces-Challenge-WCCI-2020-Glasgow/parsed_P02T.mat'),\n",
       " PosixPath('Clinical-Brain-Computer-Interfaces-Challenge-WCCI-2020-Glasgow/parsed_P06T.mat'),\n",
       " PosixPath('Clinical-Brain-Computer-Interfaces-Challenge-WCCI-2020-Glasgow/parsed_P08E.mat'),\n",
       " PosixPath('Clinical-Brain-Computer-Interfaces-Challenge-WCCI-2020-Glasgow/parsed_P06E.mat'),\n",
       " PosixPath('Clinical-Brain-Computer-Interfaces-Challenge-WCCI-2020-Glasgow/parsed_P09E.mat'),\n",
       " PosixPath('Clinical-Brain-Computer-Interfaces-Challenge-WCCI-2020-Glasgow/parsed_P05E.mat'),\n",
       " PosixPath('Clinical-Brain-Computer-Interfaces-Challenge-WCCI-2020-Glasgow/parsed_P10E.mat'),\n",
       " PosixPath('Clinical-Brain-Computer-Interfaces-Challenge-WCCI-2020-Glasgow/parsed_P03E.mat'),\n",
       " PosixPath('Clinical-Brain-Computer-Interfaces-Challenge-WCCI-2020-Glasgow/README.md')]"
      ]
     },
     "execution_count": 6,
     "metadata": {},
     "output_type": "execute_result"
    }
   ],
   "source": [
    "files = Path(\"Clinical-Brain-Computer-Interfaces-Challenge-WCCI-2020-Glasgow\").ls()\n",
    "files"
   ]
  },
  {
   "cell_type": "code",
   "execution_count": 7,
   "metadata": {
    "ExecuteTime": {
     "end_time": "2020-07-14T13:24:52.912880Z",
     "start_time": "2020-07-14T13:24:52.898237Z"
    }
   },
   "outputs": [],
   "source": [
    "subjects = {}"
   ]
  },
  {
   "cell_type": "code",
   "execution_count": 8,
   "metadata": {
    "ExecuteTime": {
     "end_time": "2020-07-14T13:24:55.605400Z",
     "start_time": "2020-07-14T13:24:52.913764Z"
    }
   },
   "outputs": [],
   "source": [
    "from scipy.io import loadmat\n",
    "for f in files:\n",
    "    if \"mat\" not in str(f):\n",
    "        continue\n",
    "        \n",
    "    sn = f.stem.split(\"_\")[-1][:3]\n",
    "    if sn not in subjects:\n",
    "        subjects[sn]={'train': {'x': [], 'y': []}, 'test': {'x':[]}}\n",
    "        \n",
    "    if \"T.mat\" in str(f):\n",
    "        annots = loadmat(f)\n",
    "        subjects[sn]['train']['x'] += annots['RawEEGData'].tolist()\n",
    "        subjects[sn]['train']['y'] += np.stack(annots['Labels'],axis=1)[0].tolist()\n",
    "    \n",
    "    elif \"E.mat\" in str(f):\n",
    "        annots = loadmat(f)\n",
    "        subjects[sn]['test']['x'] += annots['RawEEGData'].tolist()"
   ]
  },
  {
   "cell_type": "code",
   "execution_count": 9,
   "metadata": {
    "ExecuteTime": {
     "end_time": "2020-07-14T13:24:55.622137Z",
     "start_time": "2020-07-14T13:24:55.606359Z"
    }
   },
   "outputs": [
    {
     "data": {
      "text/plain": [
       "dict_keys(['P08', 'P07', 'P04', 'P01', 'P02', 'P03', 'P05', 'P06', 'P09', 'P10'])"
      ]
     },
     "execution_count": 9,
     "metadata": {},
     "output_type": "execute_result"
    }
   ],
   "source": [
    "subjects.keys()"
   ]
  },
  {
   "cell_type": "code",
   "execution_count": 10,
   "metadata": {
    "ExecuteTime": {
     "end_time": "2020-07-14T13:24:55.664590Z",
     "start_time": "2020-07-14T13:24:55.622979Z"
    }
   },
   "outputs": [
    {
     "data": {
      "text/plain": [
       "dict_keys(['P08', 'P07', 'P04', 'P01', 'P02', 'P03', 'P05', 'P06'])"
      ]
     },
     "execution_count": 10,
     "metadata": {},
     "output_type": "execute_result"
    }
   ],
   "source": [
    "del subjects['P09']\n",
    "del subjects['P10']\n",
    "subjects.keys()"
   ]
  },
  {
   "cell_type": "code",
   "execution_count": 11,
   "metadata": {
    "ExecuteTime": {
     "end_time": "2020-07-14T13:52:12.089189Z",
     "start_time": "2020-07-14T13:24:55.665518Z"
    }
   },
   "outputs": [
    {
     "name": "stdout",
     "output_type": "stream",
     "text": [
      "P08\n",
      "█\r"
     ]
    },
    {
     "data": {
      "text/html": [],
      "text/plain": [
       "<IPython.core.display.HTML object>"
      ]
     },
     "metadata": {},
     "output_type": "display_data"
    },
    {
     "name": "stdout",
     "output_type": "stream",
     "text": [
      "[0.5440176, tensor(1.)]\n"
     ]
    },
    {
     "data": {
      "text/html": [],
      "text/plain": [
       "<IPython.core.display.HTML object>"
      ]
     },
     "metadata": {},
     "output_type": "display_data"
    },
    {
     "name": "stdout",
     "output_type": "stream",
     "text": [
      "this Learner object self-destroyed - it still exists, but no longer usable\n",
      "P07\n",
      "█\r"
     ]
    },
    {
     "data": {
      "text/html": [],
      "text/plain": [
       "<IPython.core.display.HTML object>"
      ]
     },
     "metadata": {},
     "output_type": "display_data"
    },
    {
     "name": "stdout",
     "output_type": "stream",
     "text": [
      "[0.51252186, tensor(0.7500)]\n"
     ]
    },
    {
     "data": {
      "text/html": [],
      "text/plain": [
       "<IPython.core.display.HTML object>"
      ]
     },
     "metadata": {},
     "output_type": "display_data"
    },
    {
     "name": "stdout",
     "output_type": "stream",
     "text": [
      "this Learner object self-destroyed - it still exists, but no longer usable\n",
      "P04\n",
      "█\r"
     ]
    },
    {
     "data": {
      "text/html": [],
      "text/plain": [
       "<IPython.core.display.HTML object>"
      ]
     },
     "metadata": {},
     "output_type": "display_data"
    },
    {
     "name": "stdout",
     "output_type": "stream",
     "text": [
      "[0.43557912, tensor(0.8750)]\n"
     ]
    },
    {
     "data": {
      "text/html": [],
      "text/plain": [
       "<IPython.core.display.HTML object>"
      ]
     },
     "metadata": {},
     "output_type": "display_data"
    },
    {
     "name": "stdout",
     "output_type": "stream",
     "text": [
      "this Learner object self-destroyed - it still exists, but no longer usable\n",
      "P01\n",
      "█\r"
     ]
    },
    {
     "data": {
      "text/html": [],
      "text/plain": [
       "<IPython.core.display.HTML object>"
      ]
     },
     "metadata": {},
     "output_type": "display_data"
    },
    {
     "name": "stdout",
     "output_type": "stream",
     "text": [
      "[0.4046377, tensor(1.)]\n"
     ]
    },
    {
     "data": {
      "text/html": [],
      "text/plain": [
       "<IPython.core.display.HTML object>"
      ]
     },
     "metadata": {},
     "output_type": "display_data"
    },
    {
     "name": "stdout",
     "output_type": "stream",
     "text": [
      "this Learner object self-destroyed - it still exists, but no longer usable\n",
      "P02\n",
      "█\r"
     ]
    },
    {
     "data": {
      "text/html": [],
      "text/plain": [
       "<IPython.core.display.HTML object>"
      ]
     },
     "metadata": {},
     "output_type": "display_data"
    },
    {
     "name": "stdout",
     "output_type": "stream",
     "text": [
      "[0.3641586, tensor(1.)]\n"
     ]
    },
    {
     "data": {
      "text/html": [],
      "text/plain": [
       "<IPython.core.display.HTML object>"
      ]
     },
     "metadata": {},
     "output_type": "display_data"
    },
    {
     "name": "stdout",
     "output_type": "stream",
     "text": [
      "this Learner object self-destroyed - it still exists, but no longer usable\n",
      "P03\n",
      "█\r"
     ]
    },
    {
     "data": {
      "text/html": [],
      "text/plain": [
       "<IPython.core.display.HTML object>"
      ]
     },
     "metadata": {},
     "output_type": "display_data"
    },
    {
     "name": "stdout",
     "output_type": "stream",
     "text": [
      "[0.5760185, tensor(0.6250)]\n"
     ]
    },
    {
     "data": {
      "text/html": [],
      "text/plain": [
       "<IPython.core.display.HTML object>"
      ]
     },
     "metadata": {},
     "output_type": "display_data"
    },
    {
     "name": "stdout",
     "output_type": "stream",
     "text": [
      "this Learner object self-destroyed - it still exists, but no longer usable\n",
      "P05\n",
      "█\r"
     ]
    },
    {
     "data": {
      "text/html": [],
      "text/plain": [
       "<IPython.core.display.HTML object>"
      ]
     },
     "metadata": {},
     "output_type": "display_data"
    },
    {
     "name": "stdout",
     "output_type": "stream",
     "text": [
      "[0.84325457, tensor(0.5000)]\n"
     ]
    },
    {
     "data": {
      "text/html": [],
      "text/plain": [
       "<IPython.core.display.HTML object>"
      ]
     },
     "metadata": {},
     "output_type": "display_data"
    },
    {
     "name": "stdout",
     "output_type": "stream",
     "text": [
      "this Learner object self-destroyed - it still exists, but no longer usable\n",
      "P06\n",
      "█\r"
     ]
    },
    {
     "data": {
      "text/html": [],
      "text/plain": [
       "<IPython.core.display.HTML object>"
      ]
     },
     "metadata": {},
     "output_type": "display_data"
    },
    {
     "name": "stdout",
     "output_type": "stream",
     "text": [
      "[0.5455694, tensor(0.8750)]\n"
     ]
    },
    {
     "data": {
      "text/html": [],
      "text/plain": [
       "<IPython.core.display.HTML object>"
      ]
     },
     "metadata": {},
     "output_type": "display_data"
    },
    {
     "name": "stdout",
     "output_type": "stream",
     "text": [
      "this Learner object self-destroyed - it still exists, but no longer usable\n"
     ]
    }
   ],
   "source": [
    "with pd.ExcelWriter('Jin_Andry_WithinSubject.xlsx') as writer:\n",
    "    for name, data in subjects.items():\n",
    "        x = np.array(data['train']['x'])\n",
    "        y = np.array(data['train']['y'])\n",
    "        x_test = np.array(data['test']['x'])\n",
    "        print(name)\n",
    "        pred_list = train_and_predict(x, y, x_test)\n",
    "        preds_json = [ {\n",
    "            'Subject Name':name, \n",
    "            'Trial Index': i+1, \n",
    "            'Prediction': (p+1).cpu().numpy() \n",
    "        } for i, p in enumerate(pred_list) ]\n",
    "        df = pd.DataFrame(preds_json)\n",
    "        df.to_excel(writer, sheet_name=name, index=None)"
   ]
  },
  {
   "cell_type": "code",
   "execution_count": null,
   "metadata": {},
   "outputs": [],
   "source": []
  }
 ],
 "metadata": {
  "hide_input": false,
  "kernelspec": {
   "display_name": "Python 3",
   "language": "python",
   "name": "python3"
  },
  "language_info": {
   "codemirror_mode": {
    "name": "ipython",
    "version": 3
   },
   "file_extension": ".py",
   "mimetype": "text/x-python",
   "name": "python",
   "nbconvert_exporter": "python",
   "pygments_lexer": "ipython3",
   "version": "3.7.7"
  },
  "latex_envs": {
   "LaTeX_envs_menu_present": true,
   "autoclose": false,
   "autocomplete": true,
   "bibliofile": "biblio.bib",
   "cite_by": "apalike",
   "current_citInitial": 1,
   "eqLabelWithNumbers": true,
   "eqNumInitial": 1,
   "hotkeys": {
    "equation": "Ctrl-E",
    "itemize": "Ctrl-I"
   },
   "labels_anchors": false,
   "latex_user_defs": false,
   "report_style_numbering": false,
   "user_envs_cfg": false
  },
  "toc": {
   "base_numbering": 1,
   "nav_menu": {},
   "number_sections": true,
   "sideBar": true,
   "skip_h1_title": false,
   "title_cell": "Table of Contents",
   "title_sidebar": "Contents",
   "toc_cell": false,
   "toc_position": {},
   "toc_section_display": true,
   "toc_window_display": false
  },
  "varInspector": {
   "cols": {
    "lenName": 16,
    "lenType": 16,
    "lenVar": 40
   },
   "kernels_config": {
    "python": {
     "delete_cmd_postfix": "",
     "delete_cmd_prefix": "del ",
     "library": "var_list.py",
     "varRefreshCmd": "print(var_dic_list())"
    },
    "r": {
     "delete_cmd_postfix": ") ",
     "delete_cmd_prefix": "rm(",
     "library": "var_list.r",
     "varRefreshCmd": "cat(var_dic_list()) "
    }
   },
   "types_to_exclude": [
    "module",
    "function",
    "builtin_function_or_method",
    "instance",
    "_Feature"
   ],
   "window_display": false
  }
 },
 "nbformat": 4,
 "nbformat_minor": 2
}
