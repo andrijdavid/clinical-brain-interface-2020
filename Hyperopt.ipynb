{
 "cells": [
  {
   "cell_type": "code",
   "execution_count": 1,
   "metadata": {
    "ExecuteTime": {
     "end_time": "2020-07-05T20:26:19.087772Z",
     "start_time": "2020-07-05T20:26:17.649151Z"
    }
   },
   "outputs": [
    {
     "name": "stderr",
     "output_type": "stream",
     "text": [
      "/opt/anaconda/envs/pytorch/lib/python3.7/site-packages/google/colab/data_table.py:30: UserWarning: IPython.utils.traitlets has moved to a top-level traitlets package.\n",
      "  from IPython.utils import traitlets as _traitlets\n"
     ]
    },
    {
     "data": {
      "text/html": [
       "<style>.container { width:100% !important; }</style>"
      ],
      "text/plain": [
       "<IPython.core.display.HTML object>"
      ]
     },
     "metadata": {},
     "output_type": "display_data"
    }
   ],
   "source": [
    "import numpy as np\n",
    "from hyperopt import hp, fmin, tpe, space_eval, pyll, STATUS_OK, Trials\n",
    "from hyperopt.mongoexp import MongoTrials\n",
    "from timeseries import *\n",
    "from models import *\n",
    "import pickle \n",
    "import numpy as np\n",
    "from sklearn.model_selection import train_test_split\n",
    "import torch\n",
    "import torch.nn as nn\n",
    "from models.layers import *\n",
    "import neptune\n",
    "from neptunecontrib.monitoring.fastai import NeptuneMonitor\n",
    "from objective import obj, objfcn, obj2"
   ]
  },
  {
   "cell_type": "code",
   "execution_count": 11,
   "metadata": {
    "ExecuteTime": {
     "end_time": "2020-07-05T20:43:09.798492Z",
     "start_time": "2020-07-05T20:43:09.795767Z"
    }
   },
   "outputs": [],
   "source": [
    "from fastai.vision import *"
   ]
  },
  {
   "cell_type": "code",
   "execution_count": 13,
   "metadata": {
    "ExecuteTime": {
     "end_time": "2020-07-05T20:43:26.196834Z",
     "start_time": "2020-07-05T20:43:26.154208Z"
    }
   },
   "outputs": [],
   "source": [
    "Learner.fit_one_cycle??"
   ]
  },
  {
   "cell_type": "code",
   "execution_count": 2,
   "metadata": {
    "ExecuteTime": {
     "end_time": "2020-07-05T20:26:19.105191Z",
     "start_time": "2020-07-05T20:26:19.101835Z"
    }
   },
   "outputs": [],
   "source": [
    "space = ( \n",
    "    hp.choice('nf', [32, 64, 128]),\n",
    "    hp.choice('pool', [nn.AdaptiveAvgPool1d, nn.AdaptiveMaxPool1d]),\n",
    "    hp.choice('act_fn', ['relu', 'leakyrelu', 'prelu', 'elu', 'mish', 'swish']),\n",
    "    hp.choice('scale_by_channel', [True, False]),\n",
    "    hp.choice('scale_by_sample', [True, False]),\n",
    "    hp.choice('scale_type', ['standardize', 'normalize']),\n",
    "    hp.choice('randaugment', [True, False]),\n",
    ")"
   ]
  },
  {
   "cell_type": "code",
   "execution_count": 3,
   "metadata": {
    "ExecuteTime": {
     "end_time": "2020-07-05T20:26:20.206471Z",
     "start_time": "2020-07-05T20:26:20.201388Z"
    }
   },
   "outputs": [],
   "source": [
    "space1 = ( \n",
    "    hp.choice('d1', [2,3]),\n",
    "    hp.choice('d2', [2,3]),\n",
    "    hp.choice('act_fn', ['relu', 'leakyrelu', 'prelu', 'elu', 'mish', 'swish']),\n",
    "    hp.choice('scale_by_channel', [True, False]),\n",
    "    hp.choice('scale_by_sample', [True, False]),\n",
    "    hp.choice('scale_type', ['standardize', 'normalize']),\n",
    "    hp.choice('randaugment', [True, False]),\n",
    ")"
   ]
  },
  {
   "cell_type": "code",
   "execution_count": 4,
   "metadata": {
    "ExecuteTime": {
     "end_time": "2020-07-05T20:26:20.546676Z",
     "start_time": "2020-07-05T20:26:20.542492Z"
    }
   },
   "outputs": [],
   "source": [
    "space2 = ( \n",
    "    hp.choice('nf', [64, 128]),\n",
    "    hp.choice('act_fn', ['relu', 'leakyrelu', 'prelu', 'mish', 'swish']),\n",
    "    hp.choice('scale_by_channel', [True, False]),\n",
    "    hp.choice('scale_by_sample', [True, False]),\n",
    "    hp.choice('scale_type', ['standardize', 'normalize'])\n",
    ")"
   ]
  },
  {
   "cell_type": "code",
   "execution_count": null,
   "metadata": {
    "ExecuteTime": {
     "end_time": "2020-05-28T13:34:00.747949Z",
     "start_time": "2020-05-28T13:34:00.622316Z"
    }
   },
   "outputs": [],
   "source": [
    "trials = MongoTrials(\"mongo://localhost:32770/hyperopt14/jobs\", exp_key='brain_resnet')"
   ]
  },
  {
   "cell_type": "code",
   "execution_count": null,
   "metadata": {
    "ExecuteTime": {
     "end_time": "2020-05-30T10:08:04.729412Z",
     "start_time": "2020-05-30T10:08:04.720574Z"
    }
   },
   "outputs": [],
   "source": [
    "trials1 = MongoTrials(\"mongo://localhost:32770/hyperopt14/jobs\", exp_key='brain_fcn1')"
   ]
  },
  {
   "cell_type": "code",
   "execution_count": 16,
   "metadata": {
    "ExecuteTime": {
     "end_time": "2020-07-05T20:54:59.327649Z",
     "start_time": "2020-07-05T20:54:59.206936Z"
    }
   },
   "outputs": [],
   "source": [
    "trials2 = MongoTrials(\"mongo://localhost:32770/hyperopt19/jobs\", exp_key='brain_resnet21')"
   ]
  },
  {
   "cell_type": "code",
   "execution_count": null,
   "metadata": {
    "ExecuteTime": {
     "start_time": "2020-07-05T20:54:13.240Z"
    }
   },
   "outputs": [
    {
     "name": "stdout",
     "output_type": "stream",
     "text": [
      "\r",
      "  0%|          | 0/200 [00:00<?, ?it/s, best loss: ?]"
     ]
    },
    {
     "name": "stderr",
     "output_type": "stream",
     "text": [
      "no last_id found, re-trying\n",
      "\n"
     ]
    },
    {
     "name": "stdout",
     "output_type": "stream",
     "text": [
      "763it [12:46,  1.00s/it, best loss: ?]                         "
     ]
    }
   ],
   "source": [
    "best = fmin(obj2, space2, algo=tpe.suggest, max_evals=200, trials=trials2)"
   ]
  },
  {
   "cell_type": "code",
   "execution_count": null,
   "metadata": {
    "ExecuteTime": {
     "end_time": "2020-05-30T09:33:59.040626Z",
     "start_time": "2020-05-30T09:33:59.036919Z"
    }
   },
   "outputs": [],
   "source": [
    "trials.best_trial"
   ]
  },
  {
   "cell_type": "code",
   "execution_count": null,
   "metadata": {},
   "outputs": [],
   "source": []
  }
 ],
 "metadata": {
  "hide_input": false,
  "kernelspec": {
   "display_name": "Python 3",
   "language": "python",
   "name": "python3"
  },
  "language_info": {
   "codemirror_mode": {
    "name": "ipython",
    "version": 3
   },
   "file_extension": ".py",
   "mimetype": "text/x-python",
   "name": "python",
   "nbconvert_exporter": "python",
   "pygments_lexer": "ipython3",
   "version": "3.7.7"
  },
  "latex_envs": {
   "LaTeX_envs_menu_present": true,
   "autoclose": false,
   "autocomplete": true,
   "bibliofile": "biblio.bib",
   "cite_by": "apalike",
   "current_citInitial": 1,
   "eqLabelWithNumbers": true,
   "eqNumInitial": 1,
   "hotkeys": {
    "equation": "Ctrl-E",
    "itemize": "Ctrl-I"
   },
   "labels_anchors": false,
   "latex_user_defs": false,
   "report_style_numbering": false,
   "user_envs_cfg": false
  },
  "toc": {
   "base_numbering": 1,
   "nav_menu": {},
   "number_sections": true,
   "sideBar": true,
   "skip_h1_title": false,
   "title_cell": "Table of Contents",
   "title_sidebar": "Contents",
   "toc_cell": false,
   "toc_position": {},
   "toc_section_display": true,
   "toc_window_display": false
  },
  "varInspector": {
   "cols": {
    "lenName": 16,
    "lenType": 16,
    "lenVar": 40
   },
   "kernels_config": {
    "python": {
     "delete_cmd_postfix": "",
     "delete_cmd_prefix": "del ",
     "library": "var_list.py",
     "varRefreshCmd": "print(var_dic_list())"
    },
    "r": {
     "delete_cmd_postfix": ") ",
     "delete_cmd_prefix": "rm(",
     "library": "var_list.r",
     "varRefreshCmd": "cat(var_dic_list()) "
    }
   },
   "types_to_exclude": [
    "module",
    "function",
    "builtin_function_or_method",
    "instance",
    "_Feature"
   ],
   "window_display": false
  }
 },
 "nbformat": 4,
 "nbformat_minor": 2
}
