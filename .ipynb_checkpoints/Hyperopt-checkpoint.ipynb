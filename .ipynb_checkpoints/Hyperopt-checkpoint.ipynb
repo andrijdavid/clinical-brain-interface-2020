{
 "cells": [
  {
   "cell_type": "code",
   "execution_count": null,
   "metadata": {
    "ExecuteTime": {
     "end_time": "2020-05-28T11:45:09.111052Z",
     "start_time": "2020-05-28T11:45:07.699097Z"
    }
   },
   "outputs": [],
   "source": [
    "import numpy as np\n",
    "from hyperopt import hp, fmin, tpe, space_eval, pyll, STATUS_OK, Trials\n",
    "from hyperopt.mongoexp import MongoTrials\n",
    "from timeseries import *\n",
    "from models import *\n",
    "import pickle \n",
    "import numpy as np\n",
    "from sklearn.model_selection import train_test_split\n",
    "import torch\n",
    "import torch.nn as nn\n",
    "from models.layers import *\n",
    "import neptune\n",
    "from neptunecontrib.monitoring.fastai import NeptuneMonitor\n",
    "from objective import obj"
   ]
  },
  {
   "cell_type": "code",
   "execution_count": null,
   "metadata": {
    "ExecuteTime": {
     "end_time": "2020-05-28T11:45:09.115956Z",
     "start_time": "2020-05-28T11:45:09.112458Z"
    }
   },
   "outputs": [],
   "source": [
    "space = ( \n",
    "    hp.choice('nf', [32, 64, 128]),\n",
    "    hp.choice('pool', [nn.AdaptiveAvgPool1d, nn.AdaptiveMaxPool1d]),\n",
    "    hp.choice('act_fn', ['relu', 'leakyrelu', 'prelu', 'elu', 'mish', 'swish']),\n",
    "    hp.choice('scale_by_channel', [True, False]),\n",
    "    hp.choice('scale_by_sample', [True, False]),\n",
    "    hp.choice('scale_type', ['standardize', 'normalize']),\n",
    "    hp.choice('randaugment', [True, False]),\n",
    ")"
   ]
  },
  {
   "cell_type": "code",
   "execution_count": null,
   "metadata": {
    "ExecuteTime": {
     "end_time": "2020-05-28T11:45:09.279220Z",
     "start_time": "2020-05-28T11:45:09.116964Z"
    }
   },
   "outputs": [],
   "source": [
    "trials = MongoTrials(\"mongo://localhost:32770/hyperopt9/jobs\", exp_key='brain_resnet')"
   ]
  },
  {
   "cell_type": "code",
   "execution_count": null,
   "metadata": {
    "ExecuteTime": {
     "start_time": "2020-05-28T11:44:34.668Z"
    }
   },
   "outputs": [],
   "source": [
    "best = fmin(obj, space, algo=tpe.suggest, max_evals=1000, trials=trials)"
   ]
  },
  {
   "cell_type": "code",
   "execution_count": null,
   "metadata": {
    "ExecuteTime": {
     "start_time": "2020-05-28T11:44:34.669Z"
    }
   },
   "outputs": [],
   "source": [
    "trials.best_trial"
   ]
  }
 ],
 "metadata": {
  "hide_input": false,
  "kernelspec": {
   "display_name": "Python 3",
   "language": "python",
   "name": "python3"
  },
  "language_info": {
   "codemirror_mode": {
    "name": "ipython",
    "version": 3
   },
   "file_extension": ".py",
   "mimetype": "text/x-python",
   "name": "python",
   "nbconvert_exporter": "python",
   "pygments_lexer": "ipython3",
   "version": "3.7.5"
  },
  "latex_envs": {
   "LaTeX_envs_menu_present": true,
   "autoclose": false,
   "autocomplete": true,
   "bibliofile": "biblio.bib",
   "cite_by": "apalike",
   "current_citInitial": 1,
   "eqLabelWithNumbers": true,
   "eqNumInitial": 1,
   "hotkeys": {
    "equation": "Ctrl-E",
    "itemize": "Ctrl-I"
   },
   "labels_anchors": false,
   "latex_user_defs": false,
   "report_style_numbering": false,
   "user_envs_cfg": false
  },
  "toc": {
   "base_numbering": 1,
   "nav_menu": {},
   "number_sections": true,
   "sideBar": true,
   "skip_h1_title": false,
   "title_cell": "Table of Contents",
   "title_sidebar": "Contents",
   "toc_cell": false,
   "toc_position": {},
   "toc_section_display": true,
   "toc_window_display": false
  },
  "varInspector": {
   "cols": {
    "lenName": 16,
    "lenType": 16,
    "lenVar": 40
   },
   "kernels_config": {
    "python": {
     "delete_cmd_postfix": "",
     "delete_cmd_prefix": "del ",
     "library": "var_list.py",
     "varRefreshCmd": "print(var_dic_list())"
    },
    "r": {
     "delete_cmd_postfix": ") ",
     "delete_cmd_prefix": "rm(",
     "library": "var_list.r",
     "varRefreshCmd": "cat(var_dic_list()) "
    }
   },
   "types_to_exclude": [
    "module",
    "function",
    "builtin_function_or_method",
    "instance",
    "_Feature"
   ],
   "window_display": false
  }
 },
 "nbformat": 4,
 "nbformat_minor": 2
}
